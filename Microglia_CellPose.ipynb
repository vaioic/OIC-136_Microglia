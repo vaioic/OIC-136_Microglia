{
 "cells": [
  {
   "cell_type": "code",
   "execution_count": 1,
   "id": "e9ab2301-00b8-471d-bcaf-e8edea487087",
   "metadata": {},
   "outputs": [],
   "source": [
    "import skimage as sk\n",
    "from skimage.io import imread, imshow, imsave\n",
    "import numpy as np\n",
    "import os\n",
    "from glob import glob\n",
    "import napari\n",
    "from cellpose import models, io, utils\n",
    "from cellpose.io import imread\n",
    "import matplotlib.pyplot as plt\n",
    "import pandas as pd"
   ]
  },
  {
   "cell_type": "code",
   "execution_count": null,
   "id": "08d8ac11-10f8-4e9c-b282-a4a81e58ab74",
   "metadata": {},
   "outputs": [],
   "source": [
    "def get_measurements(mask,img,props):\n",
    "    df = sk.measure.regionprops_table(mask,img,properties=props)\n",
    "    return df"
   ]
  },
  {
   "cell_type": "code",
   "execution_count": null,
   "id": "94d11884-e065-4c27-b36e-0a4411884def",
   "metadata": {},
   "outputs": [],
   "source": [
    "def scaled_vol(df,voxel):\n",
    "    scaled_vol = []\n",
    "    for a in np.asarray(df['area']).astype(int):\n",
    "        scaled_vol.append(a*voxel)\n",
    "    vol_df = pd.Series(scaled_vol,name='Volume (um^3)')\n",
    "    scaled_df = pd.concat([df,vol_df],axis=1)\n",
    "    return scaled_df"
   ]
  },
  {
   "cell_type": "code",
   "execution_count": null,
   "id": "ae03f51d-fb5d-4e01-b00a-782a24b16a80",
   "metadata": {},
   "outputs": [],
   "source": [
    "def get_3D_surfacearea(mask_img,scaled_df):\n",
    "    array = []\n",
    "    for i in np.asarray(scaled_df['label']).astype(int):\n",
    "        obj = mask_img == i\n",
    "        verts, faces, _ , _ = sk.measure.marching_cubes(obj, level=0.0)\n",
    "        surf_area = sk.measure.mesh_surface_area(verts, faces)\n",
    "        array.append(surf_area)\n",
    "    surface_areas = pd.Series(array,name='Surface_Area (um^2)')\n",
    "    merged_df = pd.concat([scaled_df,surface_areas], axis=1)\n",
    "    return merged_df"
   ]
  },
  {
   "cell_type": "code",
   "execution_count": null,
   "id": "1f43f53d-ada7-4e12-909f-a35d80379ead",
   "metadata": {},
   "outputs": [],
   "source": [
    "def save(save_path, img_name, masks, flows, merged_df):\n",
    "    # make directories if they do not exist\n",
    "    try:\n",
    "        masks_path = os.mkdir(os.path.join(save_path,'masks'))\n",
    "        flows_path = os.mkdir(os.path.join(save_path,'flows'))\n",
    "        dataframe_path = os.mkdir(os.path.join(save_path,'measurements'))\n",
    "    # use the expected paths if the directories exist already\n",
    "    except:\n",
    "        masks_path = os.path.join(save_path,'masks')\n",
    "        flows_path = os.path.join(save_path,'flows')\n",
    "        dataframe_path = os.path.join(save_path,'measurements')\n",
    "    imsave(os.path.join(masks_path,'masks_'+img_name[:-4]+'.tif'),mask_img)\n",
    "    imsave(os.path.join(selected_spots_path,'flows_'+img_name[:-4]+'.tif'),selected_spots)\n",
    "    merged_df.to_csv(os.path.join(dataframe_path,'measurements_'+img_name[:-4]+'.csv'))"
   ]
  },
  {
   "cell_type": "code",
   "execution_count": 2,
   "id": "8a7e6cd9-b881-4dde-9153-9bba41ecf225",
   "metadata": {},
   "outputs": [],
   "source": [
    "CMO_files = sorted(glob('E:/ParadaKusz_Lab/TIF_Files/Control_MO/*.tif'))\n",
    "GMO_1ng_files = sorted(glob('E:/ParadaKusz_Lab/TIF_Files/GNAS_MO_1ng/*.tif'))\n",
    "GMO_2ng_files = sorted(glob('E:/ParadaKusz_Lab/TIF_Files/GNAS_MO_2ng/*.tif'))"
   ]
  },
  {
   "cell_type": "code",
   "execution_count": 3,
   "id": "10fd57ea-4c38-4670-ba76-821e7b93b6b6",
   "metadata": {},
   "outputs": [],
   "source": [
    "CMO_imgs = list(map(sk.io.imread,CMO_files))\n",
    "GMO_1ng_imgs = list(map(sk.io.imread,GMO_1ng_files))\n",
    "GMO_2ng_imgs = list(map(sk.io.imread,GMO_2ng_files))"
   ]
  },
  {
   "cell_type": "code",
   "execution_count": 4,
   "id": "955373b2-4e55-4de2-8da7-12f3ea8f7c93",
   "metadata": {},
   "outputs": [],
   "source": [
    "all_files = sorted(glob('E:/ParadaKusz_Lab/Test_Outputs/background_subtracted_imgs/*.tif'))\n",
    "all_img = list(map(sk.io.imread,all_files))"
   ]
  },
  {
   "cell_type": "code",
   "execution_count": 6,
   "id": "10236a14-d263-46dc-b7aa-ee6d0066ec6c",
   "metadata": {},
   "outputs": [
    {
     "data": {
      "text/plain": [
       "(44, 2048, 2048)"
      ]
     },
     "execution_count": 6,
     "metadata": {},
     "output_type": "execute_result"
    }
   ],
   "source": [
    "GMO_2ng_imgs[1].shape"
   ]
  },
  {
   "cell_type": "code",
   "execution_count": 15,
   "id": "6634c8b7-5eaa-4875-91dd-100f67170759",
   "metadata": {},
   "outputs": [
    {
     "name": "stdout",
     "output_type": "stream",
     "text": [
      "creating new log file\n",
      "2025-05-14 11:08:42,633 [INFO] WRITING LOG OUTPUT TO C:\\Users\\kristin.gallik\\.cellpose\\run.log\n",
      "2025-05-14 11:08:42,634 [INFO] \n",
      "cellpose version: \t3.1.1.1 \n",
      "platform:       \twin32 \n",
      "python version: \t3.10.16 \n",
      "torch version:  \t2.6.0+cu118\n",
      "2025-05-14 11:08:42,637 [INFO] ** TORCH CUDA version installed and working. **\n",
      "2025-05-14 11:08:42,638 [INFO] >>>> using GPU (CUDA)\n",
      "2025-05-14 11:08:42,640 [INFO] >> cyto3 << model set to be used\n",
      "2025-05-14 11:08:42,771 [INFO] >>>> loading model C:\\Users\\kristin.gallik\\.cellpose\\models\\cyto3\n",
      "2025-05-14 11:08:43,012 [INFO] >>>> model diam_mean =  30.000 (ROIs rescaled to this size during training)\n",
      "2025-05-14 11:08:43,017 [INFO] channels set to [[0, 0]]\n",
      "2025-05-14 11:08:43,017 [INFO] ~~~ FINDING MASKS ~~~\n",
      "2025-05-14 11:08:43,019 [INFO] multi-stack tiff read in as having 32 planes 1 channels\n",
      "2025-05-14 11:08:44,545 [INFO] 0%|          | 0/32 [00:00<?, ?it/s]\n",
      "2025-05-14 11:08:51,129 [INFO] 100%|##########| 32/32 [00:06<00:00,  4.86it/s]\n",
      "2025-05-14 11:08:52,197 [INFO] network run in 7.65s\n",
      "2025-05-14 11:08:52,197 [INFO] 0%|          | 0/32 [00:00<?, ?it/s]\n",
      "2025-05-14 11:09:18,937 [INFO] 100%|##########| 32/32 [00:26<00:00,  1.20it/s]\n",
      "2025-05-14 11:09:18,937 [INFO] stitching 32 planes using stitch_threshold=0.300 to make 3D masks\n"
     ]
    },
    {
     "name": "stderr",
     "output_type": "stream",
     "text": [
      "100%|█████████████████████████████████████████████████████████████████████████████████████████| 31/31 [00:00<00:00, 32.23it/s]\n"
     ]
    },
    {
     "name": "stdout",
     "output_type": "stream",
     "text": [
      "2025-05-14 11:09:20,433 [INFO] masks created in 28.24s\n",
      "2025-05-14 11:09:31,188 [INFO] >>>> TOTAL TIME 48.17 sec\n"
     ]
    }
   ],
   "source": [
    "io.logger_setup()\n",
    "model = models.Cellpose(gpu=True,model_type='cyto3') # model_type='cyto' or 'nuclei' or 'cyto2' or 'cyto3'\n",
    "channels =[[0,0]]\n",
    "masks, flows, styles, diams = model.eval(all_img[1], diameter=70, channels=channels, z_axis=0,stitch_threshold=0.3,flow_threshold=0.4,cellprob_threshold=-2.0)"
   ]
  },
  {
   "cell_type": "code",
   "execution_count": 16,
   "id": "2f4c04b1-35f1-4d03-bf8c-3bcb4471abf4",
   "metadata": {},
   "outputs": [
    {
     "data": {
      "text/plain": [
       "<Image layer 'masks' at 0x1d5d97b1e40>"
      ]
     },
     "execution_count": 16,
     "metadata": {},
     "output_type": "execute_result"
    }
   ],
   "source": [
    "viewer = napari.view_image(all_img[1], name='img', scale = (4.55,0.3,0.3))\n",
    "viewer.add_image(masks,name='masks', scale = (4.55,0.3,0.3))"
   ]
  },
  {
   "cell_type": "code",
   "execution_count": null,
   "id": "82097fc6-7925-433b-8624-b20e5ba8800a",
   "metadata": {},
   "outputs": [],
   "source": []
  }
 ],
 "metadata": {
  "kernelspec": {
   "display_name": "CellPose",
   "language": "python",
   "name": "cellpose"
  },
  "language_info": {
   "codemirror_mode": {
    "name": "ipython",
    "version": 3
   },
   "file_extension": ".py",
   "mimetype": "text/x-python",
   "name": "python",
   "nbconvert_exporter": "python",
   "pygments_lexer": "ipython3",
   "version": "3.10.16"
  }
 },
 "nbformat": 4,
 "nbformat_minor": 5
}
