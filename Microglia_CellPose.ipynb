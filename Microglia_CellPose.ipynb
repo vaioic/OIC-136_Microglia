{
 "cells": [
  {
   "cell_type": "markdown",
   "id": "282a7505-179c-47da-8588-4d05cb32bff9",
   "metadata": {},
   "source": [
    "# Set up"
   ]
  },
  {
   "cell_type": "markdown",
   "id": "6e27f4c7-624e-4d34-a3a3-04863cbdfc14",
   "metadata": {},
   "source": [
    "### Import Python packages to use in the script"
   ]
  },
  {
   "cell_type": "code",
   "execution_count": 1,
   "id": "e9ab2301-00b8-471d-bcaf-e8edea487087",
   "metadata": {},
   "outputs": [],
   "source": [
    "import skimage as sk\n",
    "from skimage.io import imread, imshow, imsave\n",
    "import numpy as np\n",
    "import os\n",
    "from glob import glob\n",
    "import napari\n",
    "from cellpose import models, io, utils\n",
    "import pandas as pd\n",
    "import pyclesperanto as cle\n",
    "import skan"
   ]
  },
  {
   "cell_type": "markdown",
   "id": "0c968486-314c-4cea-a6d8-0c8c385c355f",
   "metadata": {},
   "source": [
    "### Define the functions that will run different steps/tasks on the data"
   ]
  },
  {
   "cell_type": "markdown",
   "id": "3a0297b8-27ca-4f8a-bf04-da563e3f7f62",
   "metadata": {},
   "source": [
    "Need to select which GPU device to send data to"
   ]
  },
  {
   "cell_type": "code",
   "execution_count": 2,
   "id": "b8cf0bad-85a8-4ddd-8147-b35a488e33b4",
   "metadata": {},
   "outputs": [
    {
     "data": {
      "text/plain": [
       "(OpenCL) NVIDIA RTX A4000 (OpenCL 3.0 CUDA)\n",
       "\tVendor:                      NVIDIA Corporation\n",
       "\tDriver Version:              573.24\n",
       "\tDevice Type:                 GPU\n",
       "\tCompute Units:               48\n",
       "\tGlobal Memory Size:          16375 MB\n",
       "\tLocal Memory Size:           0 MB\n",
       "\tMaximum Buffer Size:         4093 MB\n",
       "\tMax Clock Frequency:         1560 MHz\n",
       "\tImage Support:               Yes"
      ]
     },
     "execution_count": 2,
     "metadata": {},
     "output_type": "execute_result"
    }
   ],
   "source": [
    "cle.select_device(\"NVIDIA\")"
   ]
  },
  {
   "cell_type": "code",
   "execution_count": 18,
   "id": "518f7ec7-9a5e-4c20-a057-1ac303dbfd43",
   "metadata": {},
   "outputs": [],
   "source": [
    "def normalize_images(input_image,tophat_radius):\n",
    "    input_gpu = cle.push(input_image)\n",
    "    #normalizing the image stack\n",
    "    equalized_intensities_stack = cle.create_like(input_gpu)\n",
    "    a_slice = cle.create([input_gpu.shape[1], input_gpu.shape[2]])\n",
    "    num_slices = input_gpu.shape[0]\n",
    "    mean_intensity_stack = cle.mean_of_all_pixels(input_gpu)\n",
    "    corrected_slice = None\n",
    "    for z in range(0, num_slices):\n",
    "        # get a single slice out of the stack\n",
    "        cle.copy_slice(input_gpu, a_slice, z)\n",
    "        # measure its intensity\n",
    "        mean_intensity_slice = cle.mean_of_all_pixels(a_slice)\n",
    "        # correct the intensity\n",
    "        correction_factor = mean_intensity_slice/mean_intensity_stack\n",
    "        corrected_slice = cle.multiply_image_and_scalar(a_slice, corrected_slice, correction_factor)\n",
    "        # copy slice back in a stack\n",
    "        cle.copy_slice(corrected_slice, equalized_intensities_stack, z)\n",
    "    #background subtraction (increase the signal to noise ratio for improved segmentation results)\n",
    "    background_subtracted_top_hat = cle.top_hat_sphere(equalized_intensities_stack,radius_x=tophat_radius,radius_y=tophat_radius,radius_z=tophat_radius)\n",
    "    #pull data off gpu\n",
    "    input_pull = cle.pull(input_gpu)\n",
    "    background_subtracted_top_hat_pull = cle.pull(background_subtracted_top_hat)\n",
    "    equalized_intensities_stack_pull = cle.pull(equalized_intensities_stack)\n",
    "    return background_subtracted_top_hat_pull"
   ]
  },
  {
   "cell_type": "code",
   "execution_count": 38,
   "id": "08d8ac11-10f8-4e9c-b282-a4a81e58ab74",
   "metadata": {},
   "outputs": [],
   "source": [
    "def get_measurements(mask,img,props):\n",
    "    filtered_masks = sk.segmentation.clear_border(mask)\n",
    "    df = sk.measure.regionprops_table(filtered_masks,img,properties=props)\n",
    "    df = pd.DataFrame.from_dict(df)\n",
    "    return filtered_masks, df"
   ]
  },
  {
   "cell_type": "code",
   "execution_count": 20,
   "id": "94d11884-e065-4c27-b36e-0a4411884def",
   "metadata": {},
   "outputs": [],
   "source": [
    "def scaled_vol(df,voxel):\n",
    "    scaled_vol = []\n",
    "    for a in np.asarray(df['area']).astype(int):\n",
    "        scaled_vol.append(a*voxel)\n",
    "    vol_df = pd.Series(scaled_vol,name='Volume (um^3)')\n",
    "    scaled_df = pd.concat([df,vol_df],axis=1)\n",
    "    return scaled_df"
   ]
  },
  {
   "cell_type": "code",
   "execution_count": 30,
   "id": "f225487d-8da7-4375-b0dc-c9610c0e2083",
   "metadata": {},
   "outputs": [
    {
     "data": {
      "text/plain": [
       "(11, 2048, 2048)"
      ]
     },
     "execution_count": 30,
     "metadata": {},
     "output_type": "execute_result"
    }
   ],
   "source": [
    "all_img[0].shape"
   ]
  },
  {
   "cell_type": "code",
   "execution_count": 48,
   "id": "ae03f51d-fb5d-4e01-b00a-782a24b16a80",
   "metadata": {},
   "outputs": [],
   "source": [
    "def get_3D_surfacearea_and_sphericity(mask_img,scaled_df):\n",
    "    surf_area_list = []\n",
    "    sphiricity_list = []\n",
    "    vol = np.asarray(scaled_df['Volume (um^3)']).astype(np.float64)\n",
    "    c = 0\n",
    "    for i in np.asarray(scaled_df['label']).astype(int):\n",
    "        obj = mask_img == i\n",
    "        verts, faces, _ , _ = sk.measure.marching_cubes(obj, level=0.0,spacing=(voxel_size_z,voxel_size_x,voxel_size_y))\n",
    "        surf_area = sk.measure.mesh_surface_area(verts, faces)\n",
    "        surf_area_list.append(surf_area)\n",
    "        sphiricity = (np.pi**(1/3)*((6*vol[c])**(2/3)))/surf_area\n",
    "        sphiricity_list.append(sphiricity)\n",
    "        c += 1\n",
    "    surface_areas = pd.Series(surf_area_list,name='Surface_Area (um^2)')\n",
    "    sphiricities = pd.Series(sphiricity_list,name='Sphericity')\n",
    "    merged_df = pd.concat([scaled_df,surface_areas,sphiricities], axis=1)\n",
    "    return merged_df"
   ]
  },
  {
   "cell_type": "code",
   "execution_count": null,
   "id": "ca31a515-1f64-413e-b260-17bf4469d393",
   "metadata": {},
   "outputs": [],
   "source": [
    "def sphericity(mesh_volume, mesh_surface_area):\n",
    "    \n",
    "    '''This definition of sphericity assumes that you are working in continuous space.\n",
    "    Parameters:\n",
    "    -----------\n",
    "    mesh_volume: integer or float value\n",
    "    mesh_surface_area: integer or float value\n",
    "    Returns:\n",
    "    --------\n",
    "    psi: a float value with range(0,1) reflecting the compactness of an object\n",
    "    Got this script from: https://github.com/BiAPoL/Bio-image_Analysis_with_Python/blob/main/05_feature_extraction/02_sphericity_and_solidity.ipynb\n",
    "    '''\n",
    "    numerator = (np.pi ** (1/3)) * ((6 * mesh_volume) ** (2/3))\n",
    "    denominator = mesh_surface_area\n",
    "    \n",
    "    psi = numerator / denominator\n",
    "    \n",
    "    return psi"
   ]
  },
  {
   "cell_type": "code",
   "execution_count": null,
   "id": "779b0b13-2a9e-490c-83ef-078df3d37545",
   "metadata": {},
   "outputs": [],
   "source": []
  },
  {
   "cell_type": "code",
   "execution_count": 22,
   "id": "1f43f53d-ada7-4e12-909f-a35d80379ead",
   "metadata": {},
   "outputs": [],
   "source": [
    "def save(save_path, img_name, norm_img, filtered_masks, merged_df):\n",
    "    # make directories if they do not exist\n",
    "    try:\n",
    "        norm_path = os.mkdir(os.path.join(save_path,'norm_imgs'))\n",
    "        masks_path = os.mkdir(os.path.join(save_path,'masks'))\n",
    "        dataframe_path = os.mkdir(os.path.join(save_path,'measurements'))\n",
    "    # use the expected paths if the directories exist already\n",
    "    except:\n",
    "        masks_path = os.path.join(save_path,'masks')\n",
    "        norm_path = os.path.join(save_path,'norm_imgs')\n",
    "        dataframe_path = os.path.join(save_path,'measurements')\n",
    "    imsave(os.path.join(masks_path,'filtered_masks_'+img_name[:-4]+'.tif'),filtered_masks,check_contrast=False)\n",
    "    imsave(os.path.join(norm_path,'normalized_'+img_name[:-4]+'.tif'),norm_img)\n",
    "    merged_df.to_csv(os.path.join(dataframe_path,'measurements_'+img_name[:-4]+'.csv'))"
   ]
  },
  {
   "cell_type": "markdown",
   "id": "c7458003-8b1f-4606-b42c-0b870083545a",
   "metadata": {},
   "source": [
    "# Load in Data"
   ]
  },
  {
   "cell_type": "markdown",
   "id": "a161bb38-4beb-4da8-bc65-abd09a15246a",
   "metadata": {},
   "source": [
    "## Two options for loading in data:"
   ]
  },
  {
   "cell_type": "markdown",
   "id": "6aacdfbc-0898-426b-b0dd-f72742f9c08d",
   "metadata": {},
   "source": [
    "### Option 1: Specify the locations of all image containing folders:\n",
    "Then merge into a long list of images and file names"
   ]
  },
  {
   "cell_type": "code",
   "execution_count": null,
   "id": "8a7e6cd9-b881-4dde-9153-9bba41ecf225",
   "metadata": {},
   "outputs": [],
   "source": [
    "CMO_files = sorted(glob('E:/ParadaKusz_Lab/TIF_Files/Control_MO/*.tif'))\n",
    "GMO_1ng_files = sorted(glob('E:/ParadaKusz_Lab/TIF_Files/GNAS_MO_1ng/*.tif'))\n",
    "GMO_2ng_files = sorted(glob('E:/ParadaKusz_Lab/TIF_Files/GNAS_MO_2ng/*.tif'))"
   ]
  },
  {
   "cell_type": "code",
   "execution_count": null,
   "id": "10fd57ea-4c38-4670-ba76-821e7b93b6b6",
   "metadata": {},
   "outputs": [],
   "source": [
    "CMO_imgs = list(map(sk.io.imread,CMO_files))\n",
    "GMO_1ng_imgs = list(map(sk.io.imread,GMO_1ng_files))\n",
    "GMO_2ng_imgs = list(map(sk.io.imread,GMO_2ng_files))"
   ]
  },
  {
   "cell_type": "code",
   "execution_count": null,
   "id": "955373b2-4e55-4de2-8da7-12f3ea8f7c93",
   "metadata": {},
   "outputs": [],
   "source": [
    "all_files = CMO_files+GMO_1ng_files+GMO_2ng_files # need this for getting image names later\n",
    "all_img = CMO_imgs+GMO_1ng_imgs+GMO_2ng_imgs"
   ]
  },
  {
   "cell_type": "markdown",
   "id": "7ba917eb-a37f-4967-81a6-381d6b8c3b62",
   "metadata": {},
   "source": [
    "### Option 2: Use a recursive search option to find all images in the parent directory:"
   ]
  },
  {
   "cell_type": "code",
   "execution_count": 23,
   "id": "ce235925-aa38-4787-9a0d-a1de664811ff",
   "metadata": {},
   "outputs": [],
   "source": [
    "all_files = sorted(glob('E:/ParadaKusz_Lab/TIF_Files/**/*.tif',recursive=True)) #finds all tiff images in the subdirectories of TIF_Files\n",
    "all_img = list(map(sk.io.imread,all_files))"
   ]
  },
  {
   "cell_type": "markdown",
   "id": "86fd8805-b110-4d8e-aa49-8fe15ac0805c",
   "metadata": {},
   "source": [
    "# Run Pipeline"
   ]
  },
  {
   "cell_type": "markdown",
   "id": "a4e6a796-4403-4a57-9e69-cbc5c313edc3",
   "metadata": {
    "jp-MarkdownHeadingCollapsed": true
   },
   "source": [
    "### Optional use of random integer generator if you want to test on single random images first"
   ]
  },
  {
   "cell_type": "code",
   "execution_count": 5,
   "id": "768e9a30-c021-47f9-875a-2d213c6d65f5",
   "metadata": {},
   "outputs": [],
   "source": [
    "import random\n",
    "nums = range(len(all_img))\n",
    "i = random.randint(min(nums),max(nums))"
   ]
  },
  {
   "cell_type": "code",
   "execution_count": 8,
   "id": "96130a84-5c8c-47d9-b435-de7689ef86a3",
   "metadata": {},
   "outputs": [],
   "source": [
    "tophat_radius = 10\n",
    "img = normalize_images(all_img[i],tophat_radius) #change the tophat_radius to increase or decrease the background as needed"
   ]
  },
  {
   "cell_type": "code",
   "execution_count": 9,
   "id": "6634c8b7-5eaa-4875-91dd-100f67170759",
   "metadata": {},
   "outputs": [
    {
     "name": "stdout",
     "output_type": "stream",
     "text": [
      "creating new log file\n",
      "2025-05-23 15:42:32,233 [INFO] WRITING LOG OUTPUT TO C:\\Users\\kristin.gallik\\.cellpose\\run.log\n",
      "2025-05-23 15:42:32,234 [INFO] \n",
      "cellpose version: \t3.1.1.2 \n",
      "platform:       \twin32 \n",
      "python version: \t3.10.16 \n",
      "torch version:  \t2.7.0+cu118\n",
      "2025-05-23 15:42:32,236 [INFO] ** TORCH CUDA version installed and working. **\n",
      "2025-05-23 15:42:32,237 [INFO] >>>> using GPU (CUDA)\n",
      "2025-05-23 15:42:32,238 [INFO] >> cyto3 << model set to be used\n",
      "2025-05-23 15:42:32,344 [INFO] >>>> loading model C:\\Users\\kristin.gallik\\.cellpose\\models\\cyto3\n",
      "2025-05-23 15:42:32,607 [INFO] >>>> model diam_mean =  30.000 (ROIs rescaled to this size during training)\n",
      "2025-05-23 15:42:32,609 [INFO] channels set to [[0, 0]]\n",
      "2025-05-23 15:42:32,610 [INFO] ~~~ FINDING MASKS ~~~\n",
      "2025-05-23 15:42:32,612 [INFO] multi-stack tiff read in as having 11 planes 1 channels\n",
      "2025-05-23 15:42:33,222 [INFO] 0%|          | 0/11 [00:00<?, ?it/s]\n",
      "2025-05-23 15:42:36,374 [INFO] 100%|##########| 11/11 [00:03<00:00,  3.49it/s]\n",
      "2025-05-23 15:42:36,780 [INFO] network run in 3.56s\n",
      "2025-05-23 15:42:36,780 [INFO] 0%|          | 0/11 [00:00<?, ?it/s]\n",
      "2025-05-23 15:42:36,803 [INFO] No cell pixels found.\n",
      "2025-05-23 15:42:36,853 [INFO] No cell pixels found.\n",
      "2025-05-23 15:42:36,893 [INFO] No cell pixels found.\n",
      "2025-05-23 15:42:36,925 [INFO] No cell pixels found.\n",
      "2025-05-23 15:42:36,972 [INFO] No cell pixels found.\n",
      "2025-05-23 15:42:43,632 [INFO] 100%|##########| 11/11 [00:06<00:00,  1.61it/s]\n",
      "2025-05-23 15:42:43,632 [INFO] stitching 11 planes using stitch_threshold=0.200 to make 3D masks\n"
     ]
    },
    {
     "name": "stderr",
     "output_type": "stream",
     "text": [
      "100%|██████████████████████████████████████████████████████████████████████████████████| 10/10 [00:01<00:00,  7.78it/s]\n"
     ]
    },
    {
     "name": "stdout",
     "output_type": "stream",
     "text": [
      "2025-05-23 15:42:45,609 [INFO] masks created in 8.83s\n",
      "2025-05-23 15:42:50,038 [INFO] >>>> TOTAL TIME 17.43 sec\n"
     ]
    }
   ],
   "source": [
    "io.logger_setup()\n",
    "model = models.Cellpose(gpu=True,model_type='cyto3') # model_type='cyto' or 'nuclei' or 'cyto2' or 'cyto3'\n",
    "channels =[[0,0]]\n",
    "masks, _, _, _ = model.eval(img, diameter=70, channels=channels, z_axis=0,stitch_threshold=0.2,flow_threshold=0.5,cellprob_threshold=1.0)"
   ]
  },
  {
   "cell_type": "code",
   "execution_count": 10,
   "id": "2f4c04b1-35f1-4d03-bf8c-3bcb4471abf4",
   "metadata": {},
   "outputs": [
    {
     "data": {
      "text/plain": [
       "<Image layer 'masks' at 0x1c80d5e5d50>"
      ]
     },
     "execution_count": 10,
     "metadata": {},
     "output_type": "execute_result"
    }
   ],
   "source": [
    "#View results of segmentation in Napari\n",
    "viewer = napari.view_image(all_img[i], name='original img', scale = (4.55,0.3,0.3))\n",
    "viewer.add_image(img,name='nomarlized img', scale = (4.55,0.3,0.3))\n",
    "viewer.add_image(masks,name='masks', scale = (4.55,0.3,0.3))"
   ]
  },
  {
   "cell_type": "markdown",
   "id": "4594dcad-9b78-44c2-ab95-b68652bcceef",
   "metadata": {},
   "source": [
    "### Run pipeline on all images"
   ]
  },
  {
   "cell_type": "markdown",
   "id": "96f32b5d-bf9f-4593-9b6c-277e934dd82b",
   "metadata": {},
   "source": [
    "Set up a few parameters before running\n",
    "\n",
    "Properties that can be measured with scikit-image can be found here: [Scikit-image Region Properties](https://scikit-image.org/docs/dev/api/skimage.measure.html#skimage.measure.regionprops)"
   ]
  },
  {
   "cell_type": "code",
   "execution_count": 33,
   "id": "53f67b9e-a48b-43cd-937d-bc480e40eca1",
   "metadata": {},
   "outputs": [],
   "source": [
    "tophat_radius = 10\n",
    "voxel_size_x = 0.301\n",
    "voxel_size_y = 0.301\n",
    "voxel_size_z = 4.55\n",
    "voxel = 0.301*0.301*4.55\n",
    "save_path = 'E:/ParadaKusz_Lab/Test_Outputs/'\n",
    "props = ('label','area','intensity_mean','intensity_min','intensity_max')"
   ]
  },
  {
   "cell_type": "code",
   "execution_count": 25,
   "id": "82097fc6-7925-433b-8624-b20e5ba8800a",
   "metadata": {},
   "outputs": [],
   "source": [
    "norm_imgs = [normalize_images(img,tophat_radius) for img in all_img]"
   ]
  },
  {
   "cell_type": "code",
   "execution_count": 27,
   "id": "6a765f90-2165-4b46-8cda-869c71109023",
   "metadata": {},
   "outputs": [
    {
     "name": "stdout",
     "output_type": "stream",
     "text": [
      "creating new log file\n",
      "2025-05-23 16:22:27,176 [INFO] WRITING LOG OUTPUT TO C:\\Users\\kristin.gallik\\.cellpose\\run.log\n",
      "2025-05-23 16:22:27,177 [INFO] \n",
      "cellpose version: \t3.1.1.2 \n",
      "platform:       \twin32 \n",
      "python version: \t3.10.16 \n",
      "torch version:  \t2.7.0+cu118\n",
      "2025-05-23 16:22:27,180 [INFO] ** TORCH CUDA version installed and working. **\n",
      "2025-05-23 16:22:27,181 [INFO] >>>> using GPU (CUDA)\n",
      "2025-05-23 16:22:27,182 [INFO] >> cyto3 << model set to be used\n",
      "2025-05-23 16:22:27,301 [INFO] >>>> loading model C:\\Users\\kristin.gallik\\.cellpose\\models\\cyto3\n",
      "2025-05-23 16:22:27,596 [INFO] >>>> model diam_mean =  30.000 (ROIs rescaled to this size during training)\n",
      "2025-05-23 16:22:27,596 [INFO] channels set to [[0, 0]]\n",
      "2025-05-23 16:22:27,596 [INFO] ~~~ FINDING MASKS ~~~\n",
      "2025-05-23 16:22:27,596 [INFO] 0%|          | 0/25 [00:00<?, ?it/s]\n",
      "2025-05-23 16:22:27,596 [INFO] multi-stack tiff read in as having 11 planes 1 channels\n",
      "2025-05-23 16:22:28,189 [INFO] \n",
      "2025-05-23 16:22:28,189 [INFO] 0%|          | 0/11 [00:00<?, ?it/s]\n",
      "2025-05-23 16:22:28,189 [INFO] \u001b[A\n",
      "2025-05-23 16:22:30,939 [INFO] 100%|##########| 11/11 [00:02<00:00,  4.01it/s]\n",
      "2025-05-23 16:22:31,330 [INFO] network run in 3.14s\n",
      "2025-05-23 16:22:31,330 [INFO] \n",
      "2025-05-23 16:22:31,345 [INFO] 0%|          | 0/11 [00:00<?, ?it/s]\n",
      "2025-05-23 16:22:31,347 [INFO] \u001b[A\n",
      "2025-05-23 16:22:31,354 [INFO] No cell pixels found.\n",
      "2025-05-23 16:22:31,402 [INFO] No cell pixels found.\n",
      "2025-05-23 16:22:31,446 [INFO] No cell pixels found.\n",
      "2025-05-23 16:22:31,489 [INFO] No cell pixels found.\n",
      "2025-05-23 16:22:31,528 [INFO] No cell pixels found.\n",
      "2025-05-23 16:22:36,059 [INFO] 100%|##########| 11/11 [00:04<00:00,  2.34it/s]\n",
      "2025-05-23 16:22:36,061 [INFO] stitching 11 planes using stitch_threshold=0.200 to make 3D masks\n"
     ]
    },
    {
     "name": "stderr",
     "output_type": "stream",
     "text": [
      "\n",
      "  0%|                                                                                           | 0/10 [00:00<?, ?it/s]\u001b[A\n",
      "100%|██████████████████████████████████████████████████████████████████████████████████| 10/10 [00:00<00:00, 63.56it/s]\u001b[A\n"
     ]
    },
    {
     "name": "stdout",
     "output_type": "stream",
     "text": [
      "2025-05-23 16:22:36,909 [INFO] masks created in 5.58s\n",
      "2025-05-23 16:22:41,363 [INFO] multi-stack tiff read in as having 32 planes 1 channels\n",
      "2025-05-23 16:22:43,218 [INFO] \n",
      "2025-05-23 16:22:43,220 [INFO] 0%|          | 0/32 [00:00<?, ?it/s]\n",
      "2025-05-23 16:22:43,220 [INFO] \u001b[A\n",
      "2025-05-23 16:22:50,344 [INFO] 100%|##########| 32/32 [00:07<00:00,  4.49it/s]\n",
      "2025-05-23 16:22:51,379 [INFO] network run in 8.16s\n",
      "2025-05-23 16:22:51,381 [INFO] \n",
      "2025-05-23 16:22:51,384 [INFO] 0%|          | 0/32 [00:00<?, ?it/s]\n",
      "2025-05-23 16:22:51,387 [INFO] \u001b[A\n",
      "2025-05-23 16:23:17,312 [INFO] 100%|##########| 32/32 [00:25<00:00,  1.23it/s]\n",
      "2025-05-23 16:23:17,312 [INFO] stitching 32 planes using stitch_threshold=0.200 to make 3D masks\n"
     ]
    },
    {
     "name": "stderr",
     "output_type": "stream",
     "text": [
      "\n",
      "  0%|                                                                                           | 0/31 [00:00<?, ?it/s]\u001b[A\n",
      " 10%|████████                                                                           | 3/31 [00:00<00:01, 27.22it/s]\u001b[A\n",
      " 23%|██████████████████▋                                                                | 7/31 [00:00<00:00, 29.35it/s]\u001b[A\n",
      " 35%|█████████████████████████████                                                     | 11/31 [00:00<00:00, 30.25it/s]\u001b[A\n",
      " 48%|███████████████████████████████████████▋                                          | 15/31 [00:00<00:00, 29.43it/s]\u001b[A\n",
      " 58%|███████████████████████████████████████████████▌                                  | 18/31 [00:00<00:00, 26.23it/s]\u001b[A\n",
      " 68%|███████████████████████████████████████████████████████▌                          | 21/31 [00:00<00:00, 26.72it/s]\u001b[A\n",
      " 77%|███████████████████████████████████████████████████████████████▍                  | 24/31 [00:00<00:00, 27.05it/s]\u001b[A\n",
      " 90%|██████████████████████████████████████████████████████████████████████████        | 28/31 [00:00<00:00, 28.45it/s]\u001b[A\n",
      "100%|██████████████████████████████████████████████████████████████████████████████████| 31/31 [00:01<00:00, 28.05it/s]\u001b[A\n"
     ]
    },
    {
     "name": "stdout",
     "output_type": "stream",
     "text": [
      "2025-05-23 16:23:20,364 [INFO] masks created in 28.98s\n",
      "2025-05-23 16:23:33,219 [INFO] 8%|8         | 2/25 [01:05<12:34, 32.81s/it]\n",
      "2025-05-23 16:23:33,219 [INFO] multi-stack tiff read in as having 35 planes 1 channels\n",
      "2025-05-23 16:23:35,161 [INFO] \n",
      "2025-05-23 16:23:35,161 [INFO] 0%|          | 0/35 [00:00<?, ?it/s]\n",
      "2025-05-23 16:23:35,161 [INFO] \u001b[A\n",
      "2025-05-23 16:23:42,933 [INFO] 100%|##########| 35/35 [00:07<00:00,  4.50it/s]\n",
      "2025-05-23 16:23:44,156 [INFO] network run in 8.99s\n",
      "2025-05-23 16:23:44,156 [INFO] \n",
      "2025-05-23 16:23:44,156 [INFO] 0%|          | 0/35 [00:00<?, ?it/s]\n",
      "2025-05-23 16:23:44,156 [INFO] \u001b[A\n",
      "2025-05-23 16:24:14,240 [INFO] \n",
      "2025-05-23 16:24:14,243 [INFO] 97%|#########7| 34/35 [00:30<00:00,  1.13it/s]\n",
      "2025-05-23 16:24:14,245 [INFO] \u001b[A\n",
      "2025-05-23 16:24:14,953 [INFO] 100%|##########| 35/35 [00:30<00:00,  1.14it/s]\n",
      "2025-05-23 16:24:14,953 [INFO] stitching 35 planes using stitch_threshold=0.200 to make 3D masks\n"
     ]
    },
    {
     "name": "stderr",
     "output_type": "stream",
     "text": [
      "\n",
      "  0%|                                                                                           | 0/34 [00:00<?, ?it/s]\u001b[A\n",
      "  9%|███████▎                                                                           | 3/34 [00:00<00:01, 29.43it/s]\u001b[A\n",
      " 18%|██████████████▋                                                                    | 6/34 [00:00<00:01, 27.58it/s]\u001b[A\n",
      " 26%|█████████████████████▉                                                             | 9/34 [00:00<00:01, 24.33it/s]\u001b[A\n",
      " 35%|████████████████████████████▉                                                     | 12/34 [00:00<00:00, 24.53it/s]\u001b[A\n",
      " 44%|████████████████████████████████████▏                                             | 15/34 [00:00<00:00, 24.61it/s]\u001b[A\n",
      " 53%|███████████████████████████████████████████▍                                      | 18/34 [00:00<00:00, 26.08it/s]\u001b[A\n",
      " 62%|██████████████████████████████████████████████████▋                               | 21/34 [00:00<00:00, 27.07it/s]\u001b[A\n",
      " 71%|█████████████████████████████████████████████████████████▉                        | 24/34 [00:00<00:00, 27.52it/s]\u001b[A\n",
      " 79%|█████████████████████████████████████████████████████████████████                 | 27/34 [00:01<00:00, 26.89it/s]\u001b[A\n",
      " 88%|████████████████████████████████████████████████████████████████████████▎         | 30/34 [00:01<00:00, 24.70it/s]\u001b[A\n",
      "100%|██████████████████████████████████████████████████████████████████████████████████| 34/34 [00:01<00:00, 25.59it/s]\u001b[A\n"
     ]
    },
    {
     "name": "stdout",
     "output_type": "stream",
     "text": [
      "2025-05-23 16:24:18,626 [INFO] masks created in 34.47s\n",
      "2025-05-23 16:24:33,627 [INFO] 12%|#2        | 3/25 [02:06<16:14, 44.31s/it]\n",
      "2025-05-23 16:24:33,627 [INFO] multi-stack tiff read in as having 31 planes 1 channels\n",
      "2025-05-23 16:24:35,375 [INFO] \n",
      "2025-05-23 16:24:35,377 [INFO] 0%|          | 0/31 [00:00<?, ?it/s]\n",
      "2025-05-23 16:24:35,379 [INFO] \u001b[A\n",
      "2025-05-23 16:24:42,310 [INFO] 100%|##########| 31/31 [00:06<00:00,  4.47it/s]\n",
      "2025-05-23 16:24:43,387 [INFO] network run in 8.01s\n",
      "2025-05-23 16:24:43,388 [INFO] \n",
      "2025-05-23 16:24:43,389 [INFO] 0%|          | 0/31 [00:00<?, ?it/s]\n",
      "2025-05-23 16:24:43,390 [INFO] \u001b[A\n",
      "2025-05-23 16:25:10,847 [INFO] 100%|##########| 31/31 [00:27<00:00,  1.13it/s]\n",
      "2025-05-23 16:25:10,847 [INFO] stitching 31 planes using stitch_threshold=0.200 to make 3D masks\n"
     ]
    },
    {
     "name": "stderr",
     "output_type": "stream",
     "text": [
      "\n",
      "  0%|                                                                                           | 0/30 [00:00<?, ?it/s]\u001b[A\n",
      " 10%|████████▎                                                                          | 3/30 [00:00<00:01, 24.72it/s]\u001b[A\n",
      " 20%|████████████████▌                                                                  | 6/30 [00:00<00:00, 25.34it/s]\u001b[A\n",
      " 33%|███████████████████████████▎                                                      | 10/30 [00:00<00:00, 26.51it/s]\u001b[A\n",
      " 43%|███████████████████████████████████▌                                              | 13/30 [00:00<00:00, 24.99it/s]\u001b[A\n",
      " 57%|██████████████████████████████████████████████▍                                   | 17/30 [00:00<00:00, 27.71it/s]\u001b[A\n",
      " 67%|██████████████████████████████████████████████████████▋                           | 20/30 [00:00<00:00, 26.48it/s]\u001b[A\n",
      " 77%|██████████████████████████████████████████████████████████████▊                   | 23/30 [00:00<00:00, 26.91it/s]\u001b[A\n",
      " 87%|███████████████████████████████████████████████████████████████████████           | 26/30 [00:00<00:00, 26.93it/s]\u001b[A\n",
      "100%|██████████████████████████████████████████████████████████████████████████████████| 30/30 [00:01<00:00, 25.92it/s]\u001b[A\n"
     ]
    },
    {
     "name": "stdout",
     "output_type": "stream",
     "text": [
      "2025-05-23 16:25:14,382 [INFO] masks created in 30.99s\n",
      "2025-05-23 16:25:27,233 [INFO] 16%|#6        | 4/25 [02:59<16:43, 47.78s/it]\n",
      "2025-05-23 16:25:27,235 [INFO] multi-stack tiff read in as having 33 planes 1 channels\n",
      "2025-05-23 16:25:29,152 [INFO] \n",
      "2025-05-23 16:25:29,160 [INFO] 0%|          | 0/33 [00:00<?, ?it/s]\n",
      "2025-05-23 16:25:29,160 [INFO] \u001b[A\n",
      "2025-05-23 16:25:36,430 [INFO] 100%|##########| 33/33 [00:07<00:00,  4.54it/s]\n",
      "2025-05-23 16:25:37,496 [INFO] network run in 8.34s\n",
      "2025-05-23 16:25:37,496 [INFO] \n",
      "2025-05-23 16:25:37,496 [INFO] 0%|          | 0/33 [00:00<?, ?it/s]\n",
      "2025-05-23 16:25:37,496 [INFO] \u001b[A\n",
      "2025-05-23 16:26:07,128 [INFO] 100%|##########| 33/33 [00:29<00:00,  1.11it/s]\n",
      "2025-05-23 16:26:07,128 [INFO] stitching 33 planes using stitch_threshold=0.200 to make 3D masks\n"
     ]
    },
    {
     "name": "stderr",
     "output_type": "stream",
     "text": [
      "\n",
      "  0%|                                                                                           | 0/32 [00:00<?, ?it/s]\u001b[A\n",
      " 12%|██████████▍                                                                        | 4/32 [00:00<00:00, 33.93it/s]\u001b[A\n",
      " 25%|████████████████████▊                                                              | 8/32 [00:00<00:00, 27.29it/s]\u001b[A\n",
      " 34%|████████████████████████████▏                                                     | 11/32 [00:00<00:00, 27.96it/s]\u001b[A\n",
      " 47%|██████████████████████████████████████▍                                           | 15/32 [00:00<00:00, 28.98it/s]\u001b[A\n",
      " 56%|██████████████████████████████████████████████▏                                   | 18/32 [00:00<00:00, 26.93it/s]\u001b[A\n",
      " 66%|█████████████████████████████████████████████████████▊                            | 21/32 [00:00<00:00, 26.79it/s]\u001b[A\n",
      " 75%|█████████████████████████████████████████████████████████████▌                    | 24/32 [00:00<00:00, 24.74it/s]\u001b[A\n",
      " 88%|███████████████████████████████████████████████████████████████████████▊          | 28/32 [00:01<00:00, 26.91it/s]\u001b[A\n",
      "100%|██████████████████████████████████████████████████████████████████████████████████| 32/32 [00:01<00:00, 25.80it/s]\u001b[A\n"
     ]
    },
    {
     "name": "stdout",
     "output_type": "stream",
     "text": [
      "2025-05-23 16:26:10,526 [INFO] masks created in 33.03s\n",
      "2025-05-23 16:26:23,682 [INFO] 20%|##        | 5/25 [03:56<16:55, 50.79s/it]\n",
      "2025-05-23 16:26:23,682 [INFO] multi-stack tiff read in as having 27 planes 1 channels\n",
      "2025-05-23 16:26:25,468 [INFO] \n",
      "2025-05-23 16:26:25,468 [INFO] 0%|          | 0/27 [00:00<?, ?it/s]\n",
      "2025-05-23 16:26:25,468 [INFO] \u001b[A\n",
      "2025-05-23 16:26:31,656 [INFO] 100%|##########| 27/27 [00:06<00:00,  4.36it/s]\n",
      "2025-05-23 16:26:32,563 [INFO] network run in 7.10s\n",
      "2025-05-23 16:26:32,563 [INFO] \n",
      "2025-05-23 16:26:32,572 [INFO] 0%|          | 0/27 [00:00<?, ?it/s]\n",
      "2025-05-23 16:26:32,572 [INFO] \u001b[A\n",
      "2025-05-23 16:26:57,647 [INFO] 100%|##########| 27/27 [00:25<00:00,  1.08it/s]\n",
      "2025-05-23 16:26:57,647 [INFO] stitching 27 planes using stitch_threshold=0.200 to make 3D masks\n"
     ]
    },
    {
     "name": "stderr",
     "output_type": "stream",
     "text": [
      "\n",
      "  0%|                                                                                           | 0/26 [00:00<?, ?it/s]\u001b[A\n",
      " 12%|█████████▌                                                                         | 3/26 [00:00<00:00, 27.00it/s]\u001b[A\n",
      " 27%|██████████████████████▎                                                            | 7/26 [00:00<00:00, 29.73it/s]\u001b[A\n",
      " 38%|███████████████████████████████▌                                                  | 10/26 [00:00<00:00, 26.86it/s]\u001b[A\n",
      " 54%|████████████████████████████████████████████▏                                     | 14/26 [00:00<00:00, 28.67it/s]\u001b[A\n",
      " 65%|█████████████████████████████████████████████████████▌                            | 17/26 [00:00<00:00, 27.28it/s]\u001b[A\n",
      " 77%|███████████████████████████████████████████████████████████████                   | 20/26 [00:00<00:00, 26.80it/s]\u001b[A\n",
      " 88%|████████████████████████████████████████████████████████████████████████▌         | 23/26 [00:00<00:00, 26.28it/s]\u001b[A\n",
      "100%|██████████████████████████████████████████████████████████████████████████████████| 26/26 [00:00<00:00, 26.83it/s]\u001b[A\n"
     ]
    },
    {
     "name": "stdout",
     "output_type": "stream",
     "text": [
      "2025-05-23 16:27:00,698 [INFO] masks created in 28.14s\n",
      "2025-05-23 16:27:11,458 [INFO] 24%|##4       | 6/25 [04:43<15:46, 49.79s/it]\n",
      "2025-05-23 16:27:11,458 [INFO] multi-stack tiff read in as having 43 planes 1 channels\n",
      "2025-05-23 16:27:13,972 [INFO] \n",
      "2025-05-23 16:27:13,974 [INFO] 0%|          | 0/43 [00:00<?, ?it/s]\n",
      "2025-05-23 16:27:13,974 [INFO] \u001b[A\n",
      "2025-05-23 16:27:23,168 [INFO] 100%|##########| 43/43 [00:09<00:00,  4.68it/s]\n",
      "2025-05-23 16:27:24,593 [INFO] network run in 10.62s\n",
      "2025-05-23 16:27:24,593 [INFO] \n",
      "2025-05-23 16:27:24,593 [INFO] 0%|          | 0/43 [00:00<?, ?it/s]\n",
      "2025-05-23 16:27:24,593 [INFO] \u001b[A\n",
      "2025-05-23 16:27:55,261 [INFO] \n",
      "2025-05-23 16:27:55,261 [INFO] 74%|#######4  | 32/43 [00:30<00:10,  1.04it/s]\n",
      "2025-05-23 16:27:55,261 [INFO] \u001b[A\n",
      "2025-05-23 16:28:03,560 [INFO] 100%|##########| 43/43 [00:38<00:00,  1.10it/s]\n",
      "2025-05-23 16:28:03,560 [INFO] stitching 43 planes using stitch_threshold=0.200 to make 3D masks\n"
     ]
    },
    {
     "name": "stderr",
     "output_type": "stream",
     "text": [
      "\n",
      "  0%|                                                                                           | 0/42 [00:00<?, ?it/s]\u001b[A\n",
      " 10%|███████▉                                                                           | 4/42 [00:00<00:01, 35.92it/s]\u001b[A\n",
      " 19%|███████████████▊                                                                   | 8/42 [00:00<00:01, 30.75it/s]\u001b[A\n",
      " 29%|███████████████████████▍                                                          | 12/42 [00:00<00:01, 28.00it/s]\u001b[A\n",
      " 36%|█████████████████████████████▎                                                    | 15/42 [00:00<00:01, 26.38it/s]\u001b[A\n",
      " 43%|███████████████████████████████████▏                                              | 18/42 [00:00<00:00, 25.47it/s]\u001b[A\n",
      " 50%|█████████████████████████████████████████                                         | 21/42 [00:00<00:00, 25.91it/s]\u001b[A\n",
      " 60%|████████████████████████████████████████████████▊                                 | 25/42 [00:00<00:00, 27.74it/s]\u001b[A\n",
      " 69%|████████████████████████████████████████████████████████▌                         | 29/42 [00:01<00:00, 28.93it/s]\u001b[A\n",
      " 79%|████████████████████████████████████████████████████████████████▍                 | 33/42 [00:01<00:00, 29.78it/s]\u001b[A\n",
      " 86%|██████████████████████████████████████████████████████████████████████▎           | 36/42 [00:01<00:00, 26.85it/s]\u001b[A\n",
      "100%|██████████████████████████████████████████████████████████████████████████████████| 42/42 [00:01<00:00, 28.14it/s]\u001b[A\n"
     ]
    },
    {
     "name": "stdout",
     "output_type": "stream",
     "text": [
      "2025-05-23 16:28:07,704 [INFO] masks created in 43.11s\n",
      "2025-05-23 16:28:24,365 [INFO] 28%|##8       | 7/25 [05:56<17:10, 57.23s/it]\n",
      "2025-05-23 16:28:24,367 [INFO] multi-stack tiff read in as having 34 planes 1 channels\n",
      "2025-05-23 16:28:26,222 [INFO] \n",
      "2025-05-23 16:28:26,222 [INFO] 0%|          | 0/34 [00:00<?, ?it/s]\n",
      "2025-05-23 16:28:26,222 [INFO] \u001b[A\n",
      "2025-05-23 16:28:33,511 [INFO] 100%|##########| 34/34 [00:07<00:00,  4.66it/s]\n",
      "2025-05-23 16:28:34,585 [INFO] network run in 8.36s\n",
      "2025-05-23 16:28:34,587 [INFO] \n",
      "2025-05-23 16:28:34,587 [INFO] 0%|          | 0/34 [00:00<?, ?it/s]\n",
      "2025-05-23 16:28:34,589 [INFO] \u001b[A\n",
      "2025-05-23 16:29:02,183 [INFO] 100%|##########| 34/34 [00:27<00:00,  1.23it/s]\n",
      "2025-05-23 16:29:02,183 [INFO] stitching 34 planes using stitch_threshold=0.200 to make 3D masks\n"
     ]
    },
    {
     "name": "stderr",
     "output_type": "stream",
     "text": [
      "\n",
      "  0%|                                                                                           | 0/33 [00:00<?, ?it/s]\u001b[A\n",
      "  9%|███████▌                                                                           | 3/33 [00:00<00:01, 29.93it/s]\u001b[A\n",
      " 18%|███████████████                                                                    | 6/33 [00:00<00:00, 28.66it/s]\u001b[A\n",
      " 27%|██████████████████████▋                                                            | 9/33 [00:00<00:00, 28.25it/s]\u001b[A\n",
      " 36%|█████████████████████████████▊                                                    | 12/33 [00:00<00:00, 27.55it/s]\u001b[A\n",
      " 48%|███████████████████████████████████████▊                                          | 16/33 [00:00<00:00, 30.70it/s]\u001b[A\n",
      " 61%|█████████████████████████████████████████████████▋                                | 20/33 [00:00<00:00, 32.53it/s]\u001b[A\n",
      " 73%|███████████████████████████████████████████████████████████▋                      | 24/33 [00:00<00:00, 32.24it/s]\u001b[A\n",
      " 85%|█████████████████████████████████████████████████████████████████████▌            | 28/33 [00:00<00:00, 32.16it/s]\u001b[A\n",
      "100%|██████████████████████████████████████████████████████████████████████████████████| 33/33 [00:01<00:00, 31.00it/s]\u001b[A\n"
     ]
    },
    {
     "name": "stdout",
     "output_type": "stream",
     "text": [
      "2025-05-23 16:29:05,258 [INFO] masks created in 30.67s\n",
      "2025-05-23 16:29:17,616 [INFO] 32%|###2      | 8/25 [06:50<15:51, 55.97s/it]\n",
      "2025-05-23 16:29:17,616 [INFO] multi-stack tiff read in as having 39 planes 1 channels\n",
      "2025-05-23 16:29:19,534 [INFO] \n",
      "2025-05-23 16:29:19,534 [INFO] 0%|          | 0/39 [00:00<?, ?it/s]\n",
      "2025-05-23 16:29:19,534 [INFO] \u001b[A\n",
      "2025-05-23 16:29:27,569 [INFO] 100%|##########| 39/39 [00:08<00:00,  4.85it/s]\n",
      "2025-05-23 16:29:28,829 [INFO] network run in 9.29s\n",
      "2025-05-23 16:29:28,829 [INFO] \n",
      "2025-05-23 16:29:28,829 [INFO] 0%|          | 0/39 [00:00<?, ?it/s]\n",
      "2025-05-23 16:29:28,829 [INFO] \u001b[A\n",
      "2025-05-23 16:29:58,842 [INFO] \n",
      "2025-05-23 16:29:58,842 [INFO] 95%|#########4| 37/39 [00:30<00:01,  1.23it/s]\n",
      "2025-05-23 16:29:58,842 [INFO] \u001b[A\n",
      "2025-05-23 16:30:00,365 [INFO] 100%|##########| 39/39 [00:31<00:00,  1.24it/s]\n",
      "2025-05-23 16:30:00,365 [INFO] stitching 39 planes using stitch_threshold=0.200 to make 3D masks\n"
     ]
    },
    {
     "name": "stderr",
     "output_type": "stream",
     "text": [
      "\n",
      "  0%|                                                                                           | 0/38 [00:00<?, ?it/s]\u001b[A\n",
      " 11%|████████▋                                                                          | 4/38 [00:00<00:01, 33.93it/s]\u001b[A\n",
      " 21%|█████████████████▍                                                                 | 8/38 [00:00<00:00, 30.01it/s]\u001b[A\n",
      " 32%|█████████████████████████▉                                                        | 12/38 [00:00<00:00, 27.69it/s]\u001b[A\n",
      " 42%|██████████████████████████████████▌                                               | 16/38 [00:00<00:00, 29.13it/s]\u001b[A\n",
      " 53%|███████████████████████████████████████████▏                                      | 20/38 [00:00<00:00, 29.16it/s]\u001b[A\n",
      " 61%|█████████████████████████████████████████████████▋                                | 23/38 [00:00<00:00, 28.14it/s]\u001b[A\n",
      " 68%|████████████████████████████████████████████████████████                          | 26/38 [00:00<00:00, 25.94it/s]\u001b[A\n",
      " 79%|████████████████████████████████████████████████████████████████▋                 | 30/38 [00:01<00:00, 26.71it/s]\u001b[A\n",
      " 87%|███████████████████████████████████████████████████████████████████████▏          | 33/38 [00:01<00:00, 27.48it/s]\u001b[A\n",
      "100%|██████████████████████████████████████████████████████████████████████████████████| 38/38 [00:01<00:00, 27.74it/s]\u001b[A\n"
     ]
    },
    {
     "name": "stdout",
     "output_type": "stream",
     "text": [
      "2025-05-23 16:30:03,982 [INFO] masks created in 35.15s\n",
      "2025-05-23 16:30:18,676 [INFO] 36%|###6      | 9/25 [07:51<15:20, 57.55s/it]\n",
      "2025-05-23 16:30:18,676 [INFO] multi-stack tiff read in as having 42 planes 1 channels\n",
      "2025-05-23 16:30:20,868 [INFO] \n",
      "2025-05-23 16:30:20,877 [INFO] 0%|          | 0/42 [00:00<?, ?it/s]\n",
      "2025-05-23 16:30:20,877 [INFO] \u001b[A\n",
      "2025-05-23 16:30:29,849 [INFO] 100%|##########| 42/42 [00:08<00:00,  4.68it/s]\n",
      "2025-05-23 16:30:31,226 [INFO] network run in 10.36s\n",
      "2025-05-23 16:30:31,226 [INFO] \n",
      "2025-05-23 16:30:31,226 [INFO] 0%|          | 0/42 [00:00<?, ?it/s]\n",
      "2025-05-23 16:30:31,226 [INFO] \u001b[A\n",
      "2025-05-23 16:31:01,825 [INFO] \n",
      "2025-05-23 16:31:01,826 [INFO] 93%|#########2| 39/42 [00:30<00:02,  1.27it/s]\n",
      "2025-05-23 16:31:01,829 [INFO] \u001b[A\n",
      "2025-05-23 16:31:03,913 [INFO] 100%|##########| 42/42 [00:32<00:00,  1.28it/s]\n",
      "2025-05-23 16:31:03,915 [INFO] stitching 42 planes using stitch_threshold=0.200 to make 3D masks\n"
     ]
    },
    {
     "name": "stderr",
     "output_type": "stream",
     "text": [
      "\n",
      "  0%|                                                                                           | 0/41 [00:00<?, ?it/s]\u001b[A\n",
      "  5%|████                                                                               | 2/41 [00:00<00:01, 19.75it/s]\u001b[A\n",
      " 15%|████████████▏                                                                      | 6/41 [00:00<00:01, 27.76it/s]\u001b[A\n",
      " 24%|████████████████████                                                              | 10/41 [00:00<00:01, 30.09it/s]\u001b[A\n",
      " 34%|████████████████████████████                                                      | 14/41 [00:00<00:00, 31.71it/s]\u001b[A\n",
      " 44%|████████████████████████████████████                                              | 18/41 [00:00<00:00, 32.24it/s]\u001b[A\n",
      " 54%|████████████████████████████████████████████                                      | 22/41 [00:00<00:00, 33.51it/s]\u001b[A\n",
      " 63%|████████████████████████████████████████████████████                              | 26/41 [00:00<00:00, 32.21it/s]\u001b[A\n",
      " 73%|████████████████████████████████████████████████████████████                      | 30/41 [00:00<00:00, 31.33it/s]\u001b[A\n",
      " 83%|████████████████████████████████████████████████████████████████████              | 34/41 [00:01<00:00, 30.91it/s]\u001b[A\n",
      "100%|██████████████████████████████████████████████████████████████████████████████████| 41/41 [00:01<00:00, 30.87it/s]\u001b[A\n"
     ]
    },
    {
     "name": "stdout",
     "output_type": "stream",
     "text": [
      "2025-05-23 16:31:07,479 [INFO] masks created in 36.25s\n",
      "2025-05-23 16:31:22,396 [INFO] 40%|####      | 10/25 [08:54<14:51, 59.45s/it]\n",
      "2025-05-23 16:31:22,396 [INFO] multi-stack tiff read in as having 41 planes 1 channels\n",
      "2025-05-23 16:31:24,481 [INFO] \n",
      "2025-05-23 16:31:24,483 [INFO] 0%|          | 0/41 [00:00<?, ?it/s]\n",
      "2025-05-23 16:31:24,485 [INFO] \u001b[A\n",
      "2025-05-23 16:31:33,242 [INFO] 100%|##########| 41/41 [00:08<00:00,  4.68it/s]\n",
      "2025-05-23 16:31:34,559 [INFO] network run in 10.09s\n",
      "2025-05-23 16:31:34,559 [INFO] \n",
      "2025-05-23 16:31:34,559 [INFO] 0%|          | 0/41 [00:00<?, ?it/s]\n",
      "2025-05-23 16:31:34,559 [INFO] \u001b[A\n",
      "2025-05-23 16:32:04,701 [INFO] \n",
      "2025-05-23 16:32:04,701 [INFO] 88%|########7 | 36/41 [00:30<00:04,  1.19it/s]\n",
      "2025-05-23 16:32:04,701 [INFO] \u001b[A\n",
      "2025-05-23 16:32:08,740 [INFO] 100%|##########| 41/41 [00:34<00:00,  1.20it/s]\n",
      "2025-05-23 16:32:08,740 [INFO] stitching 41 planes using stitch_threshold=0.200 to make 3D masks\n"
     ]
    },
    {
     "name": "stderr",
     "output_type": "stream",
     "text": [
      "\n",
      "  0%|                                                                                           | 0/40 [00:00<?, ?it/s]\u001b[A\n",
      " 10%|████████▎                                                                          | 4/40 [00:00<00:01, 35.92it/s]\u001b[A\n",
      " 20%|████████████████▌                                                                  | 8/40 [00:00<00:00, 33.17it/s]\u001b[A\n",
      " 30%|████████████████████████▌                                                         | 12/40 [00:00<00:00, 32.39it/s]\u001b[A\n",
      " 40%|████████████████████████████████▊                                                 | 16/40 [00:00<00:00, 31.99it/s]\u001b[A\n",
      " 50%|█████████████████████████████████████████                                         | 20/40 [00:00<00:00, 27.99it/s]\u001b[A\n",
      " 57%|███████████████████████████████████████████████▏                                  | 23/40 [00:00<00:00, 27.67it/s]\u001b[A\n",
      " 65%|█████████████████████████████████████████████████████▎                            | 26/40 [00:00<00:00, 27.45it/s]\u001b[A\n",
      " 75%|█████████████████████████████████████████████████████████████▌                    | 30/40 [00:01<00:00, 29.95it/s]\u001b[A\n",
      " 85%|█████████████████████████████████████████████████████████████████████▋            | 34/40 [00:01<00:00, 28.19it/s]\u001b[A\n",
      " 92%|███████████████████████████████████████████████████████████████████████████▊      | 37/40 [00:01<00:00, 26.86it/s]\u001b[A\n",
      "100%|██████████████████████████████████████████████████████████████████████████████████| 40/40 [00:01<00:00, 28.60it/s]\u001b[A\n"
     ]
    },
    {
     "name": "stdout",
     "output_type": "stream",
     "text": [
      "2025-05-23 16:32:12,586 [INFO] masks created in 38.03s\n",
      "2025-05-23 16:32:28,413 [INFO] 44%|####4     | 11/25 [10:00<14:20, 61.45s/it]\n",
      "2025-05-23 16:32:28,413 [INFO] multi-stack tiff read in as having 41 planes 1 channels\n",
      "2025-05-23 16:32:30,586 [INFO] \n",
      "2025-05-23 16:32:30,586 [INFO] 0%|          | 0/41 [00:00<?, ?it/s]\n",
      "2025-05-23 16:32:30,586 [INFO] \u001b[A\n",
      "2025-05-23 16:32:39,457 [INFO] 100%|##########| 41/41 [00:08<00:00,  4.62it/s]\n",
      "2025-05-23 16:32:40,774 [INFO] network run in 10.19s\n",
      "2025-05-23 16:32:40,774 [INFO] \n",
      "2025-05-23 16:32:40,774 [INFO] 0%|          | 0/41 [00:00<?, ?it/s]\n",
      "2025-05-23 16:32:40,774 [INFO] \u001b[A\n",
      "2025-05-23 16:33:11,231 [INFO] \n",
      "2025-05-23 16:33:11,233 [INFO] 88%|########7 | 36/41 [00:30<00:04,  1.18it/s]\n",
      "2025-05-23 16:33:11,236 [INFO] \u001b[A\n",
      "2025-05-23 16:33:15,439 [INFO] 100%|##########| 41/41 [00:34<00:00,  1.18it/s]\n",
      "2025-05-23 16:33:15,440 [INFO] stitching 41 planes using stitch_threshold=0.200 to make 3D masks\n"
     ]
    },
    {
     "name": "stderr",
     "output_type": "stream",
     "text": [
      "\n",
      "  0%|                                                                                                  | 0/40 [00:00<?, ?it/s]\u001b[A\n",
      " 10%|█████████                                                                                 | 4/40 [00:00<00:01, 31.01it/s]\u001b[A\n",
      " 20%|██████████████████                                                                        | 8/40 [00:00<00:00, 32.39it/s]\u001b[A\n",
      " 30%|██████████████████████████▋                                                              | 12/40 [00:00<00:00, 28.69it/s]\u001b[A\n",
      " 38%|█████████████████████████████████▍                                                       | 15/40 [00:00<00:00, 27.69it/s]\u001b[A\n",
      " 45%|████████████████████████████████████████                                                 | 18/40 [00:00<00:00, 28.00it/s]\u001b[A\n",
      " 55%|████████████████████████████████████████████████▉                                        | 22/40 [00:00<00:00, 27.65it/s]\u001b[A\n",
      " 62%|███████████████████████████████████████████████████████▋                                 | 25/40 [00:00<00:00, 27.61it/s]\u001b[A\n",
      " 72%|████████████████████████████████████████████████████████████████▌                        | 29/40 [00:01<00:00, 29.13it/s]\u001b[A\n",
      " 80%|███████████████████████████████████████████████████████████████████████▏                 | 32/40 [00:01<00:00, 29.13it/s]\u001b[A\n",
      " 88%|█████████████████████████████████████████████████████████████████████████████▉           | 35/40 [00:01<00:00, 28.53it/s]\u001b[A\n",
      "100%|█████████████████████████████████████████████████████████████████████████████████████████| 40/40 [00:01<00:00, 28.48it/s]\u001b[A\n"
     ]
    },
    {
     "name": "stdout",
     "output_type": "stream",
     "text": [
      "2025-05-23 16:33:19,468 [INFO] masks created in 38.69s\n",
      "2025-05-23 16:33:34,297 [INFO] 48%|####8     | 12/25 [11:06<13:36, 62.80s/it]\n",
      "2025-05-23 16:33:34,299 [INFO] multi-stack tiff read in as having 52 planes 1 channels\n",
      "2025-05-23 16:33:36,986 [INFO] \n",
      "2025-05-23 16:33:36,988 [INFO] 0%|          | 0/52 [00:00<?, ?it/s]\n",
      "2025-05-23 16:33:36,990 [INFO] \u001b[A\n",
      "2025-05-23 16:33:48,657 [INFO] 100%|##########| 52/52 [00:11<00:00,  4.46it/s]\n",
      "2025-05-23 16:33:50,660 [INFO] network run in 13.67s\n",
      "2025-05-23 16:33:50,662 [INFO] \n",
      "2025-05-23 16:33:50,664 [INFO] 0%|          | 0/52 [00:00<?, ?it/s]\n",
      "2025-05-23 16:33:50,665 [INFO] \u001b[A\n",
      "2025-05-23 16:33:50,677 [INFO] No cell pixels found.\n",
      "2025-05-23 16:34:21,342 [INFO] \n",
      "2025-05-23 16:34:21,344 [INFO] 75%|#######5  | 39/52 [00:30<00:10,  1.27it/s]\n",
      "2025-05-23 16:34:21,345 [INFO] \u001b[A\n",
      "2025-05-23 16:34:32,286 [INFO] 100%|##########| 52/52 [00:41<00:00,  1.25it/s]\n",
      "2025-05-23 16:34:32,288 [INFO] stitching 52 planes using stitch_threshold=0.200 to make 3D masks\n"
     ]
    },
    {
     "name": "stderr",
     "output_type": "stream",
     "text": [
      "\n",
      "  0%|                                                                                                  | 0/51 [00:00<?, ?it/s]\u001b[A\n",
      "  8%|███████                                                                                   | 4/51 [00:00<00:01, 33.65it/s]\u001b[A\n",
      " 16%|██████████████                                                                            | 8/51 [00:00<00:01, 29.72it/s]\u001b[A\n",
      " 24%|████████████████████▉                                                                    | 12/51 [00:00<00:01, 31.28it/s]\u001b[A\n",
      " 31%|███████████████████████████▉                                                             | 16/51 [00:00<00:01, 31.25it/s]\u001b[A\n",
      " 39%|██████████████████████████████████▉                                                      | 20/51 [00:00<00:00, 31.43it/s]\u001b[A\n",
      " 47%|█████████████████████████████████████████▉                                               | 24/51 [00:00<00:00, 31.81it/s]\u001b[A\n",
      " 55%|████████████████████████████████████████████████▊                                        | 28/51 [00:00<00:00, 30.46it/s]\u001b[A\n",
      " 63%|███████████████████████████████████████████████████████▊                                 | 32/51 [00:01<00:00, 29.62it/s]\u001b[A\n",
      " 69%|█████████████████████████████████████████████████████████████                            | 35/51 [00:01<00:00, 29.08it/s]\u001b[A\n",
      " 76%|████████████████████████████████████████████████████████████████████                     | 39/51 [00:01<00:00, 30.15it/s]\u001b[A\n",
      " 84%|███████████████████████████████████████████████████████████████████████████              | 43/51 [00:01<00:00, 30.08it/s]\u001b[A\n",
      " 92%|██████████████████████████████████████████████████████████████████████████████████       | 47/51 [00:01<00:00, 27.49it/s]\u001b[A\n",
      "100%|█████████████████████████████████████████████████████████████████████████████████████████| 51/51 [00:01<00:00, 29.80it/s]\u001b[A\n"
     ]
    },
    {
     "name": "stdout",
     "output_type": "stream",
     "text": [
      "2025-05-23 16:34:37,103 [INFO] masks created in 46.44s\n",
      "2025-05-23 16:34:56,921 [INFO] 52%|#####2    | 13/25 [12:29<13:45, 68.79s/it]\n",
      "2025-05-23 16:34:56,923 [INFO] multi-stack tiff read in as having 48 planes 1 channels\n",
      "2025-05-23 16:34:59,487 [INFO] \n",
      "2025-05-23 16:34:59,489 [INFO] 0%|          | 0/48 [00:00<?, ?it/s]\n",
      "2025-05-23 16:34:59,491 [INFO] \u001b[A\n",
      "2025-05-23 16:35:09,786 [INFO] 100%|##########| 48/48 [00:10<00:00,  4.66it/s]\n",
      "2025-05-23 16:35:11,636 [INFO] network run in 12.15s\n",
      "2025-05-23 16:35:11,637 [INFO] \n",
      "2025-05-23 16:35:11,639 [INFO] 0%|          | 0/48 [00:00<?, ?it/s]\n",
      "2025-05-23 16:35:11,639 [INFO] \u001b[A\n",
      "2025-05-23 16:35:41,872 [INFO] \n",
      "2025-05-23 16:35:41,874 [INFO] 81%|########1 | 39/48 [00:30<00:06,  1.29it/s]\n",
      "2025-05-23 16:35:41,875 [INFO] \u001b[A\n",
      "2025-05-23 16:35:48,796 [INFO] 100%|##########| 48/48 [00:37<00:00,  1.29it/s]\n",
      "2025-05-23 16:35:48,798 [INFO] stitching 48 planes using stitch_threshold=0.200 to make 3D masks\n"
     ]
    },
    {
     "name": "stderr",
     "output_type": "stream",
     "text": [
      "\n",
      "  0%|                                                                                                  | 0/47 [00:00<?, ?it/s]\u001b[A\n",
      "  9%|███████▋                                                                                  | 4/47 [00:00<00:01, 32.89it/s]\u001b[A\n",
      " 17%|███████████████▎                                                                          | 8/47 [00:00<00:01, 30.12it/s]\u001b[A\n",
      " 26%|██████████████████████▋                                                                  | 12/47 [00:00<00:01, 29.82it/s]\u001b[A\n",
      " 32%|████████████████████████████▍                                                            | 15/47 [00:00<00:01, 28.66it/s]\u001b[A\n",
      " 38%|██████████████████████████████████                                                       | 18/47 [00:00<00:01, 25.97it/s]\u001b[A\n",
      " 47%|█████████████████████████████████████████▋                                               | 22/47 [00:00<00:00, 28.42it/s]\u001b[A\n",
      " 55%|█████████████████████████████████████████████████▏                                       | 26/47 [00:00<00:00, 29.91it/s]\u001b[A\n",
      " 64%|████████████████████████████████████████████████████████▊                                | 30/47 [00:01<00:00, 30.57it/s]\u001b[A\n",
      " 72%|████████████████████████████████████████████████████████████████▍                        | 34/47 [00:01<00:00, 31.02it/s]\u001b[A\n",
      " 81%|███████████████████████████████████████████████████████████████████████▉                 | 38/47 [00:01<00:00, 31.75it/s]\u001b[A\n",
      " 89%|███████████████████████████████████████████████████████████████████████████████▌         | 42/47 [00:01<00:00, 31.61it/s]\u001b[A\n",
      "100%|█████████████████████████████████████████████████████████████████████████████████████████| 47/47 [00:01<00:00, 30.65it/s]\u001b[A\n"
     ]
    },
    {
     "name": "stdout",
     "output_type": "stream",
     "text": [
      "2025-05-23 16:35:53,110 [INFO] masks created in 41.47s\n",
      "2025-05-23 16:36:11,185 [INFO] 56%|#####6    | 14/25 [13:43<12:54, 70.44s/it]\n",
      "2025-05-23 16:36:11,187 [INFO] multi-stack tiff read in as having 46 planes 1 channels\n",
      "2025-05-23 16:36:13,626 [INFO] \n",
      "2025-05-23 16:36:13,628 [INFO] 0%|          | 0/46 [00:00<?, ?it/s]\n",
      "2025-05-23 16:36:13,631 [INFO] \u001b[A\n",
      "2025-05-23 16:36:23,510 [INFO] 100%|##########| 46/46 [00:09<00:00,  4.66it/s]\n",
      "2025-05-23 16:36:25,256 [INFO] network run in 11.63s\n",
      "2025-05-23 16:36:25,258 [INFO] \n",
      "2025-05-23 16:36:25,259 [INFO] 0%|          | 0/46 [00:00<?, ?it/s]\n",
      "2025-05-23 16:36:25,260 [INFO] \u001b[A\n",
      "2025-05-23 16:36:55,920 [INFO] \n",
      "2025-05-23 16:36:55,923 [INFO] 83%|########2 | 38/46 [00:30<00:06,  1.24it/s]\n",
      "2025-05-23 16:36:55,925 [INFO] \u001b[A\n",
      "2025-05-23 16:37:02,023 [INFO] 100%|##########| 46/46 [00:36<00:00,  1.25it/s]\n",
      "2025-05-23 16:37:02,025 [INFO] stitching 46 planes using stitch_threshold=0.200 to make 3D masks\n"
     ]
    },
    {
     "name": "stderr",
     "output_type": "stream",
     "text": [
      "\n",
      "  0%|                                                                                                  | 0/45 [00:00<?, ?it/s]\u001b[A\n",
      "  7%|██████                                                                                    | 3/45 [00:00<00:01, 25.21it/s]\u001b[A\n",
      " 13%|████████████                                                                              | 6/45 [00:00<00:01, 22.09it/s]\u001b[A\n",
      " 22%|███████████████████▊                                                                     | 10/45 [00:00<00:01, 26.61it/s]\u001b[A\n",
      " 31%|███████████████████████████▋                                                             | 14/45 [00:00<00:01, 28.00it/s]\u001b[A\n",
      " 38%|█████████████████████████████████▌                                                       | 17/45 [00:00<00:01, 27.71it/s]\u001b[A\n",
      " 47%|█████████████████████████████████████████▌                                               | 21/45 [00:00<00:00, 26.84it/s]\u001b[A\n",
      " 53%|███████████████████████████████████████████████▍                                         | 24/45 [00:00<00:00, 25.25it/s]\u001b[A\n",
      " 60%|█████████████████████████████████████████████████████▍                                   | 27/45 [00:01<00:00, 25.70it/s]\u001b[A\n",
      " 67%|███████████████████████████████████████████████████████████▎                             | 30/45 [00:01<00:00, 25.44it/s]\u001b[A\n",
      " 73%|█████████████████████████████████████████████████████████████████▎                       | 33/45 [00:01<00:00, 25.96it/s]\u001b[A\n",
      " 80%|███████████████████████████████████████████████████████████████████████▏                 | 36/45 [00:01<00:00, 25.43it/s]\u001b[A\n",
      " 89%|███████████████████████████████████████████████████████████████████████████████          | 40/45 [00:01<00:00, 27.00it/s]\u001b[A\n",
      "100%|█████████████████████████████████████████████████████████████████████████████████████████| 45/45 [00:01<00:00, 26.60it/s]\u001b[A\n"
     ]
    },
    {
     "name": "stdout",
     "output_type": "stream",
     "text": [
      "2025-05-23 16:37:06,267 [INFO] masks created in 41.01s\n",
      "2025-05-23 16:37:23,282 [INFO] 60%|######    | 15/25 [14:55<11:49, 70.94s/it]\n",
      "2025-05-23 16:37:23,284 [INFO] multi-stack tiff read in as having 28 planes 1 channels\n",
      "2025-05-23 16:37:24,823 [INFO] \n",
      "2025-05-23 16:37:24,825 [INFO] 0%|          | 0/28 [00:00<?, ?it/s]\n",
      "2025-05-23 16:37:24,826 [INFO] \u001b[A\n",
      "2025-05-23 16:37:30,827 [INFO] 100%|##########| 28/28 [00:05<00:00,  4.67it/s]\n",
      "2025-05-23 16:37:31,819 [INFO] network run in 7.00s\n",
      "2025-05-23 16:37:31,821 [INFO] \n",
      "2025-05-23 16:37:31,823 [INFO] 0%|          | 0/28 [00:00<?, ?it/s]\n",
      "2025-05-23 16:37:31,825 [INFO] \u001b[A\n",
      "2025-05-23 16:37:52,790 [INFO] 100%|##########| 28/28 [00:20<00:00,  1.34it/s]\n",
      "2025-05-23 16:37:52,792 [INFO] stitching 28 planes using stitch_threshold=0.200 to make 3D masks\n"
     ]
    },
    {
     "name": "stderr",
     "output_type": "stream",
     "text": [
      "\n",
      "  0%|                                                                                                  | 0/27 [00:00<?, ?it/s]\u001b[A\n",
      " 15%|█████████████▎                                                                            | 4/27 [00:00<00:00, 33.29it/s]\u001b[A\n",
      " 30%|██████████████████████████▋                                                               | 8/27 [00:00<00:00, 29.37it/s]\u001b[A\n",
      " 44%|███████████████████████████████████████▌                                                 | 12/27 [00:00<00:00, 31.76it/s]\u001b[A\n",
      " 59%|████████████████████████████████████████████████████▋                                    | 16/27 [00:00<00:00, 31.90it/s]\u001b[A\n",
      " 74%|█████████████████████████████████████████████████████████████████▉                       | 20/27 [00:00<00:00, 29.65it/s]\u001b[A\n",
      " 89%|███████████████████████████████████████████████████████████████████████████████          | 24/27 [00:00<00:00, 28.23it/s]\u001b[A\n",
      "100%|█████████████████████████████████████████████████████████████████████████████████████████| 27/27 [00:00<00:00, 28.71it/s]\u001b[A\n"
     ]
    },
    {
     "name": "stdout",
     "output_type": "stream",
     "text": [
      "2025-05-23 16:37:55,555 [INFO] masks created in 23.73s\n",
      "2025-05-23 16:38:06,497 [INFO] 64%|######4   | 16/25 [15:38<09:23, 62.60s/it]\n",
      "2025-05-23 16:38:06,498 [INFO] multi-stack tiff read in as having 55 planes 1 channels\n",
      "2025-05-23 16:38:09,534 [INFO] \n",
      "2025-05-23 16:38:09,537 [INFO] 0%|          | 0/55 [00:00<?, ?it/s]\n",
      "2025-05-23 16:38:09,539 [INFO] \u001b[A\n",
      "2025-05-23 16:38:21,111 [INFO] 100%|##########| 55/55 [00:11<00:00,  4.75it/s]\n",
      "2025-05-23 16:38:22,932 [INFO] network run in 13.40s\n",
      "2025-05-23 16:38:22,934 [INFO] \n",
      "2025-05-23 16:38:22,935 [INFO] 0%|          | 0/55 [00:00<?, ?it/s]\n",
      "2025-05-23 16:38:22,937 [INFO] \u001b[A\n",
      "2025-05-23 16:38:53,749 [INFO] \n",
      "2025-05-23 16:38:53,751 [INFO] 73%|#######2  | 40/55 [00:30<00:11,  1.30it/s]\n",
      "2025-05-23 16:38:53,752 [INFO] \u001b[A\n",
      "2025-05-23 16:39:05,207 [INFO] \n",
      "2025-05-23 16:39:05,210 [INFO] 73%|#######2  | 40/55 [00:42<00:11,  1.30it/s]\n",
      "2025-05-23 16:39:05,211 [INFO] \u001b[A\n",
      "2025-05-23 16:39:06,421 [INFO] 100%|##########| 55/55 [00:43<00:00,  1.26it/s]\n",
      "2025-05-23 16:39:06,423 [INFO] stitching 55 planes using stitch_threshold=0.200 to make 3D masks\n"
     ]
    },
    {
     "name": "stderr",
     "output_type": "stream",
     "text": [
      "\n",
      "  0%|                                                                                                  | 0/54 [00:00<?, ?it/s]\u001b[A\n",
      "  7%|██████▋                                                                                   | 4/54 [00:00<00:01, 32.36it/s]\u001b[A\n",
      " 15%|█████████████▎                                                                            | 8/54 [00:00<00:01, 30.47it/s]\u001b[A\n",
      " 22%|███████████████████▊                                                                     | 12/54 [00:00<00:01, 30.74it/s]\u001b[A\n",
      " 30%|██████████████████████████▎                                                              | 16/54 [00:00<00:01, 30.36it/s]\u001b[A\n",
      " 37%|████████████████████████████████▉                                                        | 20/54 [00:00<00:01, 29.09it/s]\u001b[A\n",
      " 43%|█████████████████████████████████████▉                                                   | 23/54 [00:00<00:01, 29.18it/s]\u001b[A\n",
      " 48%|██████████████████████████████████████████▊                                              | 26/54 [00:00<00:00, 28.23it/s]\u001b[A\n",
      " 54%|███████████████████████████████████████████████▊                                         | 29/54 [00:00<00:00, 28.67it/s]\u001b[A\n",
      " 59%|████████████████████████████████████████████████████▋                                    | 32/54 [00:01<00:00, 27.96it/s]\u001b[A\n",
      " 65%|█████████████████████████████████████████████████████████▋                               | 35/54 [00:01<00:00, 25.29it/s]\u001b[A\n",
      " 72%|████████████████████████████████████████████████████████████████▎                        | 39/54 [00:01<00:00, 27.12it/s]\u001b[A\n",
      " 78%|█████████████████████████████████████████████████████████████████████▏                   | 42/54 [00:01<00:00, 26.09it/s]\u001b[A\n",
      " 83%|██████████████████████████████████████████████████████████████████████████▏              | 45/54 [00:01<00:00, 26.78it/s]\u001b[A\n",
      " 91%|████████████████████████████████████████████████████████████████████████████████▊        | 49/54 [00:01<00:00, 26.07it/s]\u001b[A\n",
      "100%|█████████████████████████████████████████████████████████████████████████████████████████| 54/54 [00:01<00:00, 27.88it/s]\u001b[A\n"
     ]
    },
    {
     "name": "stdout",
     "output_type": "stream",
     "text": [
      "2025-05-23 16:39:12,282 [INFO] masks created in 49.35s\n",
      "2025-05-23 16:39:33,347 [INFO] 68%|######8   | 17/25 [17:05<09:19, 69.89s/it]\n",
      "2025-05-23 16:39:33,350 [INFO] multi-stack tiff read in as having 44 planes 1 channels\n",
      "2025-05-23 16:39:35,918 [INFO] \n",
      "2025-05-23 16:39:35,920 [INFO] 0%|          | 0/44 [00:00<?, ?it/s]\n",
      "2025-05-23 16:39:35,922 [INFO] \u001b[A\n",
      "2025-05-23 16:39:45,603 [INFO] 100%|##########| 44/44 [00:09<00:00,  4.55it/s]\n",
      "2025-05-23 16:39:47,195 [INFO] network run in 11.28s\n",
      "2025-05-23 16:39:47,196 [INFO] \n",
      "2025-05-23 16:39:47,197 [INFO] 0%|          | 0/44 [00:00<?, ?it/s]\n",
      "2025-05-23 16:39:47,198 [INFO] \u001b[A\n",
      "2025-05-23 16:40:17,482 [INFO] \n",
      "2025-05-23 16:40:17,484 [INFO] 84%|########4 | 37/44 [00:30<00:05,  1.22it/s]\n",
      "2025-05-23 16:40:17,485 [INFO] \u001b[A\n",
      "2025-05-23 16:40:22,561 [INFO] 100%|##########| 44/44 [00:35<00:00,  1.24it/s]\n",
      "2025-05-23 16:40:22,563 [INFO] stitching 44 planes using stitch_threshold=0.200 to make 3D masks\n"
     ]
    },
    {
     "name": "stderr",
     "output_type": "stream",
     "text": [
      "\n",
      "  0%|                                                                                                  | 0/43 [00:00<?, ?it/s]\u001b[A\n",
      "  7%|██████▎                                                                                   | 3/43 [00:00<00:01, 26.67it/s]\u001b[A\n",
      " 14%|████████████▌                                                                             | 6/43 [00:00<00:01, 25.46it/s]\u001b[A\n",
      " 21%|██████████████████▊                                                                       | 9/43 [00:00<00:01, 27.23it/s]\u001b[A\n",
      " 28%|████████████████████████▊                                                                | 12/43 [00:00<00:01, 28.08it/s]\u001b[A\n",
      " 35%|███████████████████████████████                                                          | 15/43 [00:00<00:01, 27.15it/s]\u001b[A\n",
      " 42%|█████████████████████████████████████▎                                                   | 18/43 [00:00<00:01, 24.82it/s]\u001b[A\n",
      " 49%|███████████████████████████████████████████▍                                             | 21/43 [00:00<00:00, 22.67it/s]\u001b[A\n",
      " 56%|█████████████████████████████████████████████████▋                                       | 24/43 [00:00<00:00, 23.63it/s]\u001b[A\n",
      " 63%|███████████████████████████████████████████████████████▉                                 | 27/43 [00:01<00:00, 23.33it/s]\u001b[A\n",
      " 72%|████████████████████████████████████████████████████████████████▏                        | 31/43 [00:01<00:00, 25.66it/s]\u001b[A\n",
      " 81%|████████████████████████████████████████████████████████████████████████▍                | 35/43 [00:01<00:00, 27.21it/s]\u001b[A\n",
      " 88%|██████████████████████████████████████████████████████████████████████████████▋          | 38/43 [00:01<00:00, 27.72it/s]\u001b[A\n",
      "100%|█████████████████████████████████████████████████████████████████████████████████████████| 43/43 [00:01<00:00, 25.76it/s]\u001b[A\n"
     ]
    },
    {
     "name": "stdout",
     "output_type": "stream",
     "text": [
      "2025-05-23 16:40:27,116 [INFO] masks created in 39.92s\n",
      "2025-05-23 16:40:43,166 [INFO] 72%|#######2  | 18/25 [18:15<08:09, 69.87s/it]\n",
      "2025-05-23 16:40:43,168 [INFO] multi-stack tiff read in as having 58 planes 1 channels\n",
      "2025-05-23 16:40:46,322 [INFO] \n",
      "2025-05-23 16:40:46,324 [INFO] 0%|          | 0/58 [00:00<?, ?it/s]\n",
      "2025-05-23 16:40:46,327 [INFO] \u001b[A\n",
      "2025-05-23 16:40:59,031 [INFO] 100%|##########| 58/58 [00:12<00:00,  4.57it/s]\n",
      "2025-05-23 16:41:01,282 [INFO] network run in 14.96s\n",
      "2025-05-23 16:41:01,284 [INFO] \n",
      "2025-05-23 16:41:01,286 [INFO] 0%|          | 0/58 [00:00<?, ?it/s]\n",
      "2025-05-23 16:41:01,287 [INFO] \u001b[A\n",
      "2025-05-23 16:41:31,382 [INFO] \n",
      "2025-05-23 16:41:31,385 [INFO] 76%|#######5  | 44/58 [00:30<00:09,  1.46it/s]\n",
      "2025-05-23 16:41:31,385 [INFO] \u001b[A\n",
      "2025-05-23 16:41:41,286 [INFO] 100%|##########| 58/58 [00:39<00:00,  1.45it/s]\n",
      "2025-05-23 16:41:41,287 [INFO] stitching 58 planes using stitch_threshold=0.200 to make 3D masks\n"
     ]
    },
    {
     "name": "stderr",
     "output_type": "stream",
     "text": [
      "\n",
      "  0%|                                                                                                  | 0/57 [00:00<?, ?it/s]\u001b[A\n",
      "  5%|████▋                                                                                     | 3/57 [00:00<00:01, 29.76it/s]\u001b[A\n",
      " 11%|█████████▍                                                                                | 6/57 [00:00<00:02, 24.46it/s]\u001b[A\n",
      " 16%|██████████████▏                                                                           | 9/57 [00:00<00:01, 24.73it/s]\u001b[A\n",
      " 21%|██████████████████▋                                                                      | 12/57 [00:00<00:01, 25.17it/s]\u001b[A\n",
      " 26%|███████████████████████▍                                                                 | 15/57 [00:00<00:01, 24.76it/s]\u001b[A\n",
      " 32%|████████████████████████████                                                             | 18/57 [00:00<00:01, 24.97it/s]\u001b[A\n",
      " 37%|████████████████████████████████▊                                                        | 21/57 [00:00<00:01, 23.75it/s]\u001b[A\n",
      " 42%|█████████████████████████████████████▍                                                   | 24/57 [00:00<00:01, 24.52it/s]\u001b[A\n",
      " 47%|██████████████████████████████████████████▏                                              | 27/57 [00:01<00:01, 24.62it/s]\u001b[A\n",
      " 53%|██████████████████████████████████████████████▊                                          | 30/57 [00:01<00:01, 25.19it/s]\u001b[A\n",
      " 58%|███████████████████████████████████████████████████▌                                     | 33/57 [00:01<00:00, 25.54it/s]\u001b[A\n",
      " 63%|████████████████████████████████████████████████████████▏                                | 36/57 [00:01<00:00, 24.10it/s]\u001b[A\n",
      " 68%|████████████████████████████████████████████████████████████▉                            | 39/57 [00:01<00:00, 24.33it/s]\u001b[A\n",
      " 74%|█████████████████████████████████████████████████████████████████▌                       | 42/57 [00:01<00:00, 21.93it/s]\u001b[A\n",
      " 79%|██████████████████████████████████████████████████████████████████████▎                  | 45/57 [00:01<00:00, 22.62it/s]\u001b[A\n",
      " 84%|██████████████████████████████████████████████████████████████████████████▉              | 48/57 [00:02<00:00, 22.67it/s]\u001b[A\n",
      " 89%|███████████████████████████████████████████████████████████████████████████████▋         | 51/57 [00:02<00:00, 21.95it/s]\u001b[A\n",
      "100%|█████████████████████████████████████████████████████████████████████████████████████████| 57/57 [00:02<00:00, 24.02it/s]\u001b[A\n"
     ]
    },
    {
     "name": "stdout",
     "output_type": "stream",
     "text": [
      "2025-05-23 16:41:47,229 [INFO] masks created in 45.94s\n",
      "2025-05-23 16:42:09,685 [INFO] 76%|#######6  | 19/25 [19:42<07:29, 74.87s/it]\n",
      "2025-05-23 16:42:09,686 [INFO] multi-stack tiff read in as having 59 planes 1 channels\n",
      "2025-05-23 16:42:13,032 [INFO] \n",
      "2025-05-23 16:42:13,034 [INFO] 0%|          | 0/59 [00:00<?, ?it/s]\n",
      "2025-05-23 16:42:13,036 [INFO] \u001b[A\n",
      "2025-05-23 16:42:25,807 [INFO] 100%|##########| 59/59 [00:12<00:00,  4.62it/s]\n",
      "2025-05-23 16:42:28,362 [INFO] network run in 15.33s\n",
      "2025-05-23 16:42:28,363 [INFO] \n",
      "2025-05-23 16:42:28,365 [INFO] 0%|          | 0/59 [00:00<?, ?it/s]\n",
      "2025-05-23 16:42:28,367 [INFO] \u001b[A\n",
      "2025-05-23 16:42:59,178 [INFO] \n",
      "2025-05-23 16:42:59,179 [INFO] 59%|#####9    | 35/59 [00:30<00:21,  1.14it/s]\n",
      "2025-05-23 16:42:59,181 [INFO] \u001b[A\n",
      "2025-05-23 16:43:15,244 [INFO] \n",
      "2025-05-23 16:43:15,246 [INFO] 59%|#####9    | 35/59 [00:46<00:21,  1.14it/s]\n",
      "2025-05-23 16:43:15,248 [INFO] \u001b[A\n",
      "2025-05-23 16:43:18,369 [INFO] 100%|##########| 59/59 [00:50<00:00,  1.18it/s]\n",
      "2025-05-23 16:43:18,371 [INFO] stitching 59 planes using stitch_threshold=0.200 to make 3D masks\n"
     ]
    },
    {
     "name": "stderr",
     "output_type": "stream",
     "text": [
      "\n",
      "  0%|                                                                                                  | 0/58 [00:00<?, ?it/s]\u001b[A\n",
      "  5%|████▋                                                                                     | 3/58 [00:00<00:02, 27.11it/s]\u001b[A\n",
      " 10%|█████████▎                                                                                | 6/58 [00:00<00:01, 28.31it/s]\u001b[A\n",
      " 16%|█████████████▉                                                                            | 9/58 [00:00<00:02, 24.46it/s]\u001b[A\n",
      " 21%|██████████████████▍                                                                      | 12/58 [00:00<00:02, 21.86it/s]\u001b[A\n",
      " 26%|███████████████████████                                                                  | 15/58 [00:00<00:01, 22.32it/s]\u001b[A\n",
      " 31%|███████████████████████████▌                                                             | 18/58 [00:00<00:01, 23.73it/s]\u001b[A\n",
      " 36%|████████████████████████████████▏                                                        | 21/58 [00:00<00:01, 23.96it/s]\u001b[A\n",
      " 41%|████████████████████████████████████▊                                                    | 24/58 [00:00<00:01, 24.79it/s]\u001b[A\n",
      " 47%|█████████████████████████████████████████▍                                               | 27/58 [00:01<00:01, 24.31it/s]\u001b[A\n",
      " 52%|██████████████████████████████████████████████                                           | 30/58 [00:01<00:01, 23.72it/s]\u001b[A\n",
      " 57%|██████████████████████████████████████████████████▋                                      | 33/58 [00:01<00:01, 24.77it/s]\u001b[A\n",
      " 62%|███████████████████████████████████████████████████████▏                                 | 36/58 [00:01<00:00, 25.54it/s]\u001b[A\n",
      " 67%|███████████████████████████████████████████████████████████▊                             | 39/58 [00:01<00:00, 25.37it/s]\u001b[A\n",
      " 72%|████████████████████████████████████████████████████████████████▍                        | 42/58 [00:01<00:00, 25.00it/s]\u001b[A\n",
      " 78%|█████████████████████████████████████████████████████████████████████                    | 45/58 [00:01<00:00, 26.20it/s]\u001b[A\n",
      " 83%|█████████████████████████████████████████████████████████████████████████▋               | 48/58 [00:01<00:00, 26.89it/s]\u001b[A\n",
      " 88%|██████████████████████████████████████████████████████████████████████████████▎          | 51/58 [00:02<00:00, 26.66it/s]\u001b[A\n",
      " 93%|██████████████████████████████████████████████████████████████████████████████████▊      | 54/58 [00:02<00:00, 24.36it/s]\u001b[A\n",
      "100%|█████████████████████████████████████████████████████████████████████████████████████████| 58/58 [00:02<00:00, 24.67it/s]\u001b[A\n"
     ]
    },
    {
     "name": "stdout",
     "output_type": "stream",
     "text": [
      "2025-05-23 16:43:24,322 [INFO] masks created in 55.96s\n",
      "2025-05-23 16:43:45,840 [INFO] 80%|########  | 20/25 [21:18<06:46, 81.26s/it]\n",
      "2025-05-23 16:43:45,841 [INFO] multi-stack tiff read in as having 35 planes 1 channels\n",
      "2025-05-23 16:43:47,790 [INFO] \n",
      "2025-05-23 16:43:47,792 [INFO] 0%|          | 0/35 [00:00<?, ?it/s]\n",
      "2025-05-23 16:43:47,794 [INFO] \u001b[A\n",
      "2025-05-23 16:43:55,358 [INFO] 100%|##########| 35/35 [00:07<00:00,  4.63it/s]\n",
      "2025-05-23 16:43:56,515 [INFO] network run in 8.73s\n",
      "2025-05-23 16:43:56,516 [INFO] \n",
      "2025-05-23 16:43:56,517 [INFO] 0%|          | 0/35 [00:00<?, ?it/s]\n",
      "2025-05-23 16:43:56,518 [INFO] \u001b[A\n",
      "2025-05-23 16:44:23,938 [INFO] 100%|##########| 35/35 [00:27<00:00,  1.28it/s]\n",
      "2025-05-23 16:44:23,939 [INFO] stitching 35 planes using stitch_threshold=0.200 to make 3D masks\n"
     ]
    },
    {
     "name": "stderr",
     "output_type": "stream",
     "text": [
      "\n",
      "  0%|                                                                                                  | 0/34 [00:00<?, ?it/s]\u001b[A\n",
      "  9%|███████▉                                                                                  | 3/34 [00:00<00:01, 27.70it/s]\u001b[A\n",
      " 18%|███████████████▉                                                                          | 6/34 [00:00<00:01, 24.43it/s]\u001b[A\n",
      " 29%|██████████████████████████▏                                                              | 10/34 [00:00<00:00, 28.44it/s]\u001b[A\n",
      " 38%|██████████████████████████████████                                                       | 13/34 [00:00<00:00, 26.44it/s]\u001b[A\n",
      " 47%|█████████████████████████████████████████▉                                               | 16/34 [00:00<00:00, 25.26it/s]\u001b[A\n",
      " 56%|█████████████████████████████████████████████████▋                                       | 19/34 [00:00<00:00, 25.34it/s]\u001b[A\n",
      " 65%|█████████████████████████████████████████████████████████▌                               | 22/34 [00:00<00:00, 26.43it/s]\u001b[A\n",
      " 76%|████████████████████████████████████████████████████████████████████                     | 26/34 [00:00<00:00, 27.30it/s]\u001b[A\n",
      " 85%|███████████████████████████████████████████████████████████████████████████▉             | 29/34 [00:01<00:00, 27.94it/s]\u001b[A\n",
      "100%|█████████████████████████████████████████████████████████████████████████████████████████| 34/34 [00:01<00:00, 26.94it/s]\u001b[A\n"
     ]
    },
    {
     "name": "stdout",
     "output_type": "stream",
     "text": [
      "2025-05-23 16:44:27,467 [INFO] masks created in 30.95s\n",
      "2025-05-23 16:44:40,979 [INFO] 84%|########4 | 21/25 [22:13<04:53, 73.42s/it]\n",
      "2025-05-23 16:44:40,981 [INFO] multi-stack tiff read in as having 40 planes 1 channels\n",
      "2025-05-23 16:44:43,351 [INFO] \n",
      "2025-05-23 16:44:43,352 [INFO] 0%|          | 0/40 [00:00<?, ?it/s]\n",
      "2025-05-23 16:44:43,354 [INFO] \u001b[A\n",
      "2025-05-23 16:44:52,154 [INFO] 100%|##########| 40/40 [00:08<00:00,  4.55it/s]\n",
      "2025-05-23 16:44:53,435 [INFO] network run in 10.08s\n",
      "2025-05-23 16:44:53,436 [INFO] \n",
      "2025-05-23 16:44:53,437 [INFO] 0%|          | 0/40 [00:00<?, ?it/s]\n",
      "2025-05-23 16:44:53,438 [INFO] \u001b[A\n",
      "2025-05-23 16:44:53,661 [WARNING] no seeds found in get_masks_torch - no masks found.\n",
      "2025-05-23 16:45:20,942 [INFO] 100%|##########| 40/40 [00:27<00:00,  1.45it/s]\n",
      "2025-05-23 16:45:20,944 [INFO] stitching 40 planes using stitch_threshold=0.200 to make 3D masks\n"
     ]
    },
    {
     "name": "stderr",
     "output_type": "stream",
     "text": [
      "\n",
      "  0%|                                                                                                  | 0/39 [00:00<?, ?it/s]\u001b[A\n",
      " 10%|█████████▏                                                                                | 4/39 [00:00<00:01, 32.48it/s]\u001b[A\n",
      " 21%|██████████████████▍                                                                       | 8/39 [00:00<00:00, 31.46it/s]\u001b[A\n",
      " 31%|███████████████████████████▍                                                             | 12/39 [00:00<00:00, 29.87it/s]\u001b[A\n",
      " 38%|██████████████████████████████████▏                                                      | 15/39 [00:00<00:00, 27.61it/s]\u001b[A\n",
      " 49%|███████████████████████████████████████████▎                                             | 19/39 [00:00<00:00, 28.71it/s]\u001b[A\n",
      " 56%|██████████████████████████████████████████████████▏                                      | 22/39 [00:00<00:00, 28.50it/s]\u001b[A\n",
      " 67%|███████████████████████████████████████████████████████████▎                             | 26/39 [00:00<00:00, 29.38it/s]\u001b[A\n",
      " 74%|██████████████████████████████████████████████████████████████████▏                      | 29/39 [00:01<00:00, 27.11it/s]\u001b[A\n",
      " 82%|█████████████████████████████████████████████████████████████████████████                | 32/39 [00:01<00:00, 27.66it/s]\u001b[A\n",
      " 90%|███████████████████████████████████████████████████████████████████████████████▊         | 35/39 [00:01<00:00, 27.69it/s]\u001b[A\n",
      "100%|█████████████████████████████████████████████████████████████████████████████████████████| 39/39 [00:01<00:00, 28.26it/s]\u001b[A\n"
     ]
    },
    {
     "name": "stdout",
     "output_type": "stream",
     "text": [
      "2025-05-23 16:45:24,848 [INFO] masks created in 31.41s\n",
      "2025-05-23 16:45:40,170 [INFO] 88%|########8 | 22/25 [23:12<03:27, 69.15s/it]\n",
      "2025-05-23 16:45:40,172 [INFO] multi-stack tiff read in as having 46 planes 1 channels\n",
      "2025-05-23 16:45:42,800 [INFO] \n",
      "2025-05-23 16:45:42,801 [INFO] 0%|          | 0/46 [00:00<?, ?it/s]\n",
      "2025-05-23 16:45:42,803 [INFO] \u001b[A\n",
      "2025-05-23 16:45:52,620 [INFO] 100%|##########| 46/46 [00:09<00:00,  4.69it/s]\n",
      "2025-05-23 16:45:54,076 [INFO] network run in 11.28s\n",
      "2025-05-23 16:45:54,078 [INFO] \n",
      "2025-05-23 16:45:54,079 [INFO] 0%|          | 0/46 [00:00<?, ?it/s]\n",
      "2025-05-23 16:45:54,081 [INFO] \u001b[A\n",
      "2025-05-23 16:46:24,307 [INFO] \n",
      "2025-05-23 16:46:24,309 [INFO] 83%|########2 | 38/46 [00:30<00:06,  1.26it/s]\n",
      "2025-05-23 16:46:24,311 [INFO] \u001b[A\n",
      "2025-05-23 16:46:30,462 [INFO] 100%|##########| 46/46 [00:36<00:00,  1.26it/s]\n",
      "2025-05-23 16:46:30,464 [INFO] stitching 46 planes using stitch_threshold=0.200 to make 3D masks\n"
     ]
    },
    {
     "name": "stderr",
     "output_type": "stream",
     "text": [
      "\n",
      "  0%|                                                                                                  | 0/45 [00:00<?, ?it/s]\u001b[A\n",
      "  9%|████████                                                                                  | 4/45 [00:00<00:01, 33.44it/s]\u001b[A\n",
      " 18%|████████████████                                                                          | 8/45 [00:00<00:01, 30.81it/s]\u001b[A\n",
      " 27%|███████████████████████▋                                                                 | 12/45 [00:00<00:01, 28.71it/s]\u001b[A\n",
      " 33%|█████████████████████████████▋                                                           | 15/45 [00:00<00:01, 28.88it/s]\u001b[A\n",
      " 42%|█████████████████████████████████████▌                                                   | 19/45 [00:00<00:00, 28.51it/s]\u001b[A\n",
      " 49%|███████████████████████████████████████████▌                                             | 22/45 [00:00<00:00, 27.79it/s]\u001b[A\n",
      " 56%|█████████████████████████████████████████████████▍                                       | 25/45 [00:00<00:00, 27.26it/s]\u001b[A\n",
      " 62%|███████████████████████████████████████████████████████▍                                 | 28/45 [00:00<00:00, 26.93it/s]\u001b[A\n",
      " 69%|█████████████████████████████████████████████████████████████▎                           | 31/45 [00:01<00:00, 27.70it/s]\u001b[A\n",
      " 78%|█████████████████████████████████████████████████████████████████████▏                   | 35/45 [00:01<00:00, 28.76it/s]\u001b[A\n",
      " 84%|███████████████████████████████████████████████████████████████████████████▏             | 38/45 [00:01<00:00, 27.70it/s]\u001b[A\n",
      " 91%|█████████████████████████████████████████████████████████████████████████████████        | 41/45 [00:01<00:00, 26.61it/s]\u001b[A\n",
      "100%|█████████████████████████████████████████████████████████████████████████████████████████| 45/45 [00:01<00:00, 27.19it/s]\u001b[A\n"
     ]
    },
    {
     "name": "stdout",
     "output_type": "stream",
     "text": [
      "2025-05-23 16:46:34,965 [INFO] masks created in 40.89s\n",
      "2025-05-23 16:46:51,520 [INFO] 92%|#########2| 23/25 [24:23<02:19, 69.81s/it]\n",
      "2025-05-23 16:46:51,522 [INFO] multi-stack tiff read in as having 66 planes 1 channels\n",
      "2025-05-23 16:46:54,961 [INFO] \n",
      "2025-05-23 16:46:54,963 [INFO] 0%|          | 0/66 [00:00<?, ?it/s]\n",
      "2025-05-23 16:46:54,965 [INFO] \u001b[A\n",
      "2025-05-23 16:47:09,092 [INFO] 100%|##########| 66/66 [00:14<00:00,  4.67it/s]\n",
      "2025-05-23 16:47:11,161 [INFO] network run in 16.20s\n",
      "2025-05-23 16:47:11,163 [INFO] \n",
      "2025-05-23 16:47:11,164 [INFO] 0%|          | 0/66 [00:00<?, ?it/s]\n",
      "2025-05-23 16:47:11,165 [INFO] \u001b[A\n",
      "2025-05-23 16:47:41,313 [INFO] \n",
      "2025-05-23 16:47:41,315 [INFO] 58%|#####7    | 38/66 [00:30<00:22,  1.26it/s]\n",
      "2025-05-23 16:47:41,317 [INFO] \u001b[A\n",
      "2025-05-23 16:47:55,404 [INFO] \n",
      "2025-05-23 16:47:55,405 [INFO] 58%|#####7    | 38/66 [00:44<00:22,  1.26it/s]\n",
      "2025-05-23 16:47:55,406 [INFO] \u001b[A\n",
      "2025-05-23 16:48:01,868 [INFO] 100%|##########| 66/66 [00:50<00:00,  1.30it/s]\n",
      "2025-05-23 16:48:01,869 [INFO] stitching 66 planes using stitch_threshold=0.200 to make 3D masks\n"
     ]
    },
    {
     "name": "stderr",
     "output_type": "stream",
     "text": [
      "\n",
      "  0%|                                                                                                  | 0/65 [00:00<?, ?it/s]\u001b[A\n",
      "  5%|████▏                                                                                     | 3/65 [00:00<00:02, 21.33it/s]\u001b[A\n",
      "  9%|████████▎                                                                                 | 6/65 [00:00<00:02, 23.16it/s]\u001b[A\n",
      " 15%|█████████████▋                                                                           | 10/65 [00:00<00:02, 26.80it/s]\u001b[A\n",
      " 20%|█████████████████▊                                                                       | 13/65 [00:00<00:01, 27.06it/s]\u001b[A\n",
      " 25%|█████████████████████▉                                                                   | 16/65 [00:00<00:01, 27.52it/s]\u001b[A\n",
      " 29%|██████████████████████████                                                               | 19/65 [00:00<00:01, 27.87it/s]\u001b[A\n",
      " 34%|██████████████████████████████                                                           | 22/65 [00:00<00:01, 27.93it/s]\u001b[A\n",
      " 38%|██████████████████████████████████▏                                                      | 25/65 [00:00<00:01, 27.34it/s]\u001b[A\n",
      " 43%|██████████████████████████████████████▎                                                  | 28/65 [00:01<00:01, 26.29it/s]\u001b[A\n",
      " 48%|██████████████████████████████████████████▍                                              | 31/65 [00:01<00:01, 26.97it/s]\u001b[A\n",
      " 52%|██████████████████████████████████████████████▌                                          | 34/65 [00:01<00:01, 27.35it/s]\u001b[A\n",
      " 57%|██████████████████████████████████████████████████▋                                      | 37/65 [00:01<00:01, 26.69it/s]\u001b[A\n",
      " 62%|██████████████████████████████████████████████████████▊                                  | 40/65 [00:01<00:01, 24.38it/s]\u001b[A\n",
      " 66%|██████████████████████████████████████████████████████████▉                              | 43/65 [00:01<00:00, 23.85it/s]\u001b[A\n",
      " 71%|██████████████████████████████████████████████████████████████▉                          | 46/65 [00:01<00:00, 24.62it/s]\u001b[A\n",
      " 75%|███████████████████████████████████████████████████████████████████                      | 49/65 [00:01<00:00, 24.79it/s]\u001b[A\n",
      " 80%|███████████████████████████████████████████████████████████████████████▏                 | 52/65 [00:02<00:00, 25.19it/s]\u001b[A\n",
      " 85%|███████████████████████████████████████████████████████████████████████████▎             | 55/65 [00:02<00:00, 25.86it/s]\u001b[A\n",
      " 89%|███████████████████████████████████████████████████████████████████████████████▍         | 58/65 [00:02<00:00, 24.62it/s]\u001b[A\n",
      " 94%|███████████████████████████████████████████████████████████████████████████████████▌     | 61/65 [00:02<00:00, 25.52it/s]\u001b[A\n",
      "100%|█████████████████████████████████████████████████████████████████████████████████████████| 65/65 [00:02<00:00, 25.93it/s]\u001b[A\n"
     ]
    },
    {
     "name": "stdout",
     "output_type": "stream",
     "text": [
      "2025-05-23 16:48:08,134 [INFO] masks created in 56.97s\n",
      "2025-05-23 16:48:33,006 [INFO] 96%|#########6| 24/25 [26:05<01:19, 79.31s/it]\n",
      "2025-05-23 16:48:33,008 [INFO] multi-stack tiff read in as having 52 planes 1 channels\n",
      "2025-05-23 16:48:35,930 [INFO] \n",
      "2025-05-23 16:48:35,932 [INFO] 0%|          | 0/52 [00:00<?, ?it/s]\n",
      "2025-05-23 16:48:35,934 [INFO] \u001b[A\n",
      "2025-05-23 16:48:46,930 [INFO] 100%|##########| 52/52 [00:10<00:00,  4.73it/s]\n",
      "2025-05-23 16:48:48,645 [INFO] network run in 12.72s\n",
      "2025-05-23 16:48:48,647 [INFO] \n",
      "2025-05-23 16:48:48,648 [INFO] 0%|          | 0/52 [00:00<?, ?it/s]\n",
      "2025-05-23 16:48:48,650 [INFO] \u001b[A\n",
      "2025-05-23 16:49:18,694 [INFO] \n",
      "2025-05-23 16:49:18,696 [INFO] 63%|######3   | 33/52 [00:30<00:17,  1.10it/s]\n",
      "2025-05-23 16:49:18,699 [INFO] \u001b[A\n",
      "2025-05-23 16:49:32,199 [INFO] No cell pixels found.\n",
      "2025-05-23 16:49:32,265 [INFO] 100%|##########| 52/52 [00:43<00:00,  1.19it/s]\n",
      "2025-05-23 16:49:32,267 [INFO] stitching 52 planes using stitch_threshold=0.200 to make 3D masks\n"
     ]
    },
    {
     "name": "stderr",
     "output_type": "stream",
     "text": [
      "\n",
      "  0%|                                                                                                  | 0/51 [00:00<?, ?it/s]\u001b[A\n",
      "  6%|█████▎                                                                                    | 3/51 [00:00<00:01, 27.26it/s]\u001b[A\n",
      " 12%|██████████▌                                                                               | 6/51 [00:00<00:01, 24.57it/s]\u001b[A\n",
      " 20%|█████████████████▍                                                                       | 10/51 [00:00<00:01, 27.44it/s]\u001b[A\n",
      " 25%|██████████████████████▋                                                                  | 13/51 [00:00<00:01, 28.31it/s]\u001b[A\n",
      " 31%|███████████████████████████▉                                                             | 16/51 [00:00<00:01, 24.59it/s]\u001b[A\n",
      " 37%|█████████████████████████████████▏                                                       | 19/51 [00:00<00:01, 25.94it/s]\u001b[A\n",
      " 43%|██████████████████████████████████████▍                                                  | 22/51 [00:00<00:01, 24.43it/s]\u001b[A\n",
      " 49%|███████████████████████████████████████████▋                                             | 25/51 [00:00<00:01, 25.73it/s]\u001b[A\n",
      " 57%|██████████████████████████████████████████████████▌                                      | 29/51 [00:01<00:00, 26.79it/s]\u001b[A\n",
      " 65%|█████████████████████████████████████████████████████████▌                               | 33/51 [00:01<00:00, 28.94it/s]\u001b[A\n",
      " 73%|████████████████████████████████████████████████████████████████▌                        | 37/51 [00:01<00:00, 30.22it/s]\u001b[A\n",
      " 80%|███████████████████████████████████████████████████████████████████████▌                 | 41/51 [00:01<00:00, 31.00it/s]\u001b[A\n",
      " 88%|██████████████████████████████████████████████████████████████████████████████▌          | 45/51 [00:01<00:00, 29.72it/s]\u001b[A\n",
      "100%|█████████████████████████████████████████████████████████████████████████████████████████| 51/51 [00:01<00:00, 28.18it/s]\u001b[A\n"
     ]
    },
    {
     "name": "stdout",
     "output_type": "stream",
     "text": [
      "2025-05-23 16:49:37,587 [INFO] masks created in 48.94s\n",
      "2025-05-23 16:49:56,812 [INFO] 100%|##########| 25/25 [27:29<00:00, 80.66s/it]\n",
      "2025-05-23 16:49:56,814 [INFO] 100%|##########| 25/25 [27:29<00:00, 65.97s/it]\n",
      "2025-05-23 16:49:56,815 [INFO] >>>> TOTAL TIME 1649.22 sec\n"
     ]
    }
   ],
   "source": [
    "io.logger_setup()\n",
    "model = models.Cellpose(gpu=True,model_type='cyto3') # model_type='cyto' or 'nuclei' or 'cyto2' or 'cyto3'\n",
    "channels =[[0,0]]\n",
    "masks, _, _, _ = model.eval(norm_imgs, diameter=70, channels=channels, z_axis=0,stitch_threshold=0.2,flow_threshold=0.5,cellprob_threshold=1.0)"
   ]
  },
  {
   "cell_type": "code",
   "execution_count": 56,
   "id": "6d0b6a12-ff5c-46fd-a0f5-84cba7478a94",
   "metadata": {},
   "outputs": [
    {
     "name": "stdout",
     "output_type": "stream",
     "text": [
      "processing Control_MO_00.tif. 0 of 25 complete.\n",
      "processing Control_MO_01.tif. 1 of 25 complete.\n",
      "processing Control_MO_02.tif. 2 of 25 complete.\n",
      "processing Control_MO_03.tif. 3 of 25 complete.\n",
      "processing Control_MO_04.tif. 4 of 25 complete.\n",
      "processing Control_MO_05.tif. 5 of 25 complete.\n",
      "processing Control_MO_06.tif. 6 of 25 complete.\n",
      "processing Control_MO_07.tif. 7 of 25 complete.\n",
      "processing gnas_MO_1ng_00.tif. 8 of 25 complete.\n",
      "processing gnas_MO_1ng_01.tif. 9 of 25 complete.\n",
      "processing gnas_MO_1ng_02.tif. 10 of 25 complete.\n",
      "processing gnas_MO_1ng_03.tif. 11 of 25 complete.\n",
      "processing gnas_MO_1ng_04.tif. 12 of 25 complete.\n",
      "processing gnas_MO_1ng_05.tif. 13 of 25 complete.\n",
      "processing gnas_MO_1ng_06.tif. 14 of 25 complete.\n",
      "processing gnas_MO_1ng_07.tif. 15 of 25 complete.\n",
      "processing gnas_MO_2ng_00.tif. 16 of 25 complete.\n",
      "processing gnas_MO_2ng_01.tif. 17 of 25 complete.\n",
      "processing gnas_MO_2ng_02.tif. 18 of 25 complete.\n",
      "processing gnas_MO_2ng_03.tif. 19 of 25 complete.\n",
      "processing gnas_MO_2ng_04.tif. 20 of 25 complete.\n",
      "processing gnas_MO_2ng_05.tif. 21 of 25 complete.\n",
      "processing gnas_MO_2ng_06.tif. 22 of 25 complete.\n",
      "processing gnas_MO_2ng_07.tif. 23 of 25 complete.\n",
      "processing gnas_MO_2ng_08.tif. 24 of 25 complete.\n"
     ]
    }
   ],
   "source": [
    "for i in range(len(norm_imgs)):\n",
    "    img_name = os.path.basename(all_files[i])\n",
    "    print(f'processing {img_name}. {i} of {len(norm_imgs)} complete.')\n",
    "    mask_img, df = get_measurements(masks[i],all_img[i],props)\n",
    "    scaled_df = scaled_vol(df,voxel)\n",
    "    merged_df = get_3D_surfacearea_and_sphericity(mask_img,scaled_df)\n",
    "    save(save_path, img_name, norm_imgs[i], mask_img, merged_df)"
   ]
  },
  {
   "cell_type": "code",
   "execution_count": null,
   "id": "9c9ebd58-9939-4802-82ed-160779ce9b16",
   "metadata": {},
   "outputs": [],
   "source": []
  }
 ],
 "metadata": {
  "kernelspec": {
   "display_name": "CellPose_CLE_Skan",
   "language": "python",
   "name": "cellpose_cle_skan"
  },
  "language_info": {
   "codemirror_mode": {
    "name": "ipython",
    "version": 3
   },
   "file_extension": ".py",
   "mimetype": "text/x-python",
   "name": "python",
   "nbconvert_exporter": "python",
   "pygments_lexer": "ipython3",
   "version": "3.10.16"
  }
 },
 "nbformat": 4,
 "nbformat_minor": 5
}
