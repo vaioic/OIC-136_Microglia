{
 "cells": [
  {
   "cell_type": "markdown",
   "id": "282a7505-179c-47da-8588-4d05cb32bff9",
   "metadata": {},
   "source": [
    "# Set up"
   ]
  },
  {
   "cell_type": "markdown",
   "id": "6e27f4c7-624e-4d34-a3a3-04863cbdfc14",
   "metadata": {},
   "source": [
    "### Import Python packages to use in the script"
   ]
  },
  {
   "cell_type": "code",
   "execution_count": 2,
   "id": "e9ab2301-00b8-471d-bcaf-e8edea487087",
   "metadata": {},
   "outputs": [],
   "source": [
    "import skimage as sk\n",
    "from skimage.io import imread, imshow, imsave\n",
    "import numpy as np\n",
    "import os\n",
    "from glob import glob\n",
    "import napari\n",
    "from cellpose import models, io, utils\n",
    "import pandas as pd\n",
    "import pyclesperanto as cle\n",
    "import skan"
   ]
  },
  {
   "cell_type": "markdown",
   "id": "0c968486-314c-4cea-a6d8-0c8c385c355f",
   "metadata": {},
   "source": [
    "### Define the functions that will run different steps/tasks on the data"
   ]
  },
  {
   "cell_type": "code",
   "execution_count": 3,
   "id": "518f7ec7-9a5e-4c20-a057-1ac303dbfd43",
   "metadata": {},
   "outputs": [],
   "source": [
    "def normalize_images(input_image,tophat_radius):\n",
    "    input_gpu = cle.push(input_image)\n",
    "    #normalizing the image stack\n",
    "    equalized_intensities_stack = cle.create_like(input_gpu)\n",
    "    a_slice = cle.create([input_gpu.shape[1], input_gpu.shape[2]])\n",
    "    num_slices = input_gpu.shape[0]\n",
    "    mean_intensity_stack = cle.mean_of_all_pixels(input_gpu)\n",
    "    corrected_slice = None\n",
    "    for z in range(0, num_slices):\n",
    "        # get a single slice out of the stack\n",
    "        cle.copy_slice(input_gpu, a_slice, z)\n",
    "        # measure its intensity\n",
    "        mean_intensity_slice = cle.mean_of_all_pixels(a_slice)\n",
    "        # correct the intensity\n",
    "        correction_factor = mean_intensity_slice/mean_intensity_stack\n",
    "        corrected_slice = cle.multiply_image_and_scalar(a_slice, corrected_slice, correction_factor)\n",
    "        # copy slice back in a stack\n",
    "        cle.copy_slice(corrected_slice, equalized_intensities_stack, z)\n",
    "    #background subtraction (increase the signal to noise ratio for improved segmentation results)\n",
    "    background_subtracted_top_hat = cle.top_hat_sphere(equalized_intensities_stack,radius_x=tophat_radius,radius_y=tophat_radius,radius_z=tophat_radius)\n",
    "    #pull data off gpu\n",
    "    input_pull = cle.pull(input_gpu)\n",
    "    background_subtracted_top_hat_pull = cle.pull(background_subtracted_top_hat)\n",
    "    equalized_intensities_stack_pull = cle.pull(equalized_intensities_stack)\n",
    "    return background_subtracted_top_hat"
   ]
  },
  {
   "cell_type": "code",
   "execution_count": null,
   "id": "08d8ac11-10f8-4e9c-b282-a4a81e58ab74",
   "metadata": {},
   "outputs": [],
   "source": [
    "def get_measurements(mask,img,props):\n",
    "    df = sk.measure.regionprops_table(mask,img,properties=props)\n",
    "    return df"
   ]
  },
  {
   "cell_type": "code",
   "execution_count": null,
   "id": "94d11884-e065-4c27-b36e-0a4411884def",
   "metadata": {},
   "outputs": [],
   "source": [
    "def scaled_vol(df,voxel):\n",
    "    scaled_vol = []\n",
    "    for a in np.asarray(df['area']).astype(int):\n",
    "        scaled_vol.append(a*voxel)\n",
    "    vol_df = pd.Series(scaled_vol,name='Volume (um^3)')\n",
    "    scaled_df = pd.concat([df,vol_df],axis=1)\n",
    "    return scaled_df"
   ]
  },
  {
   "cell_type": "code",
   "execution_count": null,
   "id": "ae03f51d-fb5d-4e01-b00a-782a24b16a80",
   "metadata": {},
   "outputs": [],
   "source": [
    "def get_3D_surfacearea(mask_img,scaled_df):\n",
    "    array = []\n",
    "    for i in np.asarray(scaled_df['label']).astype(int):\n",
    "        obj = mask_img == i\n",
    "        verts, faces, _ , _ = sk.measure.marching_cubes(obj, level=0.0)\n",
    "        surf_area = sk.measure.mesh_surface_area(verts, faces)\n",
    "        array.append(surf_area)\n",
    "    surface_areas = pd.Series(array,name='Surface_Area (um^2)')\n",
    "    merged_df = pd.concat([scaled_df,surface_areas], axis=1)\n",
    "    return merged_df"
   ]
  },
  {
   "cell_type": "code",
   "execution_count": null,
   "id": "1f43f53d-ada7-4e12-909f-a35d80379ead",
   "metadata": {},
   "outputs": [],
   "source": [
    "def save(save_path, img_name, masks, flows, merged_df):\n",
    "    # make directories if they do not exist\n",
    "    try:\n",
    "        masks_path = os.mkdir(os.path.join(save_path,'masks'))\n",
    "        flows_path = os.mkdir(os.path.join(save_path,'flows'))\n",
    "        dataframe_path = os.mkdir(os.path.join(save_path,'measurements'))\n",
    "    # use the expected paths if the directories exist already\n",
    "    except:\n",
    "        masks_path = os.path.join(save_path,'masks')\n",
    "        flows_path = os.path.join(save_path,'flows')\n",
    "        dataframe_path = os.path.join(save_path,'measurements')\n",
    "    imsave(os.path.join(masks_path,'masks_'+img_name[:-4]+'.tif'),mask_img)\n",
    "    imsave(os.path.join(selected_spots_path,'flows_'+img_name[:-4]+'.tif'),selected_spots)\n",
    "    merged_df.to_csv(os.path.join(dataframe_path,'measurements_'+img_name[:-4]+'.csv'))"
   ]
  },
  {
   "cell_type": "markdown",
   "id": "c7458003-8b1f-4606-b42c-0b870083545a",
   "metadata": {},
   "source": [
    "# Load in Data"
   ]
  },
  {
   "cell_type": "markdown",
   "id": "a161bb38-4beb-4da8-bc65-abd09a15246a",
   "metadata": {},
   "source": [
    "## Two options for loading in data:"
   ]
  },
  {
   "cell_type": "markdown",
   "id": "6aacdfbc-0898-426b-b0dd-f72742f9c08d",
   "metadata": {},
   "source": [
    "### Option 1: Specify the locations of all image containing folders:\n",
    "Then merge into a long list of images and file names"
   ]
  },
  {
   "cell_type": "code",
   "execution_count": null,
   "id": "8a7e6cd9-b881-4dde-9153-9bba41ecf225",
   "metadata": {},
   "outputs": [],
   "source": [
    "CMO_files = sorted(glob('E:/ParadaKusz_Lab/TIF_Files/Control_MO/*.tif'))\n",
    "GMO_1ng_files = sorted(glob('E:/ParadaKusz_Lab/TIF_Files/GNAS_MO_1ng/*.tif'))\n",
    "GMO_2ng_files = sorted(glob('E:/ParadaKusz_Lab/TIF_Files/GNAS_MO_2ng/*.tif'))"
   ]
  },
  {
   "cell_type": "code",
   "execution_count": null,
   "id": "10fd57ea-4c38-4670-ba76-821e7b93b6b6",
   "metadata": {},
   "outputs": [],
   "source": [
    "CMO_imgs = list(map(sk.io.imread,CMO_files))\n",
    "GMO_1ng_imgs = list(map(sk.io.imread,GMO_1ng_files))\n",
    "GMO_2ng_imgs = list(map(sk.io.imread,GMO_2ng_files))"
   ]
  },
  {
   "cell_type": "code",
   "execution_count": null,
   "id": "955373b2-4e55-4de2-8da7-12f3ea8f7c93",
   "metadata": {},
   "outputs": [],
   "source": [
    "all_files = CMO_files+GMO_1ng_files+GMO_2ng_files # need this for getting image names later\n",
    "all_img = CMO_imgs+GMO_1ng_imgs+GMO_2ng_imgs"
   ]
  },
  {
   "cell_type": "markdown",
   "id": "7ba917eb-a37f-4967-81a6-381d6b8c3b62",
   "metadata": {},
   "source": [
    "### Option 2: Use a recursive search option to find all images in the parent directory:"
   ]
  },
  {
   "cell_type": "code",
   "execution_count": 4,
   "id": "ce235925-aa38-4787-9a0d-a1de664811ff",
   "metadata": {},
   "outputs": [],
   "source": [
    "all_files = sorted(glob('E:/ParadaKusz_Lab/TIF_Files/**/*.tif',recursive=True)) #finds all tiff images in the subdirectories of TIF_Files\n",
    "all_img = list(map(sk.io.imread,all_files))"
   ]
  },
  {
   "cell_type": "markdown",
   "id": "86fd8805-b110-4d8e-aa49-8fe15ac0805c",
   "metadata": {},
   "source": [
    "# Run Pipeline"
   ]
  },
  {
   "cell_type": "markdown",
   "id": "a4e6a796-4403-4a57-9e69-cbc5c313edc3",
   "metadata": {},
   "source": [
    "### Optional use of random integer generator if you want to test on single random images first"
   ]
  },
  {
   "cell_type": "code",
   "execution_count": 5,
   "id": "768e9a30-c021-47f9-875a-2d213c6d65f5",
   "metadata": {},
   "outputs": [],
   "source": [
    "import random\n",
    "nums = range(len(all_img))\n",
    "i = random.randint(min(nums),max(nums))"
   ]
  },
  {
   "cell_type": "code",
   "execution_count": null,
   "id": "96130a84-5c8c-47d9-b435-de7689ef86a3",
   "metadata": {},
   "outputs": [],
   "source": [
    "tophat_radius = 10\n",
    "img = normalize_images(all_img[i],tophat_radius) #change the tophat_radius to increase or decrease the background as needed"
   ]
  },
  {
   "cell_type": "code",
   "execution_count": null,
   "id": "6634c8b7-5eaa-4875-91dd-100f67170759",
   "metadata": {},
   "outputs": [],
   "source": [
    "io.logger_setup()\n",
    "model = models.Cellpose(gpu=True,model_type='cyto3') # model_type='cyto' or 'nuclei' or 'cyto2' or 'cyto3'\n",
    "channels =[[0,0]]\n",
    "masks, _, _, _ = model.eval(img, diameter=70, channels=channels, z_axis=0,stitch_threshold=0.2,flow_threshold=0.5,cellprob_threshold=1.0)"
   ]
  },
  {
   "cell_type": "code",
   "execution_count": null,
   "id": "2f4c04b1-35f1-4d03-bf8c-3bcb4471abf4",
   "metadata": {},
   "outputs": [],
   "source": [
    "#View results of segmentation in Napari\n",
    "viewer = napari.view_image(all_img[i], name='original img', scale = (4.55,0.3,0.3))\n",
    "viewer.add_image(img,name='nomarlized img', scale = (4.55,0.3,0.3))\n",
    "viewer.add_image(masks,name='masks', scale = (4.55,0.3,0.3))"
   ]
  },
  {
   "cell_type": "markdown",
   "id": "4594dcad-9b78-44c2-ab95-b68652bcceef",
   "metadata": {},
   "source": [
    "### Run pipeline on all images"
   ]
  },
  {
   "cell_type": "code",
   "execution_count": null,
   "id": "82097fc6-7925-433b-8624-b20e5ba8800a",
   "metadata": {},
   "outputs": [],
   "source": []
  }
 ],
 "metadata": {
  "kernelspec": {
   "display_name": "CellPose_CLE_Skan",
   "language": "python",
   "name": "cellpose_cle_skan"
  },
  "language_info": {
   "codemirror_mode": {
    "name": "ipython",
    "version": 3
   },
   "file_extension": ".py",
   "mimetype": "text/x-python",
   "name": "python",
   "nbconvert_exporter": "python",
   "pygments_lexer": "ipython3",
   "version": "3.10.16"
  }
 },
 "nbformat": 4,
 "nbformat_minor": 5
}
