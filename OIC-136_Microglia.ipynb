{
 "cells": [
  {
   "cell_type": "code",
   "execution_count": 2,
   "id": "586d2ce9-9d71-49da-865b-fc250200d9e6",
   "metadata": {},
   "outputs": [],
   "source": [
    "import skimage as sk\n",
    "import numpy as np\n",
    "import os\n",
    "from glob import glob\n",
    "import matplotlib\n",
    "import matplotlib.pyplot as plt\n",
    "import napari"
   ]
  },
  {
   "cell_type": "code",
   "execution_count": 3,
   "id": "962724a8-a0cb-4d0a-8b18-538227337d34",
   "metadata": {},
   "outputs": [],
   "source": [
    "CMO_files = sorted(glob('E:/ParadaKusz_Lab/TIF_Files/Control_MO/*.tif'))\n",
    "GMO_1ng_files = sorted(glob('E:/ParadaKusz_Lab/TIF_Files/GNAS_MO_1ng/*.tif'))\n",
    "GMO_2ng_files = sorted(glob('E:/ParadaKusz_Lab/TIF_Files/GNAS_MO_2ng/*.tif'))"
   ]
  },
  {
   "cell_type": "code",
   "execution_count": 4,
   "id": "836e515b-f5ad-4ad7-a135-8f20c8443ae0",
   "metadata": {},
   "outputs": [],
   "source": [
    "CMO_imgs = list(map(sk.io.imread,CMO_files))\n",
    "GMO_1ng_imgs = list(map(sk.io.imread,GMO_1ng_files))\n",
    "GMO_2ng_imgs = list(map(sk.io.imread,GMO_2ng_files))"
   ]
  },
  {
   "cell_type": "code",
   "execution_count": 13,
   "id": "907f1f32-a3de-4256-95f6-3b05a96260a0",
   "metadata": {},
   "outputs": [],
   "source": [
    "viewer = napari.view_image(GMO_1ng_imgs[6], name= 'test', scale = [5.0,0.1,0.1])"
   ]
  },
  {
   "cell_type": "markdown",
   "id": "4a1f2ea0-cc93-444b-a4f6-a49e1216f3a9",
   "metadata": {},
   "source": [
    "## Plan: preprocess, threshold signal, connected components, post-process objects, measure volume and SA to get ratio, measure fluorescence values, PCA on volume/SA to find threshold for splitting into active and inactive state?"
   ]
  },
  {
   "cell_type": "code",
   "execution_count": 14,
   "id": "f72d6aeb-84fb-4327-931b-256b374b96ca",
   "metadata": {},
   "outputs": [],
   "source": [
    "test_img = CMO_imgs[6]"
   ]
  },
  {
   "cell_type": "code",
   "execution_count": 17,
   "id": "15727424-a8bc-4dc1-8a2f-ab77778ccf76",
   "metadata": {},
   "outputs": [],
   "source": [
    "median_filter = sk.filters.median(test_img)"
   ]
  },
  {
   "cell_type": "code",
   "execution_count": 18,
   "id": "87a672e6-d71c-4d43-9c33-4b27617a9525",
   "metadata": {},
   "outputs": [
    {
     "data": {
      "text/plain": [
       "<Image layer 'median_filter' at 0x1f473e93740>"
      ]
     },
     "execution_count": 18,
     "metadata": {},
     "output_type": "execute_result"
    }
   ],
   "source": [
    "viewer = napari.view_image(test_img, name= 'test_img')\n",
    "viewer.add_image(median_filter, name='median_filter')"
   ]
  },
  {
   "cell_type": "code",
   "execution_count": 19,
   "id": "713cce05-d806-4b80-ae2e-49e181453d2a",
   "metadata": {},
   "outputs": [
    {
     "name": "stderr",
     "output_type": "stream",
     "text": [
      "C:\\ProgramData\\anaconda3\\envs\\jupyterlab-env\\Lib\\site-packages\\skimage\\filters\\thresholding.py:561: RuntimeWarning: divide by zero encountered in divide\n",
      "  higher = (csum_intensity[-1] - csum_intensity[:-1]) / csumh[:-1]\n"
     ]
    }
   ],
   "source": [
    "otsu = sk.filters.threshold_otsu(median_filter)\n",
    "iso = sk.filters.threshold_isodata(median_filter)\n",
    "li = sk.filters.threshold_li(median_filter)\n",
    "local = sk.filters.threshold_local(median_filter)\n",
    "mean = sk.filters.threshold_mean(median_filter)\n",
    "minimum = sk.filters.threshold_minimum(median_filter)\n",
    "niblack = sk.filters.threshold_niblack(median_filter)\n",
    "sauvola = sk.filters.threshold_sauvola(median_filter)\n",
    "triangle = sk.filters.threshold_triangle(median_filter)\n",
    "yen = sk.filters.threshold_yen(median_filter)"
   ]
  },
  {
   "cell_type": "code",
   "execution_count": 27,
   "id": "6899dfbf-c783-4b78-8623-f14727602e2e",
   "metadata": {},
   "outputs": [],
   "source": [
    "otsu_mask = median_filter > otsu\n",
    "iso_mask = median_filter > iso\n",
    "li_mask = median_filter > li\n",
    "local_mask = median_filter > local\n",
    "mean_mask = median_filter > mean\n",
    "min_mask = median_filter > minimum\n",
    "niblack_mask = median_filter > niblack\n",
    "sauvola_mask = median_filter > sauvola\n",
    "triangle_mask = median_filter > triangle\n",
    "yen_mask = median_filter > yen"
   ]
  },
  {
   "cell_type": "code",
   "execution_count": 43,
   "id": "ac26815d-aca6-45d2-8447-0ed0169da0f3",
   "metadata": {},
   "outputs": [
    {
     "data": {
      "text/plain": [
       "<Image layer 'yen' at 0x1f5e0d7b4a0>"
      ]
     },
     "execution_count": 43,
     "metadata": {},
     "output_type": "execute_result"
    }
   ],
   "source": [
    "viewer = napari.view_image(test_img, name= 'test_img')\n",
    "viewer.add_image(median_filter, name='median_filter')\n",
    "viewer.add_image(otsu_mask, name='otsu')\n",
    "viewer.add_image(iso_mask, name='iso')\n",
    "viewer.add_image(li_mask, name='li')\n",
    "viewer.add_image(local_mask, name='local')\n",
    "viewer.add_image(mean_mask, name='mean')\n",
    "viewer.add_image(min_mask, name='min')\n",
    "viewer.add_image(niblack_mask, name='niblack')\n",
    "viewer.add_image(sauvola_mask, name='sauvola')\n",
    "viewer.add_image(triangle_mask, name='triangle')\n",
    "viewer.add_image(yen_mask, name='yen')"
   ]
  },
  {
   "cell_type": "markdown",
   "id": "9f2b24c2-81a5-4369-a69f-db3f8169e390",
   "metadata": {},
   "source": [
    "### Need to add in additional preprocessing"
   ]
  },
  {
   "cell_type": "code",
   "execution_count": null,
   "id": "439e31c8-a915-418f-b188-7949b4a01765",
   "metadata": {},
   "outputs": [],
   "source": [
    "#Testing Rolling Ball background subtraction\n",
    "rb_test = sk.restoration.rolling_ball(GMO_1ng_imgs[0],num_threads=12)"
   ]
  },
  {
   "cell_type": "code",
   "execution_count": null,
   "id": "c32039f9-d199-4291-ad1f-7cca27e3b868",
   "metadata": {},
   "outputs": [],
   "source": [
    "viewer = napari.view_image(rb_test, name= \"rb=100\")\n",
    "viewer.add_image(GMO_1ng_imgs[0], name='og')"
   ]
  },
  {
   "cell_type": "code",
   "execution_count": 29,
   "id": "4d8abc35-6483-4280-9fc3-5031fa6aed6d",
   "metadata": {},
   "outputs": [],
   "source": [
    "import random"
   ]
  },
  {
   "cell_type": "code",
   "execution_count": 33,
   "id": "64d54d28-a261-4e49-a961-da3fbb60a57a",
   "metadata": {},
   "outputs": [
    {
     "name": "stdout",
     "output_type": "stream",
     "text": [
      "range(0, 8)\n",
      "5\n"
     ]
    }
   ],
   "source": [
    "l= range(len(CMO_imgs))\n",
    "i = random.randint(0,8)\n",
    "print(l)\n",
    "print(i)"
   ]
  },
  {
   "cell_type": "code",
   "execution_count": 44,
   "id": "d4efad7a-d41b-4930-bf9d-c44863918353",
   "metadata": {},
   "outputs": [],
   "source": [
    "def median_filter_and_threshold(i, img_list):\n",
    "    median = sk.filters.median(img_list[i])\n",
    "    mask = median > sk.filters.threshold_otsu(median)\n",
    "    return mask"
   ]
  },
  {
   "cell_type": "code",
   "execution_count": 45,
   "id": "c9526293-f00d-4547-b918-98a1b387c660",
   "metadata": {},
   "outputs": [],
   "source": [
    "i = random.randint(0,8)\n",
    "CMO_mask = median_filter_and_threshold(i, CMO_imgs)\n",
    "GMO_1ng_mask = median_filter_and_threshold(i, GMO_1ng_imgs)\n",
    "GMO_2ng_mask = median_filter_and_threshold(i, GMO_2ng_imgs)"
   ]
  },
  {
   "cell_type": "code",
   "execution_count": 46,
   "id": "71fbf909-d5dd-4f2d-8cae-1193eca3049c",
   "metadata": {},
   "outputs": [
    {
     "data": {
      "text/plain": [
       "<Image layer 'Mask' at 0x1f5e14f2930>"
      ]
     },
     "execution_count": 46,
     "metadata": {},
     "output_type": "execute_result"
    }
   ],
   "source": [
    "viewer = napari.view_image(GMO_2ng_imgs[i], name= 'img')\n",
    "viewer.add_image(GMO_2ng_li_mask, name='Mask')"
   ]
  },
  {
   "cell_type": "code",
   "execution_count": null,
   "id": "735b47be-2690-4ee7-81f8-cd44d6b5d0a5",
   "metadata": {},
   "outputs": [],
   "source": []
  }
 ],
 "metadata": {
  "kernelspec": {
   "display_name": "Python 3 (ipykernel)",
   "language": "python",
   "name": "python3"
  },
  "language_info": {
   "codemirror_mode": {
    "name": "ipython",
    "version": 3
   },
   "file_extension": ".py",
   "mimetype": "text/x-python",
   "name": "python",
   "nbconvert_exporter": "python",
   "pygments_lexer": "ipython3",
   "version": "3.12.9"
  }
 },
 "nbformat": 4,
 "nbformat_minor": 5
}
