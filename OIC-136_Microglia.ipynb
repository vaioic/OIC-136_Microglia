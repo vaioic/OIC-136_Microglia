{
 "cells": [
  {
   "cell_type": "code",
   "execution_count": 15,
   "id": "586d2ce9-9d71-49da-865b-fc250200d9e6",
   "metadata": {},
   "outputs": [],
   "source": [
    "import skimage as sk\n",
    "from skimage.io import imread, imshow, imsave\n",
    "import numpy as np\n",
    "import os\n",
    "from glob import glob\n",
    "import napari\n",
    "import pyclesperanto as cle\n",
    "import matplotlib.pyplot as plt\n",
    "import pandas as pd"
   ]
  },
  {
   "cell_type": "code",
   "execution_count": null,
   "id": "a972e375-a180-42a9-8706-619ddd4b2e45",
   "metadata": {},
   "outputs": [],
   "source": [
    "help(cle.scale)"
   ]
  },
  {
   "cell_type": "code",
   "execution_count": null,
   "id": "643bec80-cce7-49ef-82a7-011277354f7f",
   "metadata": {},
   "outputs": [],
   "source": [
    "def segment_on_GPU(input_image,spot_sigma,outline_sigma,voxel_size_z,voxel_size_y,voxel_size_x):\n",
    "    input_gpu = cle.push(input_image)\n",
    "    resampled = cle.create([int(input_gpu.shape[0] * voxel_size_z), int(input_gpu.shape[1] * voxel_size_y), int(input_gpu.shape[2] * voxel_size_x)])\n",
    "    cle.scale(input_gpu, resampled, factor_x=voxel_size_x, factor_y=voxel_size_y, factor_z=voxel_size_z, centered=False)\n",
    "    #normalize the image stack\n",
    "    equalized_intensities_stack = cle.create_like(resampled)\n",
    "    a_slice = cle.create([resampled.shape[1], resampled.shape[2]])\n",
    "    num_slices = resampled.shape[0]\n",
    "    mean_intensity_stack = cle.mean_of_all_pixels(resampled)\n",
    "    corrected_slice = None\n",
    "    for z in range(0, num_slices):\n",
    "        # get a single slice out of the stack\n",
    "        cle.copy_slice(resampled, a_slice, z)\n",
    "        # measure its intensity\n",
    "        mean_intensity_slice = cle.mean_of_all_pixels(a_slice)\n",
    "        # correct the intensity\n",
    "        correction_factor = mean_intensity_slice/mean_intensity_stack\n",
    "        corrected_slice = cle.multiply_image_and_scalar(a_slice, corrected_slice, correction_factor)\n",
    "        # copy slice back in a stack\n",
    "        cle.copy_slice(corrected_slice, equalized_intensities_stack, z)\n",
    "    #background subtraction\n",
    "    background_subtracted = cle.top_hat_box(equalized_intensities_stack, radius_x=10, radius_y=10, radius_z=10)\n",
    "    #get seed points\n",
    "    blurred = cle.gaussian_blur(background_subtracted, sigma_x=spot_sigma, sigma_y=spot_sigma, sigma_z=spot_sigma)\n",
    "    detected_spots = cle.detect_maxima_box(blurred, radius_x=1, radius_y=1, radius_z=1)\n",
    "    #segment signal\n",
    "    blurred = cle.gaussian_blur(background_subtracted, sigma_x=outline_sigma, sigma_y=outline_sigma, sigma_z=outline_sigma)\n",
    "    copy_blurred = cle.copy(blurred)\n",
    "    blurred_cpu = cle.pull(copy_blurred)\n",
    "    thresh = sk.filters.threshold_multiotsu(blurred_cpu, classes=5)\n",
    "    mask = blurred > thresh[1]\n",
    "    selected_spots = cle.binary_and(mask, detected_spots)\n",
    "    voronoi_diagram = cle.masked_voronoi_labeling(selected_spots, mask)\n",
    "    df = pd.DataFrame(cle.statistics_of_labelled_pixels(resampled, voronoi_diagram))\n",
    "    #pull data off gpu\n",
    "    input_pull = cle.pull(input_gpu)\n",
    "    background_subtracted_pull = cle.pull(background_subtracted)\n",
    "    equalized_intensities_stack_pull = cle.pull(equalized_intensities_stack)\n",
    "    mean_intensity_stack_pull = cle.pull(mean_intensity_stack)\n",
    "    blurred_pull = cle.pull(blurred)\n",
    "    voronoi_diagram_pull = cle.pull(voronoi_diagram)\n",
    "    resampled_pull = cle.pull(resampled)\n",
    "    detected_spots_pull = cle.pull(detected_spots)\n",
    "    selected_spots_pull = cle.pull(selected_spots)\n",
    "    mask_pull = cle.pull(mask)\n",
    "    return voronoi_diagram_pull, resampled_pull, detected_spots_pull, selected_spots_pull, df"
   ]
  },
  {
   "cell_type": "code",
   "execution_count": 16,
   "id": "a78de398-14f3-437b-9ac5-1303d697efa7",
   "metadata": {},
   "outputs": [],
   "source": [
    "def segment_on_GPU_no_resample(input_image,spot_sigma,outline_sigma,voxel_size_z,voxel_size_y,voxel_size_x):\n",
    "    input_gpu = cle.push(input_image)\n",
    "    equalized_intensities_stack = cle.create_like(input_gpu)\n",
    "    a_slice = cle.create([input_gpu.shape[1], input_gpu.shape[2]])\n",
    "    num_slices = input_gpu.shape[0]\n",
    "    mean_intensity_stack = cle.mean_of_all_pixels(input_gpu)\n",
    "    corrected_slice = None\n",
    "    for z in range(0, num_slices):\n",
    "        # get a single slice out of the stack\n",
    "        cle.copy_slice(input_gpu, a_slice, z)\n",
    "        # measure its intensity\n",
    "        mean_intensity_slice = cle.mean_of_all_pixels(a_slice)\n",
    "        # correct the intensity\n",
    "        correction_factor = mean_intensity_slice/mean_intensity_stack\n",
    "        corrected_slice = cle.multiply_image_and_scalar(a_slice, corrected_slice, correction_factor)\n",
    "        # copy slice back in a stack\n",
    "        cle.copy_slice(corrected_slice, equalized_intensities_stack, z)\n",
    "    #background subtraction\n",
    "    background_subtracted_top_hat = cle.top_hat_sphere(equalized_intensities_stack,radius_x=10,radius_y=10,radius_z=10)\n",
    "    #get seed points\n",
    "    blurred = cle.gaussian_blur(background_subtracted_top_hat, sigma_x=spot_sigma, sigma_y=spot_sigma, sigma_z=spot_sigma)\n",
    "    detected_spots = cle.detect_maxima_box(blurred, radius_x=2, radius_y=2, radius_z=2)\n",
    "    #segment signal\n",
    "    blurred = cle.gaussian_blur(background_subtracted_top_hat, sigma_x=outline_sigma, sigma_y=outline_sigma, sigma_z=outline_sigma)\n",
    "    copy_blurred = cle.copy(blurred)\n",
    "    blurred_cpu = cle.pull(copy_blurred)\n",
    "    #add in extra filter here?\n",
    "    thresh = sk.filters.threshold_multiotsu(blurred_cpu, classes=5)\n",
    "    mask = blurred > thresh[1]\n",
    "    selected_spots = cle.binary_and(mask, detected_spots)\n",
    "    voronoi_diagram = cle.masked_voronoi_labeling(selected_spots, mask)\n",
    "    df = pd.DataFrame(cle.statistics_of_labelled_pixels(input_gpu, voronoi_diagram))\n",
    "    #pull data off gpu\n",
    "    input_pull = cle.pull(input_gpu)\n",
    "    #background_subtracted_pull = cle.pull(background_subtracted)\n",
    "    background_subtracted_top_hat_pull = cle.pull(background_subtracted_top_hat)\n",
    "    equalized_intensities_stack_pull = cle.pull(equalized_intensities_stack)\n",
    "    mean_intensity_stack_pull = cle.pull(mean_intensity_stack)\n",
    "    blurred_pull = cle.pull(blurred)\n",
    "    voronoi_diagram_pull = cle.pull(voronoi_diagram)\n",
    "    #resampled_pull = cle.pull(resampled)\n",
    "    detected_spots_pull = cle.pull(detected_spots)\n",
    "    selected_spots_pull = cle.pull(selected_spots)\n",
    "    mask_pull = cle.pull(mask)\n",
    "    return voronoi_diagram_pull, detected_spots_pull, selected_spots_pull, df, background_subtracted_top_hat_pull,blurred_pull"
   ]
  },
  {
   "cell_type": "code",
   "execution_count": 30,
   "id": "04a2254d-0922-4807-9896-c56e9340c0b0",
   "metadata": {},
   "outputs": [
    {
     "ename": "SyntaxError",
     "evalue": "unmatched ')' (3540692544.py, line 4)",
     "output_type": "error",
     "traceback": [
      "\u001b[1;36m  Cell \u001b[1;32mIn[30], line 4\u001b[1;36m\u001b[0m\n\u001b[1;33m    for a in np.asarray(df.loc[df['area']]).astype(int)):\u001b[0m\n\u001b[1;37m                                                       ^\u001b[0m\n\u001b[1;31mSyntaxError\u001b[0m\u001b[1;31m:\u001b[0m unmatched ')'\n"
     ]
    }
   ],
   "source": [
    "def convert_voxels_to_volume(df,voxel):\n",
    "    #areas = np.asarray(df.['area']].astype(int))\n",
    "    scaled_vol = []\n",
    "    for a in np.asarray(df.loc[df['area']]).astype(int):\n",
    "        scaled_vol.append(a*voxel)\n",
    "    scaled_df = pd.Series(scaled_vol,name='Volume(um^3)')\n",
    "    merged_df = pd.concat([df,scaled_df],axis=1)\n",
    "    return merged_df"
   ]
  },
  {
   "cell_type": "code",
   "execution_count": 18,
   "id": "2ae9df2b-afde-49f6-801f-15b9d664c5e4",
   "metadata": {},
   "outputs": [],
   "source": [
    "def get_3D_meshes(mask_img,scaled_df):\n",
    "    array = []\n",
    "    for i in np.asarray(scaled_df['label']).astype(int):\n",
    "        obj = mask_img == i\n",
    "        verts, faces, _ , _ = sk.measure.marching_cubes(obj, level=0.0)\n",
    "        surf_area = sk.measure.mesh_surface_area(verts, faces)\n",
    "        array.append(surf_area)\n",
    "    surface_areas = pd.Series(array,name='Surface_Area(um^2)')\n",
    "    merged_df = pd.concat([scaled_df,surface_areas], axis=1)\n",
    "    return merged_df"
   ]
  },
  {
   "cell_type": "code",
   "execution_count": 19,
   "id": "65628938-57c2-45f1-9f99-4906305890dd",
   "metadata": {},
   "outputs": [],
   "source": [
    "def save(save_path, img_name, mask_img, filtered_mask, detected_spots, selected_spots, merged_df, background_subtracted):\n",
    "    # make directories if they do not exist\n",
    "    try:\n",
    "        masks_path = os.mkdir(os.path.join(save_path,'masks'))\n",
    "        filtered_masks_path = os.mkdir(os.path.join(save_path,'filtered_masks'))\n",
    "        detected_spots_path = os.mkdir(os.path.join(save_path,'detected_spots'))\n",
    "        selected_spots_path = os.mkdir(os.path.join(save_path,'selected_spots'))\n",
    "        dataframe_path = os.mkdir(os.path.join(save_path,'measurements'))\n",
    "        background_subtracted_path = os.mkdir(os.path.join(save_path,'background_subtracted_imgs'))\n",
    "    # use the expected paths if the directories exist already\n",
    "    except:\n",
    "        masks_path = os.path.join(save_path,'masks')\n",
    "        filtered_masks_path = os.path.join(save_path,'filtered_masks')\n",
    "        detected_spots_path = os.path.join(save_path,'detected_spots')\n",
    "        selected_spots_path = os.path.join(save_path,'selected_spots')\n",
    "        dataframe_path = os.path.join(save_path,'measurements')\n",
    "        background_subtracted_path = os.path.join(save_path,'background_subtracted_imgs')\n",
    "    imsave(os.path.join(masks_path,'masks_'+img_name+'.tif'),mask_img)\n",
    "    imsave(os.path.join(filtered_masks_path,'filtered_masks_'+img_name+'.tif'),filtered_mask)\n",
    "    imsave(os.path.join(detected_spots_path,'detected_spots_'+img_name+'.tif'),detected_spots)\n",
    "    imsave(os.path.join(selected_spots_path,'selected_spots_'+img_name+'.tif'),selected_spots)\n",
    "    merged_df.to_csv(os.path.join(dataframe_path,'measurements_'+img_name+'.csv'))\n",
    "    imsave(os.path.join(background_subtracted_path,'background_subtracted_'+img_name+'.tif'),background_subtracted)"
   ]
  },
  {
   "cell_type": "code",
   "execution_count": 3,
   "id": "62610c61-906f-4c51-817a-57f1b19e6c2a",
   "metadata": {},
   "outputs": [
    {
     "data": {
      "text/plain": [
       "(OpenCL) NVIDIA RTX A4000 (OpenCL 3.0 CUDA)\n",
       "\tVendor:                      NVIDIA Corporation\n",
       "\tDriver Version:              572.83\n",
       "\tDevice Type:                 GPU\n",
       "\tCompute Units:               48\n",
       "\tGlobal Memory Size:          16375 MB\n",
       "\tLocal Memory Size:           0 MB\n",
       "\tMaximum Buffer Size:         4093 MB\n",
       "\tMax Clock Frequency:         1560 MHz\n",
       "\tImage Support:               Yes"
      ]
     },
     "execution_count": 3,
     "metadata": {},
     "output_type": "execute_result"
    }
   ],
   "source": [
    "cle.select_device(\"NVIDIA\")"
   ]
  },
  {
   "cell_type": "markdown",
   "id": "6d2c3b01-371f-4e5b-b4aa-981f8e7eeafe",
   "metadata": {},
   "source": [
    "### Reading in images"
   ]
  },
  {
   "cell_type": "code",
   "execution_count": 20,
   "id": "9557cbb3-7191-415b-8d59-6a2b23ddcfab",
   "metadata": {},
   "outputs": [],
   "source": [
    "#set voxel size for images\n",
    "voxel_size_x = 0.301\n",
    "voxel_size_y = 0.301\n",
    "voxel_size_z = 4.55\n",
    "voxel = 0.301*0.301*4.55"
   ]
  },
  {
   "cell_type": "code",
   "execution_count": 21,
   "id": "962724a8-a0cb-4d0a-8b18-538227337d34",
   "metadata": {},
   "outputs": [],
   "source": [
    "CMO_files = sorted(glob('E:/ParadaKusz_Lab/TIF_Files/Control_MO/*.tif'))\n",
    "GMO_1ng_files = sorted(glob('E:/ParadaKusz_Lab/TIF_Files/GNAS_MO_1ng/*.tif'))\n",
    "GMO_2ng_files = sorted(glob('E:/ParadaKusz_Lab/TIF_Files/GNAS_MO_2ng/*.tif'))"
   ]
  },
  {
   "cell_type": "code",
   "execution_count": 22,
   "id": "836e515b-f5ad-4ad7-a135-8f20c8443ae0",
   "metadata": {},
   "outputs": [],
   "source": [
    "CMO_imgs = list(map(sk.io.imread,CMO_files))\n",
    "GMO_1ng_imgs = list(map(sk.io.imread,GMO_1ng_files))\n",
    "GMO_2ng_imgs = list(map(sk.io.imread,GMO_2ng_files))"
   ]
  },
  {
   "cell_type": "code",
   "execution_count": 8,
   "id": "c58bef9f-5a6a-43f9-8ef6-139af3a0694e",
   "metadata": {},
   "outputs": [
    {
     "name": "stdout",
     "output_type": "stream",
     "text": [
      "8\n"
     ]
    }
   ],
   "source": [
    "print(len(GMO_1ng_imgs))"
   ]
  },
  {
   "cell_type": "code",
   "execution_count": 23,
   "id": "beb0c95d-b603-49a4-b007-a4e4acbefae0",
   "metadata": {},
   "outputs": [],
   "source": [
    "#testing on individual images\n",
    "input_image = GMO_2ng_imgs[1]\n",
    "spot_sigma = 9\n",
    "outline_sigma = 1\n",
    "voronoi_diagram, detected_spots, selected_spots, df, background_subtracted_top_hat,blurred = segment_on_GPU_no_resample(\n",
    "    input_image,spot_sigma,outline_sigma,voxel_size_z,voxel_size_y,voxel_size_x)"
   ]
  },
  {
   "cell_type": "code",
   "execution_count": 29,
   "id": "571fcb34-1ad4-438d-b7d2-044ae3da8870",
   "metadata": {},
   "outputs": [
    {
     "ename": "KeyError",
     "evalue": "'[5450.0, 16334.0, 19001.0, 18587.0, 32346.0, 17683.0, 13934.0, 19217.0, 24557.0, 27057.0, 25006.0, 17705.0, 27758.0, 45134.0, 27954.0, 31478.0, 50042.0, 37220.0, 53952.0, 33862.0, 24183.0, 51204.0, 40409.0, 8848.0, 32062.0, 26778.0, 49841.0, 49754.0, 12596.0, 35251.0, 21134.0, 21697.0, 35676.0, 34370.0, 28704.0, 12854.0, 7119.0, 8222.0, 24651.0, 24639.0, 16911.0, 15687.0, 34794.0, 24772.0, 8852.0, 15795.0, 25472.0, 9232.0, 16394.0, 24178.0, 15709.0, 23885.0, 26705.0, 20214.0, 21602.0, 21000.0, 35296.0, 34532.0, 24712.0, 18813.0, 22896.0, 10629.0, 15324.0, 32425.0, 11313.0, 14710.0, 42016.0, 23195.0, 10312.0, 17395.0, 8757.0, 13482.0, 28205.0, 16134.0, 7238.0, 21893.0, 14320.0, 9204.0, 10740.0, 16398.0, 20315.0, 27691.0, 28141.0, 18317.0, 20249.0, 8136.0, 19392.0, 11987.0, 28975.0, 11772.0, 9239.0, 17999.0, 14767.0, 18676.0, 13169.0, 11361.0, 21238.0, 21614.0, 28841.0, 14655.0, 14384.0, 16895.0, 30010.0, 29124.0, 16843.0, 19880.0, 25109.0, 11696.0, 6814.0, 26405.0, 44845.0, 7867.0, 15974.0, 12411.0, 18818.0, 10841.0, 26819.0, 9244.0, 21857.0, 34242.0, 10751.0, 6031.0, 13397.0, 12186.0, 11756.0, 36276.0, 17886.0, 12884.0, 8189.0, 15207.0, 24287.0, 25705.0, 35813.0, 27000.0, 15710.0, 15335.0, 17562.0, 18725.0, 9532.0, 15374.0, 12938.0, 22946.0, 9998.0, 28302.0, 9894.0, 14703.0, 39618.0, 2118.0, 15813.0, 8232.0, 7433.0, 8695.0, 22019.0, 17701.0, 9657.0, 21868.0, 2161.0, 8133.0, 3213.0, 23875.0, 14079.0, 9119.0, 9163.0, 24556.0, 12782.0, 5759.0, 6388.0, 23683.0, 15864.0, 11032.0, 11710.0, 13671.0, 8597.0, 30461.0, 6310.0, 3994.0, 52852.0, 829.0, 3571.0, 23516.0, 33793.0, 8041.0, 14330.0, 12982.0, 12197.0, 32542.0, 11189.0, 5645.0, 12708.0, 26499.0, 51397.0, 33686.0, 11524.0, 12234.0, 14619.0, 15315.0, 2432.0, 4438.0, 4431.0, 5890.0, 34459.0, 7245.0, 5395.0, 10357.0, 24551.0, 32914.0, 6127.0, 7875.0, 9339.0, 9679.0, 3209.0, 9503.0, 16402.0, 23474.0, 2197.0, 4433.0, 7512.0, 16114.0, 37829.0, 21999.0, 3514.0, 15112.0, 5985.0, 16839.0, 25330.0, 11278.0, 14274.0, 7589.0, 7338.0, 1887.0, 9428.0, 2783.0, 16517.0, 6548.0, 9269.0, 26214.0, 8707.0, 30071.0, 20477.0, 5916.0, 17907.0, 40654.0, 1102.0, 38151.0, 18450.0, 5765.0, 9278.0, 11562.0, 14324.0, 6362.0, 22327.0, 18043.0, 5466.0, 10939.0, 12062.0, 13887.0, 9049.0, 10922.0, 5999.0, 18852.0, 12981.0, 5329.0, 25479.0, 21524.0, 19753.0, 25424.0, 7394.0, 7872.0, 12808.0, 16382.0, 15010.0, 16157.0, 12306.0, 16969.0, 10505.0, 26351.0, 28178.0, 23250.0, 24211.0, 6549.0, 12790.0, 48559.0, 28440.0, 20875.0, 11568.0, 13643.0, 40475.0, 20706.0, 22146.0, 31249.0, 35327.0, 10111.0, 5335.0, 3650.0, 10402.0, 19598.0, 21475.0, 9690.0, 14417.0, 16273.0, 28500.0, 1298.0, 778.0, 24496.0, 9000.0, 4690.0, 4118.0, 3260.0, 8289.0, 4216.0, 11282.0, 15800.0, 10711.0, 1550.0, 5073.0, 6213.0, 8846.0, 12685.0, 5190.0, 10105.0, 17559.0, 12707.0, 7781.0, 6141.0, 10321.0, 7540.0, 5547.0, 8600.0, 22222.0, 6877.0, 22840.0, 22991.0, 7819.0, 16594.0, 13534.0, 9007.0, 12417.0, 9919.0, 16445.0, 52808.0, 5140.0, 13926.0, 38794.0, 34872.0, 13417.0, 27656.0, 26506.0, 9731.0, 6809.0, 29704.0, 30363.0, 19782.0, 20753.0, 19450.0, 13245.0, 10823.0, 11580.0, 7630.0, 8111.0, 14025.0, 9228.0, 21953.0, 12390.0, 12231.0, 30169.0, 19918.0, 20050.0, 5224.0, 9739.0, 12686.0, 12427.0, 12601.0, 11356.0, 10822.0, 10632.0, 6565.0, 2565.0, 10716.0, 36729.0, 31637.0, 17561.0, 8444.0, 15977.0, 16662.0, 11532.0, 22387.0, 3352.0, 2916.0, 13139.0, 10461.0, 22597.0, 15366.0, 13543.0, 14276.0, 31452.0, 13560.0, 11418.0, 13296.0, 25984.0, 8798.0, 16790.0, 10490.0, 9108.0, 16366.0, 25913.0, 20163.0, 8919.0, 11379.0, 14885.0, 11660.0, 15507.0, 18003.0, 4394.0, 14946.0, 26915.0, 25599.0, 13868.0, 1964.0, 18498.0, 2234.0, 11753.0, 10409.0, 12832.0, 20894.0, 9373.0, 53423.0, 5862.0, 725.0, 19404.0, 14565.0, 33326.0, 11238.0, 9839.0, 8532.0, 11059.0, 15929.0, 4822.0, 14465.0, 542.0, 6749.0, 26318.0, 15818.0, 26668.0, 16760.0, 8270.0, 19634.0, 4774.0, 16188.0, 14937.0, 3923.0, 17338.0, 13749.0, 34561.0, 19137.0, 12672.0, 809.0, 7622.0, 1417.0, 4178.0, 3088.0, 4691.0, 2985.0, 3677.0, 1959.0, 1208.0, 533.0, 844.0, 1328.0, 1394.0, 6359.0, 3556.0, 11257.0, 5549.0, 15234.0, 17553.0, 11478.0, 2821.0, 14436.0, 650.0, 14722.0, 1291.0, 8935.0, 625.0, 5779.0, 3609.0, 13853.0, 9331.0, 4269.0, 7681.0, 6425.0, 15395.0, 18200.0, 19360.0, 13107.0] not in index'",
     "output_type": "error",
     "traceback": [
      "\u001b[1;31m---------------------------------------------------------------------------\u001b[0m",
      "\u001b[1;31mKeyError\u001b[0m                                  Traceback (most recent call last)",
      "Cell \u001b[1;32mIn[29], line 1\u001b[0m\n\u001b[1;32m----> 1\u001b[0m scaled_df \u001b[38;5;241m=\u001b[39m \u001b[43mconvert_voxels_to_volume\u001b[49m\u001b[43m(\u001b[49m\u001b[43mdf\u001b[49m\u001b[43m,\u001b[49m\u001b[43mvoxel\u001b[49m\u001b[43m)\u001b[49m\n",
      "Cell \u001b[1;32mIn[28], line 3\u001b[0m, in \u001b[0;36mconvert_voxels_to_volume\u001b[1;34m(df, voxel)\u001b[0m\n\u001b[0;32m      1\u001b[0m \u001b[38;5;28;01mdef\u001b[39;00m\u001b[38;5;250m \u001b[39m\u001b[38;5;21mconvert_voxels_to_volume\u001b[39m(df,voxel):\n\u001b[0;32m      2\u001b[0m     scaled_vol \u001b[38;5;241m=\u001b[39m []\n\u001b[1;32m----> 3\u001b[0m     \u001b[38;5;28;01mfor\u001b[39;00m a \u001b[38;5;129;01min\u001b[39;00m np\u001b[38;5;241m.\u001b[39masarray(\u001b[43mdf\u001b[49m\u001b[38;5;241;43m.\u001b[39;49m\u001b[43mloc\u001b[49m\u001b[43m[\u001b[49m\u001b[43mdf\u001b[49m\u001b[43m[\u001b[49m\u001b[38;5;124;43m'\u001b[39;49m\u001b[38;5;124;43marea\u001b[39;49m\u001b[38;5;124;43m'\u001b[39;49m\u001b[43m]\u001b[49m\u001b[43m]\u001b[49m)\u001b[38;5;241m.\u001b[39mastype(\u001b[38;5;28mint\u001b[39m):\n\u001b[0;32m      4\u001b[0m         scaled_vol\u001b[38;5;241m.\u001b[39mappend(a\u001b[38;5;241m*\u001b[39mvoxel)\n\u001b[0;32m      5\u001b[0m     scaled_df \u001b[38;5;241m=\u001b[39m pd\u001b[38;5;241m.\u001b[39mSeries(scaled_vol,name\u001b[38;5;241m=\u001b[39m\u001b[38;5;124m'\u001b[39m\u001b[38;5;124mVolume(um^3)\u001b[39m\u001b[38;5;124m'\u001b[39m)\n",
      "File \u001b[1;32mC:\\ProgramData\\anaconda3\\envs\\cle\\lib\\site-packages\\pandas\\core\\indexing.py:1191\u001b[0m, in \u001b[0;36m_LocationIndexer.__getitem__\u001b[1;34m(self, key)\u001b[0m\n\u001b[0;32m   1189\u001b[0m maybe_callable \u001b[38;5;241m=\u001b[39m com\u001b[38;5;241m.\u001b[39mapply_if_callable(key, \u001b[38;5;28mself\u001b[39m\u001b[38;5;241m.\u001b[39mobj)\n\u001b[0;32m   1190\u001b[0m maybe_callable \u001b[38;5;241m=\u001b[39m \u001b[38;5;28mself\u001b[39m\u001b[38;5;241m.\u001b[39m_check_deprecated_callable_usage(key, maybe_callable)\n\u001b[1;32m-> 1191\u001b[0m \u001b[38;5;28;01mreturn\u001b[39;00m \u001b[38;5;28;43mself\u001b[39;49m\u001b[38;5;241;43m.\u001b[39;49m\u001b[43m_getitem_axis\u001b[49m\u001b[43m(\u001b[49m\u001b[43mmaybe_callable\u001b[49m\u001b[43m,\u001b[49m\u001b[43m \u001b[49m\u001b[43maxis\u001b[49m\u001b[38;5;241;43m=\u001b[39;49m\u001b[43maxis\u001b[49m\u001b[43m)\u001b[49m\n",
      "File \u001b[1;32mC:\\ProgramData\\anaconda3\\envs\\cle\\lib\\site-packages\\pandas\\core\\indexing.py:1420\u001b[0m, in \u001b[0;36m_LocIndexer._getitem_axis\u001b[1;34m(self, key, axis)\u001b[0m\n\u001b[0;32m   1417\u001b[0m     \u001b[38;5;28;01mif\u001b[39;00m \u001b[38;5;28mhasattr\u001b[39m(key, \u001b[38;5;124m\"\u001b[39m\u001b[38;5;124mndim\u001b[39m\u001b[38;5;124m\"\u001b[39m) \u001b[38;5;129;01mand\u001b[39;00m key\u001b[38;5;241m.\u001b[39mndim \u001b[38;5;241m>\u001b[39m \u001b[38;5;241m1\u001b[39m:\n\u001b[0;32m   1418\u001b[0m         \u001b[38;5;28;01mraise\u001b[39;00m \u001b[38;5;167;01mValueError\u001b[39;00m(\u001b[38;5;124m\"\u001b[39m\u001b[38;5;124mCannot index with multidimensional key\u001b[39m\u001b[38;5;124m\"\u001b[39m)\n\u001b[1;32m-> 1420\u001b[0m     \u001b[38;5;28;01mreturn\u001b[39;00m \u001b[38;5;28;43mself\u001b[39;49m\u001b[38;5;241;43m.\u001b[39;49m\u001b[43m_getitem_iterable\u001b[49m\u001b[43m(\u001b[49m\u001b[43mkey\u001b[49m\u001b[43m,\u001b[49m\u001b[43m \u001b[49m\u001b[43maxis\u001b[49m\u001b[38;5;241;43m=\u001b[39;49m\u001b[43maxis\u001b[49m\u001b[43m)\u001b[49m\n\u001b[0;32m   1422\u001b[0m \u001b[38;5;66;03m# nested tuple slicing\u001b[39;00m\n\u001b[0;32m   1423\u001b[0m \u001b[38;5;28;01mif\u001b[39;00m is_nested_tuple(key, labels):\n",
      "File \u001b[1;32mC:\\ProgramData\\anaconda3\\envs\\cle\\lib\\site-packages\\pandas\\core\\indexing.py:1360\u001b[0m, in \u001b[0;36m_LocIndexer._getitem_iterable\u001b[1;34m(self, key, axis)\u001b[0m\n\u001b[0;32m   1357\u001b[0m \u001b[38;5;28mself\u001b[39m\u001b[38;5;241m.\u001b[39m_validate_key(key, axis)\n\u001b[0;32m   1359\u001b[0m \u001b[38;5;66;03m# A collection of keys\u001b[39;00m\n\u001b[1;32m-> 1360\u001b[0m keyarr, indexer \u001b[38;5;241m=\u001b[39m \u001b[38;5;28;43mself\u001b[39;49m\u001b[38;5;241;43m.\u001b[39;49m\u001b[43m_get_listlike_indexer\u001b[49m\u001b[43m(\u001b[49m\u001b[43mkey\u001b[49m\u001b[43m,\u001b[49m\u001b[43m \u001b[49m\u001b[43maxis\u001b[49m\u001b[43m)\u001b[49m\n\u001b[0;32m   1361\u001b[0m \u001b[38;5;28;01mreturn\u001b[39;00m \u001b[38;5;28mself\u001b[39m\u001b[38;5;241m.\u001b[39mobj\u001b[38;5;241m.\u001b[39m_reindex_with_indexers(\n\u001b[0;32m   1362\u001b[0m     {axis: [keyarr, indexer]}, copy\u001b[38;5;241m=\u001b[39m\u001b[38;5;28;01mTrue\u001b[39;00m, allow_dups\u001b[38;5;241m=\u001b[39m\u001b[38;5;28;01mTrue\u001b[39;00m\n\u001b[0;32m   1363\u001b[0m )\n",
      "File \u001b[1;32mC:\\ProgramData\\anaconda3\\envs\\cle\\lib\\site-packages\\pandas\\core\\indexing.py:1558\u001b[0m, in \u001b[0;36m_LocIndexer._get_listlike_indexer\u001b[1;34m(self, key, axis)\u001b[0m\n\u001b[0;32m   1555\u001b[0m ax \u001b[38;5;241m=\u001b[39m \u001b[38;5;28mself\u001b[39m\u001b[38;5;241m.\u001b[39mobj\u001b[38;5;241m.\u001b[39m_get_axis(axis)\n\u001b[0;32m   1556\u001b[0m axis_name \u001b[38;5;241m=\u001b[39m \u001b[38;5;28mself\u001b[39m\u001b[38;5;241m.\u001b[39mobj\u001b[38;5;241m.\u001b[39m_get_axis_name(axis)\n\u001b[1;32m-> 1558\u001b[0m keyarr, indexer \u001b[38;5;241m=\u001b[39m \u001b[43max\u001b[49m\u001b[38;5;241;43m.\u001b[39;49m\u001b[43m_get_indexer_strict\u001b[49m\u001b[43m(\u001b[49m\u001b[43mkey\u001b[49m\u001b[43m,\u001b[49m\u001b[43m \u001b[49m\u001b[43maxis_name\u001b[49m\u001b[43m)\u001b[49m\n\u001b[0;32m   1560\u001b[0m \u001b[38;5;28;01mreturn\u001b[39;00m keyarr, indexer\n",
      "File \u001b[1;32mC:\\ProgramData\\anaconda3\\envs\\cle\\lib\\site-packages\\pandas\\core\\indexes\\base.py:6200\u001b[0m, in \u001b[0;36mIndex._get_indexer_strict\u001b[1;34m(self, key, axis_name)\u001b[0m\n\u001b[0;32m   6197\u001b[0m \u001b[38;5;28;01melse\u001b[39;00m:\n\u001b[0;32m   6198\u001b[0m     keyarr, indexer, new_indexer \u001b[38;5;241m=\u001b[39m \u001b[38;5;28mself\u001b[39m\u001b[38;5;241m.\u001b[39m_reindex_non_unique(keyarr)\n\u001b[1;32m-> 6200\u001b[0m \u001b[38;5;28;43mself\u001b[39;49m\u001b[38;5;241;43m.\u001b[39;49m\u001b[43m_raise_if_missing\u001b[49m\u001b[43m(\u001b[49m\u001b[43mkeyarr\u001b[49m\u001b[43m,\u001b[49m\u001b[43m \u001b[49m\u001b[43mindexer\u001b[49m\u001b[43m,\u001b[49m\u001b[43m \u001b[49m\u001b[43maxis_name\u001b[49m\u001b[43m)\u001b[49m\n\u001b[0;32m   6202\u001b[0m keyarr \u001b[38;5;241m=\u001b[39m \u001b[38;5;28mself\u001b[39m\u001b[38;5;241m.\u001b[39mtake(indexer)\n\u001b[0;32m   6203\u001b[0m \u001b[38;5;28;01mif\u001b[39;00m \u001b[38;5;28misinstance\u001b[39m(key, Index):\n\u001b[0;32m   6204\u001b[0m     \u001b[38;5;66;03m# GH 42790 - Preserve name from an Index\u001b[39;00m\n",
      "File \u001b[1;32mC:\\ProgramData\\anaconda3\\envs\\cle\\lib\\site-packages\\pandas\\core\\indexes\\base.py:6252\u001b[0m, in \u001b[0;36mIndex._raise_if_missing\u001b[1;34m(self, key, indexer, axis_name)\u001b[0m\n\u001b[0;32m   6249\u001b[0m     \u001b[38;5;28;01mraise\u001b[39;00m \u001b[38;5;167;01mKeyError\u001b[39;00m(\u001b[38;5;124mf\u001b[39m\u001b[38;5;124m\"\u001b[39m\u001b[38;5;124mNone of [\u001b[39m\u001b[38;5;132;01m{\u001b[39;00mkey\u001b[38;5;132;01m}\u001b[39;00m\u001b[38;5;124m] are in the [\u001b[39m\u001b[38;5;132;01m{\u001b[39;00maxis_name\u001b[38;5;132;01m}\u001b[39;00m\u001b[38;5;124m]\u001b[39m\u001b[38;5;124m\"\u001b[39m)\n\u001b[0;32m   6251\u001b[0m not_found \u001b[38;5;241m=\u001b[39m \u001b[38;5;28mlist\u001b[39m(ensure_index(key)[missing_mask\u001b[38;5;241m.\u001b[39mnonzero()[\u001b[38;5;241m0\u001b[39m]]\u001b[38;5;241m.\u001b[39munique())\n\u001b[1;32m-> 6252\u001b[0m \u001b[38;5;28;01mraise\u001b[39;00m \u001b[38;5;167;01mKeyError\u001b[39;00m(\u001b[38;5;124mf\u001b[39m\u001b[38;5;124m\"\u001b[39m\u001b[38;5;132;01m{\u001b[39;00mnot_found\u001b[38;5;132;01m}\u001b[39;00m\u001b[38;5;124m not in index\u001b[39m\u001b[38;5;124m\"\u001b[39m)\n",
      "\u001b[1;31mKeyError\u001b[0m: '[5450.0, 16334.0, 19001.0, 18587.0, 32346.0, 17683.0, 13934.0, 19217.0, 24557.0, 27057.0, 25006.0, 17705.0, 27758.0, 45134.0, 27954.0, 31478.0, 50042.0, 37220.0, 53952.0, 33862.0, 24183.0, 51204.0, 40409.0, 8848.0, 32062.0, 26778.0, 49841.0, 49754.0, 12596.0, 35251.0, 21134.0, 21697.0, 35676.0, 34370.0, 28704.0, 12854.0, 7119.0, 8222.0, 24651.0, 24639.0, 16911.0, 15687.0, 34794.0, 24772.0, 8852.0, 15795.0, 25472.0, 9232.0, 16394.0, 24178.0, 15709.0, 23885.0, 26705.0, 20214.0, 21602.0, 21000.0, 35296.0, 34532.0, 24712.0, 18813.0, 22896.0, 10629.0, 15324.0, 32425.0, 11313.0, 14710.0, 42016.0, 23195.0, 10312.0, 17395.0, 8757.0, 13482.0, 28205.0, 16134.0, 7238.0, 21893.0, 14320.0, 9204.0, 10740.0, 16398.0, 20315.0, 27691.0, 28141.0, 18317.0, 20249.0, 8136.0, 19392.0, 11987.0, 28975.0, 11772.0, 9239.0, 17999.0, 14767.0, 18676.0, 13169.0, 11361.0, 21238.0, 21614.0, 28841.0, 14655.0, 14384.0, 16895.0, 30010.0, 29124.0, 16843.0, 19880.0, 25109.0, 11696.0, 6814.0, 26405.0, 44845.0, 7867.0, 15974.0, 12411.0, 18818.0, 10841.0, 26819.0, 9244.0, 21857.0, 34242.0, 10751.0, 6031.0, 13397.0, 12186.0, 11756.0, 36276.0, 17886.0, 12884.0, 8189.0, 15207.0, 24287.0, 25705.0, 35813.0, 27000.0, 15710.0, 15335.0, 17562.0, 18725.0, 9532.0, 15374.0, 12938.0, 22946.0, 9998.0, 28302.0, 9894.0, 14703.0, 39618.0, 2118.0, 15813.0, 8232.0, 7433.0, 8695.0, 22019.0, 17701.0, 9657.0, 21868.0, 2161.0, 8133.0, 3213.0, 23875.0, 14079.0, 9119.0, 9163.0, 24556.0, 12782.0, 5759.0, 6388.0, 23683.0, 15864.0, 11032.0, 11710.0, 13671.0, 8597.0, 30461.0, 6310.0, 3994.0, 52852.0, 829.0, 3571.0, 23516.0, 33793.0, 8041.0, 14330.0, 12982.0, 12197.0, 32542.0, 11189.0, 5645.0, 12708.0, 26499.0, 51397.0, 33686.0, 11524.0, 12234.0, 14619.0, 15315.0, 2432.0, 4438.0, 4431.0, 5890.0, 34459.0, 7245.0, 5395.0, 10357.0, 24551.0, 32914.0, 6127.0, 7875.0, 9339.0, 9679.0, 3209.0, 9503.0, 16402.0, 23474.0, 2197.0, 4433.0, 7512.0, 16114.0, 37829.0, 21999.0, 3514.0, 15112.0, 5985.0, 16839.0, 25330.0, 11278.0, 14274.0, 7589.0, 7338.0, 1887.0, 9428.0, 2783.0, 16517.0, 6548.0, 9269.0, 26214.0, 8707.0, 30071.0, 20477.0, 5916.0, 17907.0, 40654.0, 1102.0, 38151.0, 18450.0, 5765.0, 9278.0, 11562.0, 14324.0, 6362.0, 22327.0, 18043.0, 5466.0, 10939.0, 12062.0, 13887.0, 9049.0, 10922.0, 5999.0, 18852.0, 12981.0, 5329.0, 25479.0, 21524.0, 19753.0, 25424.0, 7394.0, 7872.0, 12808.0, 16382.0, 15010.0, 16157.0, 12306.0, 16969.0, 10505.0, 26351.0, 28178.0, 23250.0, 24211.0, 6549.0, 12790.0, 48559.0, 28440.0, 20875.0, 11568.0, 13643.0, 40475.0, 20706.0, 22146.0, 31249.0, 35327.0, 10111.0, 5335.0, 3650.0, 10402.0, 19598.0, 21475.0, 9690.0, 14417.0, 16273.0, 28500.0, 1298.0, 778.0, 24496.0, 9000.0, 4690.0, 4118.0, 3260.0, 8289.0, 4216.0, 11282.0, 15800.0, 10711.0, 1550.0, 5073.0, 6213.0, 8846.0, 12685.0, 5190.0, 10105.0, 17559.0, 12707.0, 7781.0, 6141.0, 10321.0, 7540.0, 5547.0, 8600.0, 22222.0, 6877.0, 22840.0, 22991.0, 7819.0, 16594.0, 13534.0, 9007.0, 12417.0, 9919.0, 16445.0, 52808.0, 5140.0, 13926.0, 38794.0, 34872.0, 13417.0, 27656.0, 26506.0, 9731.0, 6809.0, 29704.0, 30363.0, 19782.0, 20753.0, 19450.0, 13245.0, 10823.0, 11580.0, 7630.0, 8111.0, 14025.0, 9228.0, 21953.0, 12390.0, 12231.0, 30169.0, 19918.0, 20050.0, 5224.0, 9739.0, 12686.0, 12427.0, 12601.0, 11356.0, 10822.0, 10632.0, 6565.0, 2565.0, 10716.0, 36729.0, 31637.0, 17561.0, 8444.0, 15977.0, 16662.0, 11532.0, 22387.0, 3352.0, 2916.0, 13139.0, 10461.0, 22597.0, 15366.0, 13543.0, 14276.0, 31452.0, 13560.0, 11418.0, 13296.0, 25984.0, 8798.0, 16790.0, 10490.0, 9108.0, 16366.0, 25913.0, 20163.0, 8919.0, 11379.0, 14885.0, 11660.0, 15507.0, 18003.0, 4394.0, 14946.0, 26915.0, 25599.0, 13868.0, 1964.0, 18498.0, 2234.0, 11753.0, 10409.0, 12832.0, 20894.0, 9373.0, 53423.0, 5862.0, 725.0, 19404.0, 14565.0, 33326.0, 11238.0, 9839.0, 8532.0, 11059.0, 15929.0, 4822.0, 14465.0, 542.0, 6749.0, 26318.0, 15818.0, 26668.0, 16760.0, 8270.0, 19634.0, 4774.0, 16188.0, 14937.0, 3923.0, 17338.0, 13749.0, 34561.0, 19137.0, 12672.0, 809.0, 7622.0, 1417.0, 4178.0, 3088.0, 4691.0, 2985.0, 3677.0, 1959.0, 1208.0, 533.0, 844.0, 1328.0, 1394.0, 6359.0, 3556.0, 11257.0, 5549.0, 15234.0, 17553.0, 11478.0, 2821.0, 14436.0, 650.0, 14722.0, 1291.0, 8935.0, 625.0, 5779.0, 3609.0, 13853.0, 9331.0, 4269.0, 7681.0, 6425.0, 15395.0, 18200.0, 19360.0, 13107.0] not in index'"
     ]
    }
   ],
   "source": [
    "scaled_df = convert_voxels_to_volume(df,voxel)"
   ]
  },
  {
   "cell_type": "code",
   "execution_count": 14,
   "id": "defc2e19-a40d-4b5e-9034-1178c777ed51",
   "metadata": {},
   "outputs": [
    {
     "data": {
      "text/plain": [
       "<Image layer 'masks' at 0x24e58163460>"
      ]
     },
     "execution_count": 14,
     "metadata": {},
     "output_type": "execute_result"
    }
   ],
   "source": [
    "viewer = napari.view_image(background_subtracted_top_hat_pull,name='img',scale=[voxel_size_z,voxel_size_y,voxel_size_x])\n",
    "viewer.add_image(voronoi_diagram_pull, name='masks',scale=[voxel_size_z,voxel_size_y,voxel_size_x])"
   ]
  },
  {
   "cell_type": "code",
   "execution_count": null,
   "id": "2697ef17-04aa-4236-b370-c0b464f9a1d0",
   "metadata": {},
   "outputs": [],
   "source": [
    "props = sk.measure.regionprops_table(voronoi_diagram_pull,background_subtracted_pull,properties=('label','area','intensity_mean'))\n",
    "props_df = pd.DataFrame(props)\n",
    "props_df.tail()\n",
    "filtered_props = props_df.loc[props_df['intensity_mean']>25]\n",
    "filtered_props.head()\n",
    "   "
   ]
  },
  {
   "cell_type": "code",
   "execution_count": null,
   "id": "d07a0510-a78e-4cc9-ba45-e0bf04a04171",
   "metadata": {},
   "outputs": [],
   "source": [
    "fig,ax = plt.subplots()\n",
    "props_df.plot(x='label',y='intensity_mean',kind='scatter',ax=ax)\n",
    "plt.show()"
   ]
  },
  {
   "cell_type": "code",
   "execution_count": null,
   "id": "6375577d-a56f-467b-9ffb-8aa6f6a3b3b9",
   "metadata": {},
   "outputs": [],
   "source": [
    "filtered_mask = np.isin(voronoi_diagram_pull, np.asarray(filtered_props['label'])).astype(int)"
   ]
  },
  {
   "cell_type": "code",
   "execution_count": null,
   "id": "284728d5-70ab-49c1-a5c6-768ad1ce5071",
   "metadata": {},
   "outputs": [],
   "source": [
    "filtered_labels = filtered_mask*voronoi_diagram_pull"
   ]
  },
  {
   "cell_type": "code",
   "execution_count": null,
   "id": "f9a80514-2c1d-440e-9c0d-c9aedb4841c9",
   "metadata": {},
   "outputs": [],
   "source": [
    "viewer = napari.view_image(background_subtracted_pull,name='img',scale=[voxel_size_z,voxel_size_y,voxel_size_x])\n",
    "viewer.add_image(voronoi_diagram_pull, name='masks',scale=[voxel_size_z,voxel_size_y,voxel_size_x])\n",
    "viewer.add_image(filtered_labels,name='filtered',scale=[voxel_size_z,voxel_size_y,voxel_size_x])"
   ]
  },
  {
   "cell_type": "code",
   "execution_count": null,
   "id": "7910a0d2-a48d-47b2-bf16-cf163953f306",
   "metadata": {},
   "outputs": [],
   "source": [
    "viewer = napari.view_image(voronoi_diagram_pull, name='masks',scale=[voxel_size_z,voxel_size_y,voxel_size_x])\n",
    "viewer.add_image(input_image,name='img',scale=[voxel_size_z,voxel_size_y,voxel_size_x])\n",
    "viewer.add_image(background_subtracted_pull,name='equal',scale=[voxel_size_z,voxel_size_y,voxel_size_x])"
   ]
  },
  {
   "cell_type": "markdown",
   "id": "4a1f2ea0-cc93-444b-a4f6-a49e1216f3a9",
   "metadata": {
    "jp-MarkdownHeadingCollapsed": true
   },
   "source": [
    "## Plan: preprocess, threshold signal, connected components, post-process objects, measure volume and SA to get ratio, measure fluorescence values, PCA on volume/SA to find threshold for splitting into active and inactive state?"
   ]
  },
  {
   "cell_type": "markdown",
   "id": "aa618698-182d-4dd3-bc07-afa1c687a843",
   "metadata": {},
   "source": [
    "#### Trying to get GPU use working"
   ]
  },
  {
   "cell_type": "code",
   "execution_count": null,
   "id": "2a09ddde-f9e5-443b-a1b6-2599821ca57e",
   "metadata": {},
   "outputs": [],
   "source": [
    "test_img = CMO_imgs[6]"
   ]
  },
  {
   "cell_type": "code",
   "execution_count": null,
   "id": "ea169ff2-4f96-45b0-aa5d-115a2b9bec8d",
   "metadata": {},
   "outputs": [],
   "source": [
    "input_gpu = cle.push(test_img)\n",
    "input_gpu"
   ]
  },
  {
   "cell_type": "markdown",
   "id": "a0a1a7ec-a7df-4cd6-af4c-c2a1f22f46cf",
   "metadata": {},
   "source": [
    "Inspect 3D data"
   ]
  },
  {
   "cell_type": "code",
   "execution_count": null,
   "id": "62e7df4e-a1b9-47a3-b962-3614ff777642",
   "metadata": {},
   "outputs": [],
   "source": [
    "def show(image_to_show, labels=False):\n",
    "    \"\"\"\n",
    "    This function generates three projections: in X-, Y- and Z-direction and shows them.\n",
    "    \"\"\"\n",
    "    projection_x = cle.maximum_x_projection(image_to_show)\n",
    "    projection_y = cle.maximum_y_projection(image_to_show)\n",
    "    projection_z = cle.maximum_z_projection(image_to_show)\n",
    "\n",
    "    fig, axs = plt.subplots(1, 3, figsize=(15, 15))\n",
    "    axs[0].imshow(projection_x, cmap='prism' if labels else 'gray')\n",
    "    axs[1].imshow(projection_y, cmap='prism' if labels else 'gray')\n",
    "    axs[2].imshow(projection_z, cmap='prism' if labels else 'gray')\n",
    "    plt.show()\n",
    "\n",
    "show(input_gpu)\n",
    "print(input_gpu.shape)"
   ]
  },
  {
   "cell_type": "code",
   "execution_count": null,
   "id": "735b47be-2690-4ee7-81f8-cd44d6b5d0a5",
   "metadata": {},
   "outputs": [],
   "source": [
    "#Resample to make isotropic\n",
    "resampled = cle.create([int(input_gpu.shape[0] * voxel_size_z), int(input_gpu.shape[1] * voxel_size_y), int(input_gpu.shape[2] * voxel_size_x)])\n",
    "cle.scale(input_gpu, resampled, factor_x=voxel_size_x, factor_y=voxel_size_y, factor_z=voxel_size_z, centered=False)\n",
    "\n",
    "show(resampled)\n",
    "print(resampled.shape)"
   ]
  },
  {
   "cell_type": "markdown",
   "id": "fd22a1bf-9962-4d6f-85b9-c7adec73f49d",
   "metadata": {},
   "source": [
    "May not have enough Z resolution for resonable reasults"
   ]
  },
  {
   "cell_type": "code",
   "execution_count": null,
   "id": "344da444-653d-4959-b970-9d06c94a8800",
   "metadata": {},
   "outputs": [],
   "source": [
    "equalized_intensities_stack = cle.create_like(resampled)\n",
    "a_slice = cle.create([resampled.shape[1], resampled.shape[2]])\n",
    "\n",
    "num_slices = resampled.shape[0]\n",
    "mean_intensity_stack = cle.mean_of_all_pixels(resampled)\n",
    "\n",
    "corrected_slice = None\n",
    "for z in range(0, num_slices):\n",
    "    # get a single slice out of the stack\n",
    "    cle.copy_slice(resampled, a_slice, z)\n",
    "    # measure its intensity\n",
    "    mean_intensity_slice = cle.mean_of_all_pixels(a_slice)\n",
    "    # correct the intensity\n",
    "    correction_factor = mean_intensity_slice/mean_intensity_stack\n",
    "    corrected_slice = cle.multiply_image_and_scalar(a_slice, corrected_slice, correction_factor)\n",
    "    # copy slice back in a stack\n",
    "    cle.copy_slice(corrected_slice, equalized_intensities_stack, z)\n",
    "\n",
    "#show(equalized_intensities_stack)"
   ]
  },
  {
   "cell_type": "code",
   "execution_count": null,
   "id": "0ec0458d-5a0d-4ca8-a627-3df0fd6ded94",
   "metadata": {},
   "outputs": [],
   "source": [
    "#Correct background\n",
    "background_subtracted = cle.top_hat_box(equalized_intensities_stack, radius_x=10, radius_y=10, radius_z=10)\n",
    "#show(background_subtracted)"
   ]
  },
  {
   "cell_type": "code",
   "execution_count": null,
   "id": "ffedb0a1-25ba-47ad-931c-8d04ce077c81",
   "metadata": {},
   "outputs": [],
   "source": [
    "segmented = cle.voronoi_otsu_labeling(background_subtracted, spot_sigma=5, outline_sigma=2)\n",
    "show(segmented, labels=True)"
   ]
  },
  {
   "cell_type": "code",
   "execution_count": null,
   "id": "9d7baa96-736e-4726-83ff-eefe0d99851b",
   "metadata": {},
   "outputs": [],
   "source": [
    "help(cle.detect_maxima_box)"
   ]
  },
  {
   "cell_type": "code",
   "execution_count": null,
   "id": "e39f89cd-adeb-4964-92a9-38203e1385e1",
   "metadata": {},
   "outputs": [],
   "source": [
    "sigma_spot_detection = 7\n",
    "blurred = cle.gaussian_blur(background_subtracted, sigma_x=sigma_spot_detection, sigma_y=sigma_spot_detection, sigma_z=sigma_spot_detection)\n",
    "#enough of a blue to remove most of the texture of the objects wihle retaining their presence\n",
    "\n",
    "detected_spots = cle.detect_maxima_box(blurred, radius_x=1, radius_y=1, radius_z=1)\n",
    "\n",
    "number_of_spots = cle.sum_of_all_pixels(detected_spots)\n",
    "print(\"number of detected spots\", number_of_spots)\n",
    "#viewer = napari.view_image(blurred, name='blurred')\n",
    "#viewer.add_image(detected_spots, name='spots')\n",
    "# fig, axs = plt.subplots(1, 2, figsize=(15, 15))\n",
    "# axs[0].imshow(blurred[95,300:500,300:])\n",
    "# axs[1].imshow(detected_spots[95,300:500,300:])\n",
    "# plt.show()"
   ]
  },
  {
   "cell_type": "code",
   "execution_count": null,
   "id": "8ebe974b-4836-4ea9-a457-345219df9de2",
   "metadata": {},
   "outputs": [],
   "source": [
    "sigma_outline = 1\n",
    "blurred = cle.gaussian_blur(background_subtracted, sigma_x=sigma_outline, sigma_y=sigma_outline, sigma_z=sigma_outline)\n",
    "#Smaller blur to make threhsolding easier and maintain reasonable boundaries\n",
    "\n",
    "# binary = cle.threshold_otsu(blurred)\n",
    "# viewer = napari.view_image(blurred, name='blurred')\n",
    "# viewer.add_image(binary, name='mask')"
   ]
  },
  {
   "cell_type": "code",
   "execution_count": null,
   "id": "d2e9fd37-f4ff-4b51-a748-412543d0ba57",
   "metadata": {},
   "outputs": [],
   "source": [
    "copy_blurred = cle.copy(blurred)\n",
    "copy_background_subtracted = cle.copy(background_subtracted)"
   ]
  },
  {
   "cell_type": "code",
   "execution_count": null,
   "id": "77f41271-94f2-426e-972a-76f2b5252dfe",
   "metadata": {},
   "outputs": [],
   "source": [
    "help(cle.greater)"
   ]
  },
  {
   "cell_type": "code",
   "execution_count": null,
   "id": "debb6d97-7364-49b3-aac8-52db07070a82",
   "metadata": {},
   "outputs": [],
   "source": [
    "blurred_cpu = cle.pull(copy_blurred)\n",
    "iso_norm = cle.pull(copy_background_subtracted)"
   ]
  },
  {
   "cell_type": "code",
   "execution_count": null,
   "id": "aa477130-c53d-44e1-8940-0e0e07d3cdb4",
   "metadata": {},
   "outputs": [],
   "source": [
    "#testing thresholds\n",
    "\n",
    "thresh = sk.filters.threshold_multiotsu(blurred_cpu, classes=5)\n",
    "print(thresh)\n",
    "mask = blurred>thresh[1]\n",
    "\n",
    "# viewer = napari.view_image(blurred, name='blurred')\n",
    "# viewer.add_image(mask, name='mask')\n",
    "# viewer.add_image(iso_norm, name='iso data')"
   ]
  },
  {
   "cell_type": "code",
   "execution_count": null,
   "id": "4acfa52a-4312-4e53-a8c9-a9f7ce04d1ee",
   "metadata": {},
   "outputs": [],
   "source": [
    "viewer = napari.view_image(iso_norm, name='iso data')\n",
    "viewer.add_image(blurred, name='blurred')\n",
    "viewer.add_image(mask, name='mask')"
   ]
  },
  {
   "cell_type": "code",
   "execution_count": null,
   "id": "160dfc1e-37db-4cf8-a445-509ebc48eb39",
   "metadata": {},
   "outputs": [],
   "source": [
    "mask_gpu = blurred > thresh[1]\n",
    "viewer = napari.view_image(mask_gpu, name='mask')"
   ]
  },
  {
   "cell_type": "code",
   "execution_count": null,
   "id": "d325b53a-2972-4660-85ee-a67feb10c4d6",
   "metadata": {},
   "outputs": [],
   "source": [
    "selected_spots = cle.binary_and(mask_gpu, detected_spots)\n",
    "\n",
    "number_of_spots = cle.sum_of_all_pixels(selected_spots)\n",
    "print(\"number of selected spots\", number_of_spots)\n",
    "\n",
    "viewer = napari.view_image(mask_gpu, name='mask')\n",
    "viewer.add_image(detected_spots, name='Original Spots')\n",
    "viewer.add_image(selected_spots, name='Filtered Spots')"
   ]
  },
  {
   "cell_type": "code",
   "execution_count": null,
   "id": "c16ec719-0913-4b55-86ca-1586499d5bf9",
   "metadata": {},
   "outputs": [],
   "source": [
    "voronoi_diagram = cle.masked_voronoi_labeling(selected_spots, mask_gpu)\n",
    "viewer = napari.view_image(voronoi_diagram, name='mask')\n",
    "viewer.add_image(background_subtracted, name='blurred_img')"
   ]
  },
  {
   "cell_type": "code",
   "execution_count": null,
   "id": "335ab7f3-d416-49de-8eee-3e648de1182a",
   "metadata": {},
   "outputs": [],
   "source": [
    "df = pd.DataFrame(\n",
    "    cle.statistics_of_labelled_pixels(resampled, voronoi_diagram)\n",
    "    )\n",
    "df.head()\n",
    "df.to_csv(os.path.join(save_df_path,'measurements_'+clean_name+'.csv'))"
   ]
  },
  {
   "cell_type": "markdown",
   "id": "2c9ea0c9-8898-424d-aea2-585484427ce7",
   "metadata": {
    "jp-MarkdownHeadingCollapsed": true
   },
   "source": [
    "## Creating Functions"
   ]
  },
  {
   "cell_type": "code",
   "execution_count": null,
   "id": "44f382f3-570d-4d47-a8c6-d226905a5ec4",
   "metadata": {},
   "outputs": [],
   "source": [
    "def segment_on_GPU(input_image,spot_sigma,outline_sigma,voxel_size_z,voxel_size_y,voxel_size_x):\n",
    "    input_gpu = cle.push(input_image)\n",
    "    resampled = cle.create([int(input_gpu.shape[0] * voxel_size_z), int(input_gpu.shape[1] * voxel_size_y), int(input_gpu.shape[2] * voxel_size_x)])\n",
    "    cle.scale(input_gpu, resampled, factor_x=voxel_size_x, factor_y=voxel_size_y, factor_z=voxel_size_z, centered=False)\n",
    "    #normalize the image stack\n",
    "    equalized_intensities_stack = cle.create_like(resampled)\n",
    "    a_slice = cle.create([resampled.shape[1], resampled.shape[2]])\n",
    "    num_slices = resampled.shape[0]\n",
    "    mean_intensity_stack = cle.mean_of_all_pixels(resampled)\n",
    "    corrected_slice = None\n",
    "    for z in range(0, num_slices):\n",
    "        # get a single slice out of the stack\n",
    "        cle.copy_slice(resampled, a_slice, z)\n",
    "        # measure its intensity\n",
    "        mean_intensity_slice = cle.mean_of_all_pixels(a_slice)\n",
    "        # correct the intensity\n",
    "        correction_factor = mean_intensity_slice/mean_intensity_stack\n",
    "        corrected_slice = cle.multiply_image_and_scalar(a_slice, corrected_slice, correction_factor)\n",
    "        # copy slice back in a stack\n",
    "        cle.copy_slice(corrected_slice, equalized_intensities_stack, z)\n",
    "    #background subtraction\n",
    "    background_subtracted = cle.top_hat_box(equalized_intensities_stack, radius_x=10, radius_y=10, radius_z=10)\n",
    "    #get seed points\n",
    "    blurred = cle.gaussian_blur(background_subtracted, sigma_x=spot_sigma, sigma_y=spot_sigma, sigma_z=spot_sigma)\n",
    "    detected_spots = cle.detect_maxima_box(blurred, radius_x=1, radius_y=1, radius_z=1)\n",
    "    #segment signal\n",
    "    blurred = cle.gaussian_blur(background_subtracted, sigma_x=outline_sigma, sigma_y=outline_sigma, sigma_z=outline_sigma)\n",
    "    copy_blurred = cle.copy(blurred)\n",
    "    blurred_cpu = cle.pull(copy_blurred)\n",
    "    thresh = sk.filters.threshold_multiotsu(blurred_cpu, classes=5)\n",
    "    mask = blurred > thresh[1]\n",
    "    selected_spots = cle.binary_and(mask, detected_spots)\n",
    "    voronoi_diagram = cle.masked_voronoi_labeling(selected_spots, mask)\n",
    "    df1 = pd.DataFrame(cle.statistics_of_labelled_pixels(resampled, voronoi_diagram))\n",
    "    voronoi_diagram_cpu = cle.pull(voronoi_diagram)\n",
    "    resampled_cpu = cle.pull(resampled)\n",
    "    # meshes = sk.measure.marching_cubes(voronoi_diagram_cpu, spacing=voxels)\n",
    "    # df2 = sk.measure.regionprops_table(voronoi_diagram_cpu, resampled_cpu,properties=('label','area','intensity_max','intensity_mean','intensity_min'))\n",
    "    # df2 = pd.DataFrame.from_dict(df2)\n",
    "    #df1.to_csv(os.path.join('E:/ParadaKusz_Lab/Test_Outputs','test_clemeasurements.csv'))\n",
    "    # df2.to_csv(os.path.join('E:/ParadaKusz_Lab/Test_Outputs','test_skmeasurements.csv'))\n",
    "    return voronoi_diagram_cpu, resampled_cpu, df1 \n",
    "    "
   ]
  },
  {
   "cell_type": "code",
   "execution_count": null,
   "id": "7183e9e3-cbb4-4124-8548-2b2cffcca1d1",
   "metadata": {},
   "outputs": [],
   "source": [
    "test_img = CMO_imgs[1]\n",
    "voroni_diagram, resampled_img, df = segment_on_GPU(test_img,7,1,voxels[0],voxels[1],voxels[2])"
   ]
  },
  {
   "cell_type": "code",
   "execution_count": null,
   "id": "ad6515f5-91e7-4102-b951-805f62ab378d",
   "metadata": {},
   "outputs": [],
   "source": [
    "df.head()"
   ]
  },
  {
   "cell_type": "markdown",
   "id": "863d8258-9e5b-4140-952e-4dd780e022f7",
   "metadata": {},
   "source": [
    "### Testing a bounding box crop approach to getting surface area measurements (too complicated)"
   ]
  },
  {
   "cell_type": "code",
   "execution_count": null,
   "id": "8ff9c9f2-5fef-499b-88e9-c093a9708678",
   "metadata": {},
   "outputs": [],
   "source": [
    "bbox_min_x = np.asarray(df.loc[:,'bbox_min_x'], dtype=int)\n",
    "bbox_min_y = np.asarray(df.loc[:,'bbox_min_y'], dtype=int)\n",
    "bbox_min_z = np.asarray(df.loc[:,'bbox_min_z'], dtype=int)\n",
    "width = np.asarray(df.loc[:,'bbox_width'], dtype=int)\n",
    "height = np.asarray(df.loc[:,'bbox_height'], dtype=int)\n",
    "depth = np.asarray(df.loc[:,'bbox_depth'], dtype=int)"
   ]
  },
  {
   "cell_type": "code",
   "execution_count": null,
   "id": "5d387564-573a-4221-bb8b-e3fd68e2ba1a",
   "metadata": {},
   "outputs": [],
   "source": [
    "bbox_min_x"
   ]
  },
  {
   "cell_type": "code",
   "execution_count": null,
   "id": "ed4dc340-3757-4d75-a51a-783b3029cf12",
   "metadata": {},
   "outputs": [],
   "source": [
    "obj = cle.crop(voroni_diagram, \n",
    "               start_x=bbox_min_x[0],start_y=bbox_min_y[0],start_z=bbox_min_z[0],width=width[0],height=height[0],depth=depth[0])\n",
    "viewer = napari.view_image(obj, name='test')"
   ]
  },
  {
   "cell_type": "code",
   "execution_count": null,
   "id": "fca4e26f-977f-4d5f-8ede-f536eb2f23e4",
   "metadata": {},
   "outputs": [],
   "source": [
    "obj_cpu = cle.pull(obj)\n",
    "verts, faces, _ , _ = sk.measure.marching_cubes(obj_cpu, level=0.0,spacing=voxels)\n",
    "surf_area = sk.measure.mesh_surface_area(verts, faces)"
   ]
  },
  {
   "cell_type": "code",
   "execution_count": null,
   "id": "acfb3295-89b9-4ec5-b5cb-3847f70896fa",
   "metadata": {},
   "outputs": [],
   "source": [
    "help(cle.crop)"
   ]
  },
  {
   "cell_type": "markdown",
   "id": "80cbe4a5-2599-4b7e-8d8b-dc39917a19e2",
   "metadata": {},
   "source": [
    "### Testing a threshold-type approach to getting surface area measurements (easier and less room for error)"
   ]
  },
  {
   "cell_type": "code",
   "execution_count": null,
   "id": "552ba6e5-3e01-4dc1-88c4-37e25fc46354",
   "metadata": {},
   "outputs": [],
   "source": [
    "obj_thresh = voroni_diagram == 8\n",
    "viewer = napari.view_image(obj_thresh, name='test')"
   ]
  },
  {
   "cell_type": "code",
   "execution_count": null,
   "id": "f99fe293-c0be-4329-96e6-d5237ad0502e",
   "metadata": {},
   "outputs": [],
   "source": [
    "labels_cpu = cle.pull(voroni_diagram)\n",
    "max_lab = int(np.max(labels_cpu))\n",
    "max_lab"
   ]
  },
  {
   "cell_type": "code",
   "execution_count": null,
   "id": "73decd73-96bb-4ccd-891a-869572ca88c8",
   "metadata": {},
   "outputs": [],
   "source": [
    "def get_3D_meshes(mask_img):\n",
    "    array = []\n",
    "    labels_cpu = cle.pull(mask_img)\n",
    "    for i in range(1,int(np.max(labels_cpu)+1)):\n",
    "        obj = labels_cpu == int(i)\n",
    "        verts, faces, _ , _ = sk.measure.marching_cubes(obj, level=0.0)\n",
    "        surf_area = sk.measure.mesh_surface_area(verts, faces)\n",
    "        array.append(surf_area)\n",
    "    measurements = pd.Series(array,name='Surface_Area')\n",
    "    return measurements"
   ]
  },
  {
   "cell_type": "code",
   "execution_count": null,
   "id": "12f50d52-04b6-4d20-9dae-8072982577da",
   "metadata": {},
   "outputs": [],
   "source": [
    "surface_areas = get_3D_meshes(voroni_diagram)"
   ]
  },
  {
   "cell_type": "code",
   "execution_count": null,
   "id": "754e02b4-48d2-4686-9507-eee09a4835ba",
   "metadata": {},
   "outputs": [],
   "source": [
    "surface_areas.tail()"
   ]
  },
  {
   "cell_type": "code",
   "execution_count": null,
   "id": "166e4a0b-260d-429b-bc6f-5ebde85eaf63",
   "metadata": {},
   "outputs": [],
   "source": [
    "merged_df = pd.concat([df,surface_areas], axis=1)\n"
   ]
  },
  {
   "cell_type": "code",
   "execution_count": null,
   "id": "785659f5-d209-43c9-ae14-7a159b70546d",
   "metadata": {},
   "outputs": [],
   "source": [
    "merged_df.to_csv(os.path.join('E:/ParadaKusz_Lab/Test_Outputs','test_mergedmeasurements2.csv'))"
   ]
  },
  {
   "cell_type": "code",
   "execution_count": null,
   "id": "cfbc7143-9249-4c31-8bd1-b47f5db07bb1",
   "metadata": {},
   "outputs": [],
   "source": [
    "verify = sk.measure.regionprops_table(labels_cpu, labels_cpu, properties=('label','intensity_max'))\n",
    "verify_df = pd.DataFrame.from_dict(verify)\n",
    "verify_df.to_csv(os.path.join('E:/ParadaKusz_Lab/Test_Outputs','test_verifylabels.csv'))"
   ]
  },
  {
   "cell_type": "code",
   "execution_count": null,
   "id": "1e62e42c-406b-49db-959a-3a7e6c57d9fc",
   "metadata": {},
   "outputs": [],
   "source": [
    "#testing function\n",
    "voroni_diagram, resampled_img = segment_on_GPU(test_img,7,1,voxels[0],voxels[1],voxels[2])\n",
    "voroni_diagram.shape"
   ]
  },
  {
   "cell_type": "code",
   "execution_count": null,
   "id": "8185da33-4a41-44d1-91fa-eeecf7cc950b",
   "metadata": {},
   "outputs": [],
   "source": [
    "np.max(voroni_diagram)"
   ]
  },
  {
   "cell_type": "code",
   "execution_count": null,
   "id": "57f3d82e-854f-47f3-9773-d0d6ee6ec698",
   "metadata": {},
   "outputs": [],
   "source": [
    "#Creating meshes and measuring volume surface area\n",
    "obj_cpu = cle.pull(obj_thresh)\n",
    "verts, faces, _ , _ = sk.measure.marching_cubes(obj_cpu, level=0.0,spacing=voxels)\n",
    "surf_area = sk.measure.mesh_surface_area(verts, faces)"
   ]
  },
  {
   "cell_type": "code",
   "execution_count": null,
   "id": "ec8f2f66-bddf-4273-9066-b265c16030c4",
   "metadata": {},
   "outputs": [],
   "source": [
    "print(surf_area)"
   ]
  },
  {
   "cell_type": "code",
   "execution_count": null,
   "id": "54eab7f1-2db6-43ee-a5bb-a90bbeb16e8b",
   "metadata": {},
   "outputs": [],
   "source": [
    "def saving():\n",
    "     #save everything\n",
    "    equalized_intensities_stack_cpu = cle.pull(equalized_intensities_stack)\n",
    "    imsave(os.path.join(cp_masks_path,'equalized_resampled_'+files[i]), equalized_intensities_stack_cpu)\n",
    "    "
   ]
  }
 ],
 "metadata": {
  "kernelspec": {
   "display_name": "cle",
   "language": "python",
   "name": "cle"
  },
  "language_info": {
   "codemirror_mode": {
    "name": "ipython",
    "version": 3
   },
   "file_extension": ".py",
   "mimetype": "text/x-python",
   "name": "python",
   "nbconvert_exporter": "python",
   "pygments_lexer": "ipython3",
   "version": "3.9.21"
  }
 },
 "nbformat": 4,
 "nbformat_minor": 5
}
