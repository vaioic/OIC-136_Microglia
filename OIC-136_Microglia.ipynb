{
 "cells": [
  {
   "cell_type": "code",
   "execution_count": 52,
   "id": "586d2ce9-9d71-49da-865b-fc250200d9e6",
   "metadata": {},
   "outputs": [],
   "source": [
    "import skimage as sk\n",
    "from skimage.io import imread, imshow, imsave\n",
    "import numpy as np\n",
    "import os\n",
    "from glob import glob\n",
    "import matplotlib\n",
    "import matplotlib.pyplot as plt\n",
    "import napari\n",
    "import cupy as cp\n",
    "from cupyx.scipy.ndimage import gaussian_filter, histogram\n",
    "%matplotlib inline\n",
    "%config InlineBackend.figure_format = 'retina'\n"
   ]
  },
  {
   "cell_type": "markdown",
   "id": "4b498471-99a1-4de2-8fe6-3f43297390cc",
   "metadata": {},
   "source": [
    "### Managing memory for GPU use"
   ]
  },
  {
   "cell_type": "code",
   "execution_count": null,
   "id": "9e0f2f47-dc84-4a24-8d18-a4eb7544fc94",
   "metadata": {},
   "outputs": [],
   "source": [
    "mempool = cupy.get_default_memory_pool()\n",
    "pinned_mempool = cupy.get_default_pinned_memory_pool()\n",
    "\n",
    "# Create an array on CPU.\n",
    "# NumPy allocates 400 bytes in CPU (not managed by CuPy memory pool).\n",
    "a_cpu = numpy.ndarray(100, dtype=numpy.float32)\n",
    "print(a_cpu.nbytes)                      # 400\n",
    "\n",
    "# You can access statistics of these memory pools.\n",
    "print(mempool.used_bytes())              # 0\n",
    "print(mempool.total_bytes())             # 0\n",
    "print(pinned_mempool.n_free_blocks())    # 0\n",
    "\n",
    "# Transfer the array from CPU to GPU.\n",
    "# This allocates 400 bytes from the device memory pool, and another 400\n",
    "# bytes from the pinned memory pool.  The allocated pinned memory will be\n",
    "# released just after the transfer is complete.  Note that the actual\n",
    "# allocation size may be rounded to larger value than the requested size\n",
    "# for performance.\n",
    "a = cupy.array(a_cpu)\n",
    "print(a.nbytes)                          # 400\n",
    "print(mempool.used_bytes())              # 512\n",
    "print(mempool.total_bytes())             # 512\n",
    "print(pinned_mempool.n_free_blocks())    # 1\n",
    "\n",
    "# When the array goes out of scope, the allocated device memory is released\n",
    "# and kept in the pool for future reuse.\n",
    "a = None  # (or `del a`)\n",
    "print(mempool.used_bytes())              # 0\n",
    "print(mempool.total_bytes())             # 512\n",
    "print(pinned_mempool.n_free_blocks())    # 1\n",
    "\n",
    "# You can clear the memory pool by calling `free_all_blocks`.\n",
    "mempool.free_all_blocks()\n",
    "pinned_mempool.free_all_blocks()\n",
    "print(mempool.used_bytes())              # 0\n",
    "print(mempool.total_bytes())             # 0\n",
    "print(pinned_mempool.n_free_blocks())    # 0"
   ]
  },
  {
   "cell_type": "markdown",
   "id": "6d2c3b01-371f-4e5b-b4aa-981f8e7eeafe",
   "metadata": {
    "jp-MarkdownHeadingCollapsed": true
   },
   "source": [
    "### Reading in images"
   ]
  },
  {
   "cell_type": "code",
   "execution_count": 2,
   "id": "962724a8-a0cb-4d0a-8b18-538227337d34",
   "metadata": {},
   "outputs": [],
   "source": [
    "CMO_files = sorted(glob('E:/ParadaKusz_Lab/TIF_Files/Control_MO/*.tif'))\n",
    "GMO_1ng_files = sorted(glob('E:/ParadaKusz_Lab/TIF_Files/GNAS_MO_1ng/*.tif'))\n",
    "GMO_2ng_files = sorted(glob('E:/ParadaKusz_Lab/TIF_Files/GNAS_MO_2ng/*.tif'))"
   ]
  },
  {
   "cell_type": "code",
   "execution_count": 3,
   "id": "836e515b-f5ad-4ad7-a135-8f20c8443ae0",
   "metadata": {},
   "outputs": [],
   "source": [
    "CMO_imgs = list(map(sk.io.imread,CMO_files))\n",
    "GMO_1ng_imgs = list(map(sk.io.imread,GMO_1ng_files))\n",
    "GMO_2ng_imgs = list(map(sk.io.imread,GMO_2ng_files))"
   ]
  },
  {
   "cell_type": "code",
   "execution_count": 10,
   "id": "907f1f32-a3de-4256-95f6-3b05a96260a0",
   "metadata": {},
   "outputs": [],
   "source": [
    "viewer = napari.view_image(GMO_1ng_imgs[1], name= 'test', scale = [5.0,0.1,0.1])"
   ]
  },
  {
   "cell_type": "markdown",
   "id": "4a1f2ea0-cc93-444b-a4f6-a49e1216f3a9",
   "metadata": {},
   "source": [
    "## Plan: preprocess, threshold signal, connected components, post-process objects, measure volume and SA to get ratio, measure fluorescence values, PCA on volume/SA to find threshold for splitting into active and inactive state?"
   ]
  },
  {
   "cell_type": "markdown",
   "id": "aa618698-182d-4dd3-bc07-afa1c687a843",
   "metadata": {},
   "source": [
    "#### Trying to get GPU use working"
   ]
  },
  {
   "cell_type": "code",
   "execution_count": null,
   "id": "3c3a688b-1138-4384-b5b6-55905a625704",
   "metadata": {},
   "outputs": [],
   "source": [
    "a_np = np.arange(10)\n",
    "s = cp.cuda.Stream()\n",
    "with s:\n",
    "    a_cp = cp.asarray(a_np)  # H2D transfer on stream s\n",
    "    b_cp = cp.sum(a_cp)      # kernel launched on stream s\n",
    "    assert s == cp.cuda.get_current_stream()"
   ]
  },
  {
   "cell_type": "code",
   "execution_count": 49,
   "id": "2a09ddde-f9e5-443b-a1b6-2599821ca57e",
   "metadata": {},
   "outputs": [
    {
     "data": {
      "text/plain": [
       "(42, 2048, 2048)"
      ]
     },
     "execution_count": 49,
     "metadata": {},
     "output_type": "execute_result"
    }
   ],
   "source": [
    "test_img = GMO_1ng_imgs[1]\n",
    "test_img = np.asarray(test_img)\n",
    "test_img.shape"
   ]
  },
  {
   "cell_type": "code",
   "execution_count": 53,
   "id": "f72d6aeb-84fb-4327-931b-256b374b96ca",
   "metadata": {},
   "outputs": [
    {
     "ename": "CompileException",
     "evalue": "nvrtc: error: failed to open nvrtc-builtins64_128.dll.\n  Make sure that nvrtc-builtins64_128.dll is installed correctly.",
     "output_type": "error",
     "traceback": [
      "\u001b[31m---------------------------------------------------------------------------\u001b[39m",
      "\u001b[31mNVRTCError\u001b[39m                                Traceback (most recent call last)",
      "\u001b[36mFile \u001b[39m\u001b[32mC:\\ProgramData\\anaconda3\\envs\\GPUImageProcessing-env\\Lib\\site-packages\\cupy\\cuda\\compiler.py:737\u001b[39m, in \u001b[36m_NVRTCProgram.compile\u001b[39m\u001b[34m(self, options, log_stream)\u001b[39m\n\u001b[32m    736\u001b[39m         nvrtc.addNameExpression(\u001b[38;5;28mself\u001b[39m.ptr, ker)\n\u001b[32m--> \u001b[39m\u001b[32m737\u001b[39m nvrtc.compileProgram(\u001b[38;5;28mself\u001b[39m.ptr, options)\n\u001b[32m    738\u001b[39m mapping = \u001b[38;5;28;01mNone\u001b[39;00m\n",
      "\u001b[36mFile \u001b[39m\u001b[32mcupy_backends\\\\cuda\\\\libs\\\\nvrtc.pyx:125\u001b[39m, in \u001b[36mcupy_backends.cuda.libs.nvrtc.compileProgram\u001b[39m\u001b[34m()\u001b[39m\n",
      "\u001b[36mFile \u001b[39m\u001b[32mcupy_backends\\\\cuda\\\\libs\\\\nvrtc.pyx:138\u001b[39m, in \u001b[36mcupy_backends.cuda.libs.nvrtc.compileProgram\u001b[39m\u001b[34m()\u001b[39m\n",
      "\u001b[36mFile \u001b[39m\u001b[32mcupy_backends\\\\cuda\\\\libs\\\\nvrtc.pyx:53\u001b[39m, in \u001b[36mcupy_backends.cuda.libs.nvrtc.check_status\u001b[39m\u001b[34m()\u001b[39m\n",
      "\u001b[31mNVRTCError\u001b[39m: NVRTC_ERROR_BUILTIN_OPERATION_FAILURE (7)",
      "\nDuring handling of the above exception, another exception occurred:\n",
      "\u001b[31mCompileException\u001b[39m                          Traceback (most recent call last)",
      "\u001b[36mCell\u001b[39m\u001b[36m \u001b[39m\u001b[32mIn[53]\u001b[39m\u001b[32m, line 6\u001b[39m\n\u001b[32m      4\u001b[39m \u001b[38;5;28;01mwith\u001b[39;00m s:\n\u001b[32m      5\u001b[39m     test_array = cp.asarray(test_img)\n\u001b[32m----> \u001b[39m\u001b[32m6\u001b[39m     gaus_bg = gaussian_filter(test_array, sigma = (\u001b[32m12\u001b[39m,\u001b[32m683\u001b[39m,\u001b[32m683\u001b[39m))\n\u001b[32m      7\u001b[39m     \u001b[38;5;66;03m#bg_sub = test_array - gaus_bg\u001b[39;00m\n\u001b[32m      8\u001b[39m     \u001b[38;5;66;03m#bg_sub = cp.asnumpy(bg_sub)\u001b[39;00m\n\u001b[32m      9\u001b[39m     \u001b[38;5;28;01massert\u001b[39;00m s == cp.cuda.get_current_stream()\n",
      "\u001b[36mFile \u001b[39m\u001b[32mC:\\ProgramData\\anaconda3\\envs\\GPUImageProcessing-env\\Lib\\site-packages\\cupyx\\scipy\\ndimage\\_filters.py:373\u001b[39m, in \u001b[36mgaussian_filter\u001b[39m\u001b[34m(input, sigma, order, output, mode, cval, truncate)\u001b[39m\n\u001b[32m    370\u001b[39m         \u001b[38;5;28;01mreturn\u001b[39;00m \u001b[38;5;28;01mNone\u001b[39;00m\n\u001b[32m    371\u001b[39m     \u001b[38;5;28;01mreturn\u001b[39;00m _gaussian_kernel1d(sigma, order, radius, dtype=weights_dtype)\n\u001b[32m--> \u001b[39m\u001b[32m373\u001b[39m \u001b[38;5;28;01mreturn\u001b[39;00m _run_1d_correlates(\u001b[38;5;28minput\u001b[39m, \u001b[38;5;28mlist\u001b[39m(\u001b[38;5;28mzip\u001b[39m(sigmas, orders)), get, output,\n\u001b[32m    374\u001b[39m                           mode, cval, \u001b[32m0\u001b[39m)\n",
      "\u001b[36mFile \u001b[39m\u001b[32mC:\\ProgramData\\anaconda3\\envs\\GPUImageProcessing-env\\Lib\\site-packages\\cupyx\\scipy\\ndimage\\_filters.py:206\u001b[39m, in \u001b[36m_run_1d_correlates\u001b[39m\u001b[34m(input, params, get_weights, output, mode, cval, origin)\u001b[39m\n\u001b[32m    204\u001b[39m         wghts[param] = get_weights(param)\n\u001b[32m    205\u001b[39m wghts = [wghts[param] \u001b[38;5;28;01mfor\u001b[39;00m param \u001b[38;5;129;01min\u001b[39;00m params]\n\u001b[32m--> \u001b[39m\u001b[32m206\u001b[39m \u001b[38;5;28;01mreturn\u001b[39;00m _filters_core._run_1d_filters(\n\u001b[32m    207\u001b[39m     [\u001b[38;5;28;01mNone\u001b[39;00m \u001b[38;5;28;01mif\u001b[39;00m w \u001b[38;5;129;01mis\u001b[39;00m \u001b[38;5;28;01mNone\u001b[39;00m \u001b[38;5;28;01melse\u001b[39;00m correlate1d \u001b[38;5;28;01mfor\u001b[39;00m w \u001b[38;5;129;01min\u001b[39;00m wghts],\n\u001b[32m    208\u001b[39m     \u001b[38;5;28minput\u001b[39m, wghts, output, mode, cval, origin)\n",
      "\u001b[36mFile \u001b[39m\u001b[32mC:\\ProgramData\\anaconda3\\envs\\GPUImageProcessing-env\\Lib\\site-packages\\cupyx\\scipy\\ndimage\\_filters_core.py:105\u001b[39m, in \u001b[36m_run_1d_filters\u001b[39m\u001b[34m(filters, input, args, output, mode, cval, origin)\u001b[39m\n\u001b[32m    103\u001b[39m     \u001b[38;5;28minput\u001b[39m = temp\n\u001b[32m    104\u001b[39m \u001b[38;5;28;01melse\u001b[39;00m:\n\u001b[32m--> \u001b[39m\u001b[32m105\u001b[39m     fltr(\u001b[38;5;28minput\u001b[39m, arg, axis, output, mode, cval, origin)\n\u001b[32m    106\u001b[39m     \u001b[38;5;28minput\u001b[39m, output = output, temp\n\u001b[32m    107\u001b[39m \u001b[38;5;28;01mfor\u001b[39;00m axis, (fltr, arg, mode, origin) \u001b[38;5;129;01min\u001b[39;00m \u001b[38;5;28menumerate\u001b[39m(iterator, start=axis + \u001b[32m1\u001b[39m):\n",
      "\u001b[36mFile \u001b[39m\u001b[32mC:\\ProgramData\\anaconda3\\envs\\GPUImageProcessing-env\\Lib\\site-packages\\cupyx\\scipy\\ndimage\\_filters.py:114\u001b[39m, in \u001b[36mcorrelate1d\u001b[39m\u001b[34m(input, weights, axis, output, mode, cval, origin)\u001b[39m\n\u001b[32m     83\u001b[39m \u001b[38;5;250m\u001b[39m\u001b[33;03m\"\"\"One-dimensional correlate.\u001b[39;00m\n\u001b[32m     84\u001b[39m \n\u001b[32m     85\u001b[39m \u001b[33;03mThe array is correlated with the given kernel.\u001b[39;00m\n\u001b[32m   (...)\u001b[39m\u001b[32m    110\u001b[39m \u001b[33;03m    from SciPy due to floating-point rounding of intermediate results.\u001b[39;00m\n\u001b[32m    111\u001b[39m \u001b[33;03m\"\"\"\u001b[39;00m\n\u001b[32m    112\u001b[39m weights, origins = _filters_core._convert_1d_args(\u001b[38;5;28minput\u001b[39m.ndim, weights,\n\u001b[32m    113\u001b[39m                                                   origin, axis)\n\u001b[32m--> \u001b[39m\u001b[32m114\u001b[39m \u001b[38;5;28;01mreturn\u001b[39;00m _correlate_or_convolve(\u001b[38;5;28minput\u001b[39m, weights, output, mode, cval, origins)\n",
      "\u001b[36mFile \u001b[39m\u001b[32mC:\\ProgramData\\anaconda3\\envs\\GPUImageProcessing-env\\Lib\\site-packages\\cupyx\\scipy\\ndimage\\_filters.py:177\u001b[39m, in \u001b[36m_correlate_or_convolve\u001b[39m\u001b[34m(input, weights, output, mode, cval, origin, convolution)\u001b[39m\n\u001b[32m    174\u001b[39m offsets = _filters_core._origins_to_offsets(origins, weights.shape)\n\u001b[32m    175\u001b[39m kernel = _get_correlate_kernel(mode, weights.shape, int_type,\n\u001b[32m    176\u001b[39m                                offsets, cval)\n\u001b[32m--> \u001b[39m\u001b[32m177\u001b[39m output = _filters_core._call_kernel(kernel, \u001b[38;5;28minput\u001b[39m, weights, output,\n\u001b[32m    178\u001b[39m                                     weights_dtype=weights_dtype)\n\u001b[32m    179\u001b[39m \u001b[38;5;28;01mreturn\u001b[39;00m output\n",
      "\u001b[36mFile \u001b[39m\u001b[32mC:\\ProgramData\\anaconda3\\envs\\GPUImageProcessing-env\\Lib\\site-packages\\cupyx\\scipy\\ndimage\\_filters_core.py:139\u001b[39m, in \u001b[36m_call_kernel\u001b[39m\u001b[34m(kernel, input, weights, output, structure, weights_dtype, structure_dtype)\u001b[39m\n\u001b[32m    137\u001b[39m complex_output = \u001b[38;5;28minput\u001b[39m.dtype.kind == \u001b[33m'\u001b[39m\u001b[33mc\u001b[39m\u001b[33m'\u001b[39m\n\u001b[32m    138\u001b[39m \u001b[38;5;28;01mif\u001b[39;00m weights \u001b[38;5;129;01mis\u001b[39;00m \u001b[38;5;129;01mnot\u001b[39;00m \u001b[38;5;28;01mNone\u001b[39;00m:\n\u001b[32m--> \u001b[39m\u001b[32m139\u001b[39m     weights = cupy.ascontiguousarray(weights, weights_dtype)\n\u001b[32m    140\u001b[39m     complex_output = complex_output \u001b[38;5;129;01mor\u001b[39;00m weights.dtype.kind == \u001b[33m'\u001b[39m\u001b[33mc\u001b[39m\u001b[33m'\u001b[39m\n\u001b[32m    141\u001b[39m     args.append(weights)\n",
      "\u001b[36mFile \u001b[39m\u001b[32mC:\\ProgramData\\anaconda3\\envs\\GPUImageProcessing-env\\Lib\\site-packages\\cupy\\_creation\\from_data.py:119\u001b[39m, in \u001b[36mascontiguousarray\u001b[39m\u001b[34m(a, dtype)\u001b[39m\n\u001b[32m    105\u001b[39m \u001b[38;5;28;01mdef\u001b[39;00m\u001b[38;5;250m \u001b[39m\u001b[34mascontiguousarray\u001b[39m(a, dtype=\u001b[38;5;28;01mNone\u001b[39;00m):\n\u001b[32m    106\u001b[39m \u001b[38;5;250m    \u001b[39m\u001b[33;03m\"\"\"Returns a C-contiguous array.\u001b[39;00m\n\u001b[32m    107\u001b[39m \n\u001b[32m    108\u001b[39m \u001b[33;03m    Args:\u001b[39;00m\n\u001b[32m   (...)\u001b[39m\u001b[32m    117\u001b[39m \n\u001b[32m    118\u001b[39m \u001b[33;03m    \"\"\"\u001b[39;00m\n\u001b[32m--> \u001b[39m\u001b[32m119\u001b[39m     \u001b[38;5;28;01mreturn\u001b[39;00m _core.ascontiguousarray(a, dtype)\n",
      "\u001b[36mFile \u001b[39m\u001b[32mcupy\\\\_core\\\\core.pyx:2793\u001b[39m, in \u001b[36mcupy._core.core.ascontiguousarray\u001b[39m\u001b[34m()\u001b[39m\n",
      "\u001b[36mFile \u001b[39m\u001b[32mcupy\\\\_core\\\\core.pyx:2810\u001b[39m, in \u001b[36mcupy._core.core.ascontiguousarray\u001b[39m\u001b[34m()\u001b[39m\n",
      "\u001b[36mFile \u001b[39m\u001b[32mcupy\\\\_core\\\\_kernel.pyx:1374\u001b[39m, in \u001b[36mcupy._core._kernel.ufunc.__call__\u001b[39m\u001b[34m()\u001b[39m\n",
      "\u001b[36mFile \u001b[39m\u001b[32mcupy\\\\_core\\\\_kernel.pyx:1401\u001b[39m, in \u001b[36mcupy._core._kernel.ufunc._get_ufunc_kernel\u001b[39m\u001b[34m()\u001b[39m\n",
      "\u001b[36mFile \u001b[39m\u001b[32mcupy\\\\_core\\\\_kernel.pyx:1082\u001b[39m, in \u001b[36mcupy._core._kernel._get_ufunc_kernel\u001b[39m\u001b[34m()\u001b[39m\n",
      "\u001b[36mFile \u001b[39m\u001b[32mcupy\\\\_core\\\\_kernel.pyx:94\u001b[39m, in \u001b[36mcupy._core._kernel._get_simple_elementwise_kernel\u001b[39m\u001b[34m()\u001b[39m\n",
      "\u001b[36mFile \u001b[39m\u001b[32mcupy\\\\_core\\\\_kernel.pyx:82\u001b[39m, in \u001b[36mcupy._core._kernel._get_simple_elementwise_kernel_from_code\u001b[39m\u001b[34m()\u001b[39m\n",
      "\u001b[36mFile \u001b[39m\u001b[32mcupy\\\\_core\\\\core.pyx:2330\u001b[39m, in \u001b[36mcupy._core.core.compile_with_cache\u001b[39m\u001b[34m()\u001b[39m\n",
      "\u001b[36mFile \u001b[39m\u001b[32mC:\\ProgramData\\anaconda3\\envs\\GPUImageProcessing-env\\Lib\\site-packages\\cupy\\cuda\\compiler.py:542\u001b[39m, in \u001b[36m_compile_module_with_cache\u001b[39m\u001b[34m(source, options, arch, cache_dir, extra_source, backend, enable_cooperative_groups, name_expressions, log_stream, jitify)\u001b[39m\n\u001b[32m    538\u001b[39m     \u001b[38;5;28;01mreturn\u001b[39;00m _compile_with_cache_hip(\n\u001b[32m    539\u001b[39m         source, options, arch, cache_dir, extra_source, backend,\n\u001b[32m    540\u001b[39m         name_expressions, log_stream, cache_in_memory)\n\u001b[32m    541\u001b[39m \u001b[38;5;28;01melse\u001b[39;00m:\n\u001b[32m--> \u001b[39m\u001b[32m542\u001b[39m     \u001b[38;5;28;01mreturn\u001b[39;00m _compile_with_cache_cuda(\n\u001b[32m    543\u001b[39m         source, options, arch, cache_dir, extra_source, backend,\n\u001b[32m    544\u001b[39m         enable_cooperative_groups, name_expressions, log_stream,\n\u001b[32m    545\u001b[39m         cache_in_memory, jitify)\n",
      "\u001b[36mFile \u001b[39m\u001b[32mC:\\ProgramData\\anaconda3\\envs\\GPUImageProcessing-env\\Lib\\site-packages\\cupy\\cuda\\compiler.py:586\u001b[39m, in \u001b[36m_compile_with_cache_cuda\u001b[39m\u001b[34m(source, options, arch, cache_dir, extra_source, backend, enable_cooperative_groups, name_expressions, log_stream, cache_in_memory, jitify)\u001b[39m\n\u001b[32m    583\u001b[39m base = _empty_file_preprocess_cache.get(env, \u001b[38;5;28;01mNone\u001b[39;00m)\n\u001b[32m    584\u001b[39m \u001b[38;5;28;01mif\u001b[39;00m base \u001b[38;5;129;01mis\u001b[39;00m \u001b[38;5;28;01mNone\u001b[39;00m:\n\u001b[32m    585\u001b[39m     \u001b[38;5;66;03m# This is for checking NVRTC/NVCC compiler internal version\u001b[39;00m\n\u001b[32m--> \u001b[39m\u001b[32m586\u001b[39m     base = _preprocess(\u001b[33m'\u001b[39m\u001b[33m'\u001b[39m, options, arch, backend)\n\u001b[32m    587\u001b[39m     _empty_file_preprocess_cache[env] = base\n\u001b[32m    589\u001b[39m key_src = \u001b[33m'\u001b[39m\u001b[38;5;132;01m%s\u001b[39;00m\u001b[33m \u001b[39m\u001b[38;5;132;01m%s\u001b[39;00m\u001b[33m \u001b[39m\u001b[38;5;132;01m%s\u001b[39;00m\u001b[33m \u001b[39m\u001b[38;5;132;01m%s\u001b[39;00m\u001b[33m \u001b[39m\u001b[38;5;132;01m%s\u001b[39;00m\u001b[33m'\u001b[39m % (\n\u001b[32m    590\u001b[39m     env, base, source, extra_source, _get_cupy_cache_key())\n",
      "\u001b[36mFile \u001b[39m\u001b[32mC:\\ProgramData\\anaconda3\\envs\\GPUImageProcessing-env\\Lib\\site-packages\\cupy\\cuda\\compiler.py:480\u001b[39m, in \u001b[36m_preprocess\u001b[39m\u001b[34m(source, options, arch, backend)\u001b[39m\n\u001b[32m    478\u001b[39m prog = _NVRTCProgram(source)\n\u001b[32m    479\u001b[39m \u001b[38;5;28;01mtry\u001b[39;00m:\n\u001b[32m--> \u001b[39m\u001b[32m480\u001b[39m     result, _ = prog.compile(options)\n\u001b[32m    481\u001b[39m \u001b[38;5;28;01mexcept\u001b[39;00m CompileException \u001b[38;5;28;01mas\u001b[39;00m e:\n\u001b[32m    482\u001b[39m     dump = _get_bool_env_variable(\n\u001b[32m    483\u001b[39m         \u001b[33m'\u001b[39m\u001b[33mCUPY_DUMP_CUDA_SOURCE_ON_ERROR\u001b[39m\u001b[33m'\u001b[39m, \u001b[38;5;28;01mFalse\u001b[39;00m)\n",
      "\u001b[36mFile \u001b[39m\u001b[32mC:\\ProgramData\\anaconda3\\envs\\GPUImageProcessing-env\\Lib\\site-packages\\cupy\\cuda\\compiler.py:756\u001b[39m, in \u001b[36m_NVRTCProgram.compile\u001b[39m\u001b[34m(self, options, log_stream)\u001b[39m\n\u001b[32m    754\u001b[39m \u001b[38;5;28;01mexcept\u001b[39;00m nvrtc.NVRTCError:\n\u001b[32m    755\u001b[39m     log = nvrtc.getProgramLog(\u001b[38;5;28mself\u001b[39m.ptr)\n\u001b[32m--> \u001b[39m\u001b[32m756\u001b[39m     \u001b[38;5;28;01mraise\u001b[39;00m CompileException(log, \u001b[38;5;28mself\u001b[39m.src, \u001b[38;5;28mself\u001b[39m.name, options,\n\u001b[32m    757\u001b[39m                            \u001b[33m'\u001b[39m\u001b[33mnvrtc\u001b[39m\u001b[33m'\u001b[39m \u001b[38;5;28;01mif\u001b[39;00m \u001b[38;5;129;01mnot\u001b[39;00m runtime.is_hip \u001b[38;5;28;01melse\u001b[39;00m \u001b[33m'\u001b[39m\u001b[33mhiprtc\u001b[39m\u001b[33m'\u001b[39m)\n",
      "\u001b[31mCompileException\u001b[39m: nvrtc: error: failed to open nvrtc-builtins64_128.dll.\n  Make sure that nvrtc-builtins64_128.dll is installed correctly."
     ]
    }
   ],
   "source": [
    "#push img to GPU as array\n",
    "\n",
    "s = cp.cuda.Stream()\n",
    "with s:\n",
    "    test_array = cp.asarray(test_img)\n",
    "    gaus_bg = gaussian_filter(test_array, sigma = (12,683,683))\n",
    "    #bg_sub = test_array - gaus_bg\n",
    "    #bg_sub = cp.asnumpy(bg_sub)\n",
    "    assert s == cp.cuda.get_current_stream()"
   ]
  },
  {
   "cell_type": "code",
   "execution_count": null,
   "id": "ea169ff2-4f96-45b0-aa5d-115a2b9bec8d",
   "metadata": {},
   "outputs": [],
   "source": []
  },
  {
   "cell_type": "code",
   "execution_count": null,
   "id": "3be9d939-7237-4b0b-a557-ba79c87254fa",
   "metadata": {},
   "outputs": [],
   "source": [
    "#testing gaussian background subtraction"
   ]
  },
  {
   "cell_type": "code",
   "execution_count": null,
   "id": "62e7df4e-a1b9-47a3-b962-3614ff777642",
   "metadata": {},
   "outputs": [],
   "source": []
  },
  {
   "cell_type": "code",
   "execution_count": null,
   "id": "fa12ada8-45a8-4bd1-a837-79b7b9ab57bb",
   "metadata": {},
   "outputs": [],
   "source": [
    "#test_img.shape\n",
    "gaus_bg = sk.filters.gaussian(test_img,sigma=(12,683,683))"
   ]
  },
  {
   "cell_type": "code",
   "execution_count": 17,
   "id": "15727424-a8bc-4dc1-8a2f-ab77778ccf76",
   "metadata": {},
   "outputs": [],
   "source": [
    "median_filter = sk.filters.median(test_img)"
   ]
  },
  {
   "cell_type": "code",
   "execution_count": 18,
   "id": "87a672e6-d71c-4d43-9c33-4b27617a9525",
   "metadata": {},
   "outputs": [
    {
     "data": {
      "text/plain": [
       "<Image layer 'median_filter' at 0x1f473e93740>"
      ]
     },
     "execution_count": 18,
     "metadata": {},
     "output_type": "execute_result"
    }
   ],
   "source": [
    "viewer = napari.view_image(test_img, name= 'test_img')\n",
    "viewer.add_image(median_filter, name='median_filter')"
   ]
  },
  {
   "cell_type": "code",
   "execution_count": 19,
   "id": "713cce05-d806-4b80-ae2e-49e181453d2a",
   "metadata": {},
   "outputs": [
    {
     "name": "stderr",
     "output_type": "stream",
     "text": [
      "C:\\ProgramData\\anaconda3\\envs\\jupyterlab-env\\Lib\\site-packages\\skimage\\filters\\thresholding.py:561: RuntimeWarning: divide by zero encountered in divide\n",
      "  higher = (csum_intensity[-1] - csum_intensity[:-1]) / csumh[:-1]\n"
     ]
    }
   ],
   "source": [
    "otsu = sk.filters.threshold_otsu(median_filter)\n",
    "iso = sk.filters.threshold_isodata(median_filter)\n",
    "li = sk.filters.threshold_li(median_filter)\n",
    "local = sk.filters.threshold_local(median_filter)\n",
    "mean = sk.filters.threshold_mean(median_filter)\n",
    "minimum = sk.filters.threshold_minimum(median_filter)\n",
    "niblack = sk.filters.threshold_niblack(median_filter)\n",
    "sauvola = sk.filters.threshold_sauvola(median_filter)\n",
    "triangle = sk.filters.threshold_triangle(median_filter)\n",
    "yen = sk.filters.threshold_yen(median_filter)"
   ]
  },
  {
   "cell_type": "code",
   "execution_count": 27,
   "id": "6899dfbf-c783-4b78-8623-f14727602e2e",
   "metadata": {},
   "outputs": [],
   "source": [
    "otsu_mask = median_filter > otsu\n",
    "iso_mask = median_filter > iso\n",
    "li_mask = median_filter > li\n",
    "local_mask = median_filter > local\n",
    "mean_mask = median_filter > mean\n",
    "min_mask = median_filter > minimum\n",
    "niblack_mask = median_filter > niblack\n",
    "sauvola_mask = median_filter > sauvola\n",
    "triangle_mask = median_filter > triangle\n",
    "yen_mask = median_filter > yen"
   ]
  },
  {
   "cell_type": "code",
   "execution_count": 43,
   "id": "ac26815d-aca6-45d2-8447-0ed0169da0f3",
   "metadata": {},
   "outputs": [
    {
     "data": {
      "text/plain": [
       "<Image layer 'yen' at 0x1f5e0d7b4a0>"
      ]
     },
     "execution_count": 43,
     "metadata": {},
     "output_type": "execute_result"
    }
   ],
   "source": [
    "viewer = napari.view_image(test_img, name= 'test_img')\n",
    "viewer.add_image(median_filter, name='median_filter')\n",
    "viewer.add_image(otsu_mask, name='otsu')\n",
    "viewer.add_image(iso_mask, name='iso')\n",
    "viewer.add_image(li_mask, name='li')\n",
    "viewer.add_image(local_mask, name='local')\n",
    "viewer.add_image(mean_mask, name='mean')\n",
    "viewer.add_image(min_mask, name='min')\n",
    "viewer.add_image(niblack_mask, name='niblack')\n",
    "viewer.add_image(sauvola_mask, name='sauvola')\n",
    "viewer.add_image(triangle_mask, name='triangle')\n",
    "viewer.add_image(yen_mask, name='yen')"
   ]
  },
  {
   "cell_type": "markdown",
   "id": "9f2b24c2-81a5-4369-a69f-db3f8169e390",
   "metadata": {},
   "source": [
    "### Need to add in additional preprocessing"
   ]
  },
  {
   "cell_type": "code",
   "execution_count": null,
   "id": "439e31c8-a915-418f-b188-7949b4a01765",
   "metadata": {},
   "outputs": [],
   "source": [
    "#Testing Rolling Ball background subtraction\n",
    "rb_test = sk.restoration.rolling_ball(GMO_1ng_imgs[0],num_threads=12)"
   ]
  },
  {
   "cell_type": "code",
   "execution_count": null,
   "id": "c32039f9-d199-4291-ad1f-7cca27e3b868",
   "metadata": {},
   "outputs": [],
   "source": [
    "viewer = napari.view_image(rb_test, name= \"rb=100\")\n",
    "viewer.add_image(GMO_1ng_imgs[0], name='og')"
   ]
  },
  {
   "cell_type": "code",
   "execution_count": 29,
   "id": "4d8abc35-6483-4280-9fc3-5031fa6aed6d",
   "metadata": {},
   "outputs": [],
   "source": [
    "import random"
   ]
  },
  {
   "cell_type": "code",
   "execution_count": 33,
   "id": "64d54d28-a261-4e49-a961-da3fbb60a57a",
   "metadata": {},
   "outputs": [
    {
     "name": "stdout",
     "output_type": "stream",
     "text": [
      "range(0, 8)\n",
      "5\n"
     ]
    }
   ],
   "source": [
    "l= range(len(CMO_imgs))\n",
    "i = random.randint(0,8)\n",
    "print(l)\n",
    "print(i)"
   ]
  },
  {
   "cell_type": "code",
   "execution_count": 44,
   "id": "d4efad7a-d41b-4930-bf9d-c44863918353",
   "metadata": {},
   "outputs": [],
   "source": [
    "def median_filter_and_threshold(i, img_list):\n",
    "    median = sk.filters.median(img_list[i])\n",
    "    mask = median > sk.filters.threshold_otsu(median)\n",
    "    return mask"
   ]
  },
  {
   "cell_type": "code",
   "execution_count": 45,
   "id": "c9526293-f00d-4547-b918-98a1b387c660",
   "metadata": {},
   "outputs": [],
   "source": [
    "i = random.randint(0,8)\n",
    "CMO_mask = median_filter_and_threshold(i, CMO_imgs)\n",
    "GMO_1ng_mask = median_filter_and_threshold(i, GMO_1ng_imgs)\n",
    "GMO_2ng_mask = median_filter_and_threshold(i, GMO_2ng_imgs)"
   ]
  },
  {
   "cell_type": "code",
   "execution_count": 46,
   "id": "71fbf909-d5dd-4f2d-8cae-1193eca3049c",
   "metadata": {},
   "outputs": [
    {
     "data": {
      "text/plain": [
       "<Image layer 'Mask' at 0x1f5e14f2930>"
      ]
     },
     "execution_count": 46,
     "metadata": {},
     "output_type": "execute_result"
    }
   ],
   "source": [
    "viewer = napari.view_image(GMO_2ng_imgs[i], name= 'img')\n",
    "viewer.add_image(GMO_2ng_li_mask, name='Mask')"
   ]
  },
  {
   "cell_type": "code",
   "execution_count": null,
   "id": "735b47be-2690-4ee7-81f8-cd44d6b5d0a5",
   "metadata": {},
   "outputs": [],
   "source": []
  }
 ],
 "metadata": {
  "kernelspec": {
   "display_name": "GPUImageProcessing",
   "language": "python",
   "name": "gpuimageprocessing"
  },
  "language_info": {
   "codemirror_mode": {
    "name": "ipython",
    "version": 3
   },
   "file_extension": ".py",
   "mimetype": "text/x-python",
   "name": "python",
   "nbconvert_exporter": "python",
   "pygments_lexer": "ipython3",
   "version": "3.12.3"
  }
 },
 "nbformat": 4,
 "nbformat_minor": 5
}
