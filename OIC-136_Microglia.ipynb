{
 "cells": [
  {
   "cell_type": "code",
   "execution_count": 1,
   "id": "586d2ce9-9d71-49da-865b-fc250200d9e6",
   "metadata": {},
   "outputs": [],
   "source": [
    "import skimage as sk\n",
    "from skimage.io import imread, imshow, imsave\n",
    "import numpy as np\n",
    "import os\n",
    "from glob import glob\n",
    "import napari\n",
    "import pyclesperanto as cle\n",
    "import matplotlib.pyplot as plt\n",
    "import pandas as pd"
   ]
  },
  {
   "cell_type": "code",
   "execution_count": null,
   "id": "a972e375-a180-42a9-8706-619ddd4b2e45",
   "metadata": {},
   "outputs": [],
   "source": [
    "help(cle.scale)"
   ]
  },
  {
   "cell_type": "code",
   "execution_count": null,
   "id": "643bec80-cce7-49ef-82a7-011277354f7f",
   "metadata": {},
   "outputs": [],
   "source": [
    "def segment_on_GPU(input_image,spot_sigma,outline_sigma,voxel_size_z,voxel_size_y,voxel_size_x):\n",
    "    input_gpu = cle.push(input_image)\n",
    "    resampled = cle.create([int(input_gpu.shape[0] * voxel_size_z), int(input_gpu.shape[1] * voxel_size_y), int(input_gpu.shape[2] * voxel_size_x)])\n",
    "    cle.scale(input_gpu, resampled, factor_x=voxel_size_x, factor_y=voxel_size_y, factor_z=voxel_size_z, centered=False)\n",
    "    #normalize the image stack\n",
    "    equalized_intensities_stack = cle.create_like(resampled)\n",
    "    a_slice = cle.create([resampled.shape[1], resampled.shape[2]])\n",
    "    num_slices = resampled.shape[0]\n",
    "    mean_intensity_stack = cle.mean_of_all_pixels(resampled)\n",
    "    corrected_slice = None\n",
    "    for z in range(0, num_slices):\n",
    "        # get a single slice out of the stack\n",
    "        cle.copy_slice(resampled, a_slice, z)\n",
    "        # measure its intensity\n",
    "        mean_intensity_slice = cle.mean_of_all_pixels(a_slice)\n",
    "        # correct the intensity\n",
    "        correction_factor = mean_intensity_slice/mean_intensity_stack\n",
    "        corrected_slice = cle.multiply_image_and_scalar(a_slice, corrected_slice, correction_factor)\n",
    "        # copy slice back in a stack\n",
    "        cle.copy_slice(corrected_slice, equalized_intensities_stack, z)\n",
    "    #background subtraction\n",
    "    background_subtracted = cle.top_hat_box(equalized_intensities_stack, radius_x=10, radius_y=10, radius_z=10)\n",
    "    #get seed points\n",
    "    blurred = cle.gaussian_blur(background_subtracted, sigma_x=spot_sigma, sigma_y=spot_sigma, sigma_z=spot_sigma)\n",
    "    detected_spots = cle.detect_maxima_box(blurred, radius_x=1, radius_y=1, radius_z=1)\n",
    "    #segment signal\n",
    "    blurred = cle.gaussian_blur(background_subtracted, sigma_x=outline_sigma, sigma_y=outline_sigma, sigma_z=outline_sigma)\n",
    "    copy_blurred = cle.copy(blurred)\n",
    "    blurred_cpu = cle.pull(copy_blurred)\n",
    "    thresh = sk.filters.threshold_multiotsu(blurred_cpu, classes=5)\n",
    "    mask = blurred > thresh[1]\n",
    "    selected_spots = cle.binary_and(mask, detected_spots)\n",
    "    voronoi_diagram = cle.masked_voronoi_labeling(selected_spots, mask)\n",
    "    df = pd.DataFrame(cle.statistics_of_labelled_pixels(resampled, voronoi_diagram))\n",
    "    #pull data off gpu\n",
    "    input_pull = cle.pull(input_gpu)\n",
    "    background_subtracted_pull = cle.pull(background_subtracted)\n",
    "    equalized_intensities_stack_pull = cle.pull(equalized_intensities_stack)\n",
    "    mean_intensity_stack_pull = cle.pull(mean_intensity_stack)\n",
    "    blurred_pull = cle.pull(blurred)\n",
    "    voronoi_diagram_pull = cle.pull(voronoi_diagram)\n",
    "    resampled_pull = cle.pull(resampled)\n",
    "    detected_spots_pull = cle.pull(detected_spots)\n",
    "    selected_spots_pull = cle.pull(selected_spots)\n",
    "    mask_pull = cle.pull(mask)\n",
    "    return voronoi_diagram_pull, resampled_pull, detected_spots_pull, selected_spots_pull, df"
   ]
  },
  {
   "cell_type": "code",
   "execution_count": 17,
   "id": "a78de398-14f3-437b-9ac5-1303d697efa7",
   "metadata": {},
   "outputs": [],
   "source": [
    "def segment_on_GPU_no_resample(input_image,spot_sigma,outline_sigma,voxel_size_z,voxel_size_y,voxel_size_x):\n",
    "    input_gpu = cle.push(input_image)\n",
    "    #resampled = cle.create([int(input_gpu.shape[0] * voxel_size_z), int(input_gpu.shape[1] * voxel_size_y), int(input_gpu.shape[2] * voxel_size_x)])\n",
    "    #cle.scale(input_gpu, resampled, factor_x=voxel_size_x, factor_y=voxel_size_y, factor_z=voxel_size_z, centered=False)\n",
    "    #normalize the image stack\n",
    "    equalized_intensities_stack = cle.create_like(input_gpu)\n",
    "    a_slice = cle.create([input_gpu.shape[1], input_gpu.shape[2]])\n",
    "    num_slices = input_gpu.shape[0]\n",
    "    mean_intensity_stack = cle.mean_of_all_pixels(input_gpu)\n",
    "    corrected_slice = None\n",
    "    for z in range(0, num_slices):\n",
    "        # get a single slice out of the stack\n",
    "        cle.copy_slice(input_gpu, a_slice, z)\n",
    "        # measure its intensity\n",
    "        mean_intensity_slice = cle.mean_of_all_pixels(a_slice)\n",
    "        # correct the intensity\n",
    "        correction_factor = mean_intensity_slice/mean_intensity_stack\n",
    "        corrected_slice = cle.multiply_image_and_scalar(a_slice, corrected_slice, correction_factor)\n",
    "        # copy slice back in a stack\n",
    "        cle.copy_slice(corrected_slice, equalized_intensities_stack, z)\n",
    "    #background subtraction\n",
    "    background_subtracted = cle.top_hat_box(equalized_intensities_stack, radius_x=10, radius_y=10, radius_z=10)\n",
    "    #get seed points\n",
    "    blurred = cle.gaussian_blur(background_subtracted, sigma_x=spot_sigma, sigma_y=spot_sigma, sigma_z=spot_sigma)\n",
    "    detected_spots = cle.detect_maxima_box(blurred, radius_x=1, radius_y=1, radius_z=1)\n",
    "    #segment signal\n",
    "    blurred = cle.gaussian_blur(background_subtracted, sigma_x=outline_sigma, sigma_y=outline_sigma, sigma_z=outline_sigma)\n",
    "    copy_blurred = cle.copy(blurred)\n",
    "    blurred_cpu = cle.pull(copy_blurred)\n",
    "    thresh = sk.filters.threshold_multiotsu(blurred_cpu, classes=5)\n",
    "    mask = blurred > thresh[1]\n",
    "    selected_spots = cle.binary_and(mask, detected_spots)\n",
    "    voronoi_diagram = cle.masked_voronoi_labeling(selected_spots, mask)\n",
    "    df = pd.DataFrame(cle.statistics_of_labelled_pixels(input_gpu, voronoi_diagram))\n",
    "    #pull data off gpu\n",
    "    input_pull = cle.pull(input_gpu)\n",
    "    background_subtracted_pull = cle.pull(background_subtracted)\n",
    "    equalized_intensities_stack_pull = cle.pull(equalized_intensities_stack)\n",
    "    mean_intensity_stack_pull = cle.pull(mean_intensity_stack)\n",
    "    blurred_pull = cle.pull(blurred)\n",
    "    voronoi_diagram_pull = cle.pull(voronoi_diagram)\n",
    "    #resampled_pull = cle.pull(resampled)\n",
    "    detected_spots_pull = cle.pull(detected_spots)\n",
    "    selected_spots_pull = cle.pull(selected_spots)\n",
    "    mask_pull = cle.pull(mask)\n",
    "    return voronoi_diagram_pull, detected_spots_pull, selected_spots_pull, df, background_subtracted_pull"
   ]
  },
  {
   "cell_type": "code",
   "execution_count": null,
   "id": "2965e137-cc7a-426d-bf72-0195e363b5c9",
   "metadata": {},
   "outputs": [],
   "source": []
  },
  {
   "cell_type": "code",
   "execution_count": null,
   "id": "2ae9df2b-afde-49f6-801f-15b9d664c5e4",
   "metadata": {},
   "outputs": [],
   "source": [
    "def get_3D_meshes(mask_img):\n",
    "    array = []\n",
    "    for i in range(1,int(np.max(mask_img)+1)):\n",
    "        obj = mask_img == int(i)\n",
    "        verts, faces, _ , _ = sk.measure.marching_cubes(obj, level=0.0)\n",
    "        surf_area = sk.measure.mesh_surface_area(verts, faces)\n",
    "        array.append(surf_area)\n",
    "    measurements = pd.Series(array,name='Surface_Area')\n",
    "    return measurements"
   ]
  },
  {
   "cell_type": "code",
   "execution_count": 3,
   "id": "62610c61-906f-4c51-817a-57f1b19e6c2a",
   "metadata": {},
   "outputs": [
    {
     "data": {
      "text/plain": [
       "(OpenCL) NVIDIA RTX A4000 (OpenCL 3.0 CUDA)\n",
       "\tVendor:                      NVIDIA Corporation\n",
       "\tDriver Version:              572.83\n",
       "\tDevice Type:                 GPU\n",
       "\tCompute Units:               48\n",
       "\tGlobal Memory Size:          16375 MB\n",
       "\tLocal Memory Size:           0 MB\n",
       "\tMaximum Buffer Size:         4093 MB\n",
       "\tMax Clock Frequency:         1560 MHz\n",
       "\tImage Support:               Yes"
      ]
     },
     "execution_count": 3,
     "metadata": {},
     "output_type": "execute_result"
    }
   ],
   "source": [
    "cle.select_device(\"NVIDIA\")"
   ]
  },
  {
   "cell_type": "markdown",
   "id": "6d2c3b01-371f-4e5b-b4aa-981f8e7eeafe",
   "metadata": {},
   "source": [
    "### Reading in images"
   ]
  },
  {
   "cell_type": "code",
   "execution_count": 4,
   "id": "9557cbb3-7191-415b-8d59-6a2b23ddcfab",
   "metadata": {},
   "outputs": [],
   "source": [
    "#set voxel size for images\n",
    "voxel_size_x = 0.301\n",
    "voxel_size_y = 0.301\n",
    "voxel_size_z = 4.55"
   ]
  },
  {
   "cell_type": "code",
   "execution_count": 5,
   "id": "962724a8-a0cb-4d0a-8b18-538227337d34",
   "metadata": {},
   "outputs": [],
   "source": [
    "CMO_files = sorted(glob('E:/ParadaKusz_Lab/TIF_Files/Control_MO/*.tif'))\n",
    "GMO_1ng_files = sorted(glob('E:/ParadaKusz_Lab/TIF_Files/GNAS_MO_1ng/*.tif'))\n",
    "GMO_2ng_files = sorted(glob('E:/ParadaKusz_Lab/TIF_Files/GNAS_MO_2ng/*.tif'))"
   ]
  },
  {
   "cell_type": "code",
   "execution_count": 6,
   "id": "836e515b-f5ad-4ad7-a135-8f20c8443ae0",
   "metadata": {},
   "outputs": [],
   "source": [
    "CMO_imgs = list(map(sk.io.imread,CMO_files))\n",
    "GMO_1ng_imgs = list(map(sk.io.imread,GMO_1ng_files))\n",
    "GMO_2ng_imgs = list(map(sk.io.imread,GMO_2ng_files))"
   ]
  },
  {
   "cell_type": "code",
   "execution_count": 20,
   "id": "beb0c95d-b603-49a4-b007-a4e4acbefae0",
   "metadata": {},
   "outputs": [],
   "source": [
    "input_image = GMO_2ng_imgs[1]\n",
    "spot_sigma = 7\n",
    "outline_sigma = 1\n",
    "voronoi_diagram_pull, detected_spots_pull, selected_spots_pull, df, background_subtracted_pull = segment_on_GPU_no_resample(\n",
    "    input_image,spot_sigma,outline_sigma,voxel_size_z,voxel_size_y,voxel_size_x)"
   ]
  },
  {
   "cell_type": "code",
   "execution_count": 21,
   "id": "7910a0d2-a48d-47b2-bf16-cf163953f306",
   "metadata": {},
   "outputs": [
    {
     "name": "stderr",
     "output_type": "stream",
     "text": [
      "WARNING: DirectWrite: CreateFontFaceFromHDC() failed (Indicates an error in an input file such as a font file.) for QFontDef(Family=\"\", pointsize=12, pixelsize=16, styleHint=5, weight=50, stretch=100, hintingPreference=0) LOGFONT(\"MS Sans Serif\", lfWidth=0, lfHeight=-16) dpi=192\n"
     ]
    },
    {
     "data": {
      "text/plain": [
       "<Image layer 'equal' at 0x2aa81175f10>"
      ]
     },
     "execution_count": 21,
     "metadata": {},
     "output_type": "execute_result"
    }
   ],
   "source": [
    "viewer = napari.view_image(voronoi_diagram_pull, name='masks',scale=[voxel_size_z,voxel_size_y,voxel_size_x])\n",
    "viewer.add_image(input_image,name='img',scale=[voxel_size_z,voxel_size_y,voxel_size_x])\n",
    "viewer.add_image(background_subtracted_pull,name='equal',scale=[voxel_size_z,voxel_size_y,voxel_size_x])"
   ]
  },
  {
   "cell_type": "markdown",
   "id": "4a1f2ea0-cc93-444b-a4f6-a49e1216f3a9",
   "metadata": {
    "jp-MarkdownHeadingCollapsed": true
   },
   "source": [
    "## Plan: preprocess, threshold signal, connected components, post-process objects, measure volume and SA to get ratio, measure fluorescence values, PCA on volume/SA to find threshold for splitting into active and inactive state?"
   ]
  },
  {
   "cell_type": "markdown",
   "id": "aa618698-182d-4dd3-bc07-afa1c687a843",
   "metadata": {},
   "source": [
    "#### Trying to get GPU use working"
   ]
  },
  {
   "cell_type": "code",
   "execution_count": null,
   "id": "2a09ddde-f9e5-443b-a1b6-2599821ca57e",
   "metadata": {},
   "outputs": [],
   "source": [
    "test_img = CMO_imgs[6]"
   ]
  },
  {
   "cell_type": "code",
   "execution_count": null,
   "id": "ea169ff2-4f96-45b0-aa5d-115a2b9bec8d",
   "metadata": {},
   "outputs": [],
   "source": [
    "input_gpu = cle.push(test_img)\n",
    "input_gpu"
   ]
  },
  {
   "cell_type": "markdown",
   "id": "a0a1a7ec-a7df-4cd6-af4c-c2a1f22f46cf",
   "metadata": {},
   "source": [
    "Inspect 3D data"
   ]
  },
  {
   "cell_type": "code",
   "execution_count": null,
   "id": "62e7df4e-a1b9-47a3-b962-3614ff777642",
   "metadata": {},
   "outputs": [],
   "source": [
    "def show(image_to_show, labels=False):\n",
    "    \"\"\"\n",
    "    This function generates three projections: in X-, Y- and Z-direction and shows them.\n",
    "    \"\"\"\n",
    "    projection_x = cle.maximum_x_projection(image_to_show)\n",
    "    projection_y = cle.maximum_y_projection(image_to_show)\n",
    "    projection_z = cle.maximum_z_projection(image_to_show)\n",
    "\n",
    "    fig, axs = plt.subplots(1, 3, figsize=(15, 15))\n",
    "    axs[0].imshow(projection_x, cmap='prism' if labels else 'gray')\n",
    "    axs[1].imshow(projection_y, cmap='prism' if labels else 'gray')\n",
    "    axs[2].imshow(projection_z, cmap='prism' if labels else 'gray')\n",
    "    plt.show()\n",
    "\n",
    "show(input_gpu)\n",
    "print(input_gpu.shape)"
   ]
  },
  {
   "cell_type": "code",
   "execution_count": null,
   "id": "735b47be-2690-4ee7-81f8-cd44d6b5d0a5",
   "metadata": {},
   "outputs": [],
   "source": [
    "#Resample to make isotropic\n",
    "resampled = cle.create([int(input_gpu.shape[0] * voxel_size_z), int(input_gpu.shape[1] * voxel_size_y), int(input_gpu.shape[2] * voxel_size_x)])\n",
    "cle.scale(input_gpu, resampled, factor_x=voxel_size_x, factor_y=voxel_size_y, factor_z=voxel_size_z, centered=False)\n",
    "\n",
    "show(resampled)\n",
    "print(resampled.shape)"
   ]
  },
  {
   "cell_type": "markdown",
   "id": "fd22a1bf-9962-4d6f-85b9-c7adec73f49d",
   "metadata": {},
   "source": [
    "May not have enough Z resolution for resonable reasults"
   ]
  },
  {
   "cell_type": "code",
   "execution_count": null,
   "id": "344da444-653d-4959-b970-9d06c94a8800",
   "metadata": {},
   "outputs": [],
   "source": [
    "equalized_intensities_stack = cle.create_like(resampled)\n",
    "a_slice = cle.create([resampled.shape[1], resampled.shape[2]])\n",
    "\n",
    "num_slices = resampled.shape[0]\n",
    "mean_intensity_stack = cle.mean_of_all_pixels(resampled)\n",
    "\n",
    "corrected_slice = None\n",
    "for z in range(0, num_slices):\n",
    "    # get a single slice out of the stack\n",
    "    cle.copy_slice(resampled, a_slice, z)\n",
    "    # measure its intensity\n",
    "    mean_intensity_slice = cle.mean_of_all_pixels(a_slice)\n",
    "    # correct the intensity\n",
    "    correction_factor = mean_intensity_slice/mean_intensity_stack\n",
    "    corrected_slice = cle.multiply_image_and_scalar(a_slice, corrected_slice, correction_factor)\n",
    "    # copy slice back in a stack\n",
    "    cle.copy_slice(corrected_slice, equalized_intensities_stack, z)\n",
    "\n",
    "#show(equalized_intensities_stack)"
   ]
  },
  {
   "cell_type": "code",
   "execution_count": null,
   "id": "0ec0458d-5a0d-4ca8-a627-3df0fd6ded94",
   "metadata": {},
   "outputs": [],
   "source": [
    "#Correct background\n",
    "background_subtracted = cle.top_hat_box(equalized_intensities_stack, radius_x=10, radius_y=10, radius_z=10)\n",
    "#show(background_subtracted)"
   ]
  },
  {
   "cell_type": "code",
   "execution_count": null,
   "id": "ffedb0a1-25ba-47ad-931c-8d04ce077c81",
   "metadata": {},
   "outputs": [],
   "source": [
    "segmented = cle.voronoi_otsu_labeling(background_subtracted, spot_sigma=5, outline_sigma=2)\n",
    "show(segmented, labels=True)"
   ]
  },
  {
   "cell_type": "code",
   "execution_count": null,
   "id": "9d7baa96-736e-4726-83ff-eefe0d99851b",
   "metadata": {},
   "outputs": [],
   "source": [
    "help(cle.detect_maxima_box)"
   ]
  },
  {
   "cell_type": "code",
   "execution_count": null,
   "id": "e39f89cd-adeb-4964-92a9-38203e1385e1",
   "metadata": {},
   "outputs": [],
   "source": [
    "sigma_spot_detection = 7\n",
    "blurred = cle.gaussian_blur(background_subtracted, sigma_x=sigma_spot_detection, sigma_y=sigma_spot_detection, sigma_z=sigma_spot_detection)\n",
    "#enough of a blue to remove most of the texture of the objects wihle retaining their presence\n",
    "\n",
    "detected_spots = cle.detect_maxima_box(blurred, radius_x=1, radius_y=1, radius_z=1)\n",
    "\n",
    "number_of_spots = cle.sum_of_all_pixels(detected_spots)\n",
    "print(\"number of detected spots\", number_of_spots)\n",
    "#viewer = napari.view_image(blurred, name='blurred')\n",
    "#viewer.add_image(detected_spots, name='spots')\n",
    "# fig, axs = plt.subplots(1, 2, figsize=(15, 15))\n",
    "# axs[0].imshow(blurred[95,300:500,300:])\n",
    "# axs[1].imshow(detected_spots[95,300:500,300:])\n",
    "# plt.show()"
   ]
  },
  {
   "cell_type": "code",
   "execution_count": null,
   "id": "8ebe974b-4836-4ea9-a457-345219df9de2",
   "metadata": {},
   "outputs": [],
   "source": [
    "sigma_outline = 1\n",
    "blurred = cle.gaussian_blur(background_subtracted, sigma_x=sigma_outline, sigma_y=sigma_outline, sigma_z=sigma_outline)\n",
    "#Smaller blur to make threhsolding easier and maintain reasonable boundaries\n",
    "\n",
    "# binary = cle.threshold_otsu(blurred)\n",
    "# viewer = napari.view_image(blurred, name='blurred')\n",
    "# viewer.add_image(binary, name='mask')"
   ]
  },
  {
   "cell_type": "code",
   "execution_count": null,
   "id": "d2e9fd37-f4ff-4b51-a748-412543d0ba57",
   "metadata": {},
   "outputs": [],
   "source": [
    "copy_blurred = cle.copy(blurred)\n",
    "copy_background_subtracted = cle.copy(background_subtracted)"
   ]
  },
  {
   "cell_type": "code",
   "execution_count": null,
   "id": "77f41271-94f2-426e-972a-76f2b5252dfe",
   "metadata": {},
   "outputs": [],
   "source": [
    "help(cle.greater)"
   ]
  },
  {
   "cell_type": "code",
   "execution_count": null,
   "id": "debb6d97-7364-49b3-aac8-52db07070a82",
   "metadata": {},
   "outputs": [],
   "source": [
    "blurred_cpu = cle.pull(copy_blurred)\n",
    "iso_norm = cle.pull(copy_background_subtracted)"
   ]
  },
  {
   "cell_type": "code",
   "execution_count": null,
   "id": "aa477130-c53d-44e1-8940-0e0e07d3cdb4",
   "metadata": {},
   "outputs": [],
   "source": [
    "#testing thresholds\n",
    "\n",
    "thresh = sk.filters.threshold_multiotsu(blurred_cpu, classes=5)\n",
    "print(thresh)\n",
    "mask = blurred>thresh[1]\n",
    "\n",
    "# viewer = napari.view_image(blurred, name='blurred')\n",
    "# viewer.add_image(mask, name='mask')\n",
    "# viewer.add_image(iso_norm, name='iso data')"
   ]
  },
  {
   "cell_type": "code",
   "execution_count": null,
   "id": "4acfa52a-4312-4e53-a8c9-a9f7ce04d1ee",
   "metadata": {},
   "outputs": [],
   "source": [
    "viewer = napari.view_image(iso_norm, name='iso data')\n",
    "viewer.add_image(blurred, name='blurred')\n",
    "viewer.add_image(mask, name='mask')"
   ]
  },
  {
   "cell_type": "code",
   "execution_count": null,
   "id": "160dfc1e-37db-4cf8-a445-509ebc48eb39",
   "metadata": {},
   "outputs": [],
   "source": [
    "mask_gpu = blurred > thresh[1]\n",
    "viewer = napari.view_image(mask_gpu, name='mask')"
   ]
  },
  {
   "cell_type": "code",
   "execution_count": null,
   "id": "d325b53a-2972-4660-85ee-a67feb10c4d6",
   "metadata": {},
   "outputs": [],
   "source": [
    "selected_spots = cle.binary_and(mask_gpu, detected_spots)\n",
    "\n",
    "number_of_spots = cle.sum_of_all_pixels(selected_spots)\n",
    "print(\"number of selected spots\", number_of_spots)\n",
    "\n",
    "viewer = napari.view_image(mask_gpu, name='mask')\n",
    "viewer.add_image(detected_spots, name='Original Spots')\n",
    "viewer.add_image(selected_spots, name='Filtered Spots')"
   ]
  },
  {
   "cell_type": "code",
   "execution_count": null,
   "id": "c16ec719-0913-4b55-86ca-1586499d5bf9",
   "metadata": {},
   "outputs": [],
   "source": [
    "voronoi_diagram = cle.masked_voronoi_labeling(selected_spots, mask_gpu)\n",
    "viewer = napari.view_image(voronoi_diagram, name='mask')\n",
    "viewer.add_image(background_subtracted, name='blurred_img')"
   ]
  },
  {
   "cell_type": "code",
   "execution_count": null,
   "id": "335ab7f3-d416-49de-8eee-3e648de1182a",
   "metadata": {},
   "outputs": [],
   "source": [
    "df = pd.DataFrame(\n",
    "    cle.statistics_of_labelled_pixels(resampled, voronoi_diagram)\n",
    "    )\n",
    "df.head()\n",
    "df.to_csv(os.path.join(save_df_path,'measurements_'+clean_name+'.csv'))"
   ]
  },
  {
   "cell_type": "markdown",
   "id": "2c9ea0c9-8898-424d-aea2-585484427ce7",
   "metadata": {
    "jp-MarkdownHeadingCollapsed": true
   },
   "source": [
    "## Creating Functions"
   ]
  },
  {
   "cell_type": "code",
   "execution_count": null,
   "id": "44f382f3-570d-4d47-a8c6-d226905a5ec4",
   "metadata": {},
   "outputs": [],
   "source": [
    "def segment_on_GPU(input_image,spot_sigma,outline_sigma,voxel_size_z,voxel_size_y,voxel_size_x):\n",
    "    input_gpu = cle.push(input_image)\n",
    "    resampled = cle.create([int(input_gpu.shape[0] * voxel_size_z), int(input_gpu.shape[1] * voxel_size_y), int(input_gpu.shape[2] * voxel_size_x)])\n",
    "    cle.scale(input_gpu, resampled, factor_x=voxel_size_x, factor_y=voxel_size_y, factor_z=voxel_size_z, centered=False)\n",
    "    #normalize the image stack\n",
    "    equalized_intensities_stack = cle.create_like(resampled)\n",
    "    a_slice = cle.create([resampled.shape[1], resampled.shape[2]])\n",
    "    num_slices = resampled.shape[0]\n",
    "    mean_intensity_stack = cle.mean_of_all_pixels(resampled)\n",
    "    corrected_slice = None\n",
    "    for z in range(0, num_slices):\n",
    "        # get a single slice out of the stack\n",
    "        cle.copy_slice(resampled, a_slice, z)\n",
    "        # measure its intensity\n",
    "        mean_intensity_slice = cle.mean_of_all_pixels(a_slice)\n",
    "        # correct the intensity\n",
    "        correction_factor = mean_intensity_slice/mean_intensity_stack\n",
    "        corrected_slice = cle.multiply_image_and_scalar(a_slice, corrected_slice, correction_factor)\n",
    "        # copy slice back in a stack\n",
    "        cle.copy_slice(corrected_slice, equalized_intensities_stack, z)\n",
    "    #background subtraction\n",
    "    background_subtracted = cle.top_hat_box(equalized_intensities_stack, radius_x=10, radius_y=10, radius_z=10)\n",
    "    #get seed points\n",
    "    blurred = cle.gaussian_blur(background_subtracted, sigma_x=spot_sigma, sigma_y=spot_sigma, sigma_z=spot_sigma)\n",
    "    detected_spots = cle.detect_maxima_box(blurred, radius_x=1, radius_y=1, radius_z=1)\n",
    "    #segment signal\n",
    "    blurred = cle.gaussian_blur(background_subtracted, sigma_x=outline_sigma, sigma_y=outline_sigma, sigma_z=outline_sigma)\n",
    "    copy_blurred = cle.copy(blurred)\n",
    "    blurred_cpu = cle.pull(copy_blurred)\n",
    "    thresh = sk.filters.threshold_multiotsu(blurred_cpu, classes=5)\n",
    "    mask = blurred > thresh[1]\n",
    "    selected_spots = cle.binary_and(mask, detected_spots)\n",
    "    voronoi_diagram = cle.masked_voronoi_labeling(selected_spots, mask)\n",
    "    df1 = pd.DataFrame(cle.statistics_of_labelled_pixels(resampled, voronoi_diagram))\n",
    "    voronoi_diagram_cpu = cle.pull(voronoi_diagram)\n",
    "    resampled_cpu = cle.pull(resampled)\n",
    "    # meshes = sk.measure.marching_cubes(voronoi_diagram_cpu, spacing=voxels)\n",
    "    # df2 = sk.measure.regionprops_table(voronoi_diagram_cpu, resampled_cpu,properties=('label','area','intensity_max','intensity_mean','intensity_min'))\n",
    "    # df2 = pd.DataFrame.from_dict(df2)\n",
    "    #df1.to_csv(os.path.join('E:/ParadaKusz_Lab/Test_Outputs','test_clemeasurements.csv'))\n",
    "    # df2.to_csv(os.path.join('E:/ParadaKusz_Lab/Test_Outputs','test_skmeasurements.csv'))\n",
    "    return voronoi_diagram_cpu, resampled_cpu, df1 \n",
    "    "
   ]
  },
  {
   "cell_type": "code",
   "execution_count": null,
   "id": "7183e9e3-cbb4-4124-8548-2b2cffcca1d1",
   "metadata": {},
   "outputs": [],
   "source": [
    "test_img = CMO_imgs[1]\n",
    "voroni_diagram, resampled_img, df = segment_on_GPU(test_img,7,1,voxels[0],voxels[1],voxels[2])"
   ]
  },
  {
   "cell_type": "code",
   "execution_count": null,
   "id": "ad6515f5-91e7-4102-b951-805f62ab378d",
   "metadata": {},
   "outputs": [],
   "source": [
    "df.head()"
   ]
  },
  {
   "cell_type": "markdown",
   "id": "863d8258-9e5b-4140-952e-4dd780e022f7",
   "metadata": {},
   "source": [
    "### Testing a bounding box crop approach to getting surface area measurements (too complicated)"
   ]
  },
  {
   "cell_type": "code",
   "execution_count": null,
   "id": "8ff9c9f2-5fef-499b-88e9-c093a9708678",
   "metadata": {},
   "outputs": [],
   "source": [
    "bbox_min_x = np.asarray(df.loc[:,'bbox_min_x'], dtype=int)\n",
    "bbox_min_y = np.asarray(df.loc[:,'bbox_min_y'], dtype=int)\n",
    "bbox_min_z = np.asarray(df.loc[:,'bbox_min_z'], dtype=int)\n",
    "width = np.asarray(df.loc[:,'bbox_width'], dtype=int)\n",
    "height = np.asarray(df.loc[:,'bbox_height'], dtype=int)\n",
    "depth = np.asarray(df.loc[:,'bbox_depth'], dtype=int)"
   ]
  },
  {
   "cell_type": "code",
   "execution_count": null,
   "id": "5d387564-573a-4221-bb8b-e3fd68e2ba1a",
   "metadata": {},
   "outputs": [],
   "source": [
    "bbox_min_x"
   ]
  },
  {
   "cell_type": "code",
   "execution_count": null,
   "id": "ed4dc340-3757-4d75-a51a-783b3029cf12",
   "metadata": {},
   "outputs": [],
   "source": [
    "obj = cle.crop(voroni_diagram, \n",
    "               start_x=bbox_min_x[0],start_y=bbox_min_y[0],start_z=bbox_min_z[0],width=width[0],height=height[0],depth=depth[0])\n",
    "viewer = napari.view_image(obj, name='test')"
   ]
  },
  {
   "cell_type": "code",
   "execution_count": null,
   "id": "fca4e26f-977f-4d5f-8ede-f536eb2f23e4",
   "metadata": {},
   "outputs": [],
   "source": [
    "obj_cpu = cle.pull(obj)\n",
    "verts, faces, _ , _ = sk.measure.marching_cubes(obj_cpu, level=0.0,spacing=voxels)\n",
    "surf_area = sk.measure.mesh_surface_area(verts, faces)"
   ]
  },
  {
   "cell_type": "code",
   "execution_count": null,
   "id": "acfb3295-89b9-4ec5-b5cb-3847f70896fa",
   "metadata": {},
   "outputs": [],
   "source": [
    "help(cle.crop)"
   ]
  },
  {
   "cell_type": "markdown",
   "id": "80cbe4a5-2599-4b7e-8d8b-dc39917a19e2",
   "metadata": {},
   "source": [
    "### Testing a threshold-type approach to getting surface area measurements (easier and less room for error)"
   ]
  },
  {
   "cell_type": "code",
   "execution_count": null,
   "id": "552ba6e5-3e01-4dc1-88c4-37e25fc46354",
   "metadata": {},
   "outputs": [],
   "source": [
    "obj_thresh = voroni_diagram == 8\n",
    "viewer = napari.view_image(obj_thresh, name='test')"
   ]
  },
  {
   "cell_type": "code",
   "execution_count": null,
   "id": "f99fe293-c0be-4329-96e6-d5237ad0502e",
   "metadata": {},
   "outputs": [],
   "source": [
    "labels_cpu = cle.pull(voroni_diagram)\n",
    "max_lab = int(np.max(labels_cpu))\n",
    "max_lab"
   ]
  },
  {
   "cell_type": "code",
   "execution_count": null,
   "id": "73decd73-96bb-4ccd-891a-869572ca88c8",
   "metadata": {},
   "outputs": [],
   "source": [
    "def get_3D_meshes(mask_img):\n",
    "    array = []\n",
    "    labels_cpu = cle.pull(mask_img)\n",
    "    for i in range(1,int(np.max(labels_cpu)+1)):\n",
    "        obj = labels_cpu == int(i)\n",
    "        verts, faces, _ , _ = sk.measure.marching_cubes(obj, level=0.0)\n",
    "        surf_area = sk.measure.mesh_surface_area(verts, faces)\n",
    "        array.append(surf_area)\n",
    "    measurements = pd.Series(array,name='Surface_Area')\n",
    "    return measurements"
   ]
  },
  {
   "cell_type": "code",
   "execution_count": null,
   "id": "12f50d52-04b6-4d20-9dae-8072982577da",
   "metadata": {},
   "outputs": [],
   "source": [
    "surface_areas = get_3D_meshes(voroni_diagram)"
   ]
  },
  {
   "cell_type": "code",
   "execution_count": null,
   "id": "754e02b4-48d2-4686-9507-eee09a4835ba",
   "metadata": {},
   "outputs": [],
   "source": [
    "surface_areas.tail()"
   ]
  },
  {
   "cell_type": "code",
   "execution_count": null,
   "id": "166e4a0b-260d-429b-bc6f-5ebde85eaf63",
   "metadata": {},
   "outputs": [],
   "source": [
    "merged_df = pd.concat([df,surface_areas], axis=1)\n"
   ]
  },
  {
   "cell_type": "code",
   "execution_count": null,
   "id": "785659f5-d209-43c9-ae14-7a159b70546d",
   "metadata": {},
   "outputs": [],
   "source": [
    "merged_df.to_csv(os.path.join('E:/ParadaKusz_Lab/Test_Outputs','test_mergedmeasurements2.csv'))"
   ]
  },
  {
   "cell_type": "code",
   "execution_count": null,
   "id": "cfbc7143-9249-4c31-8bd1-b47f5db07bb1",
   "metadata": {},
   "outputs": [],
   "source": [
    "verify = sk.measure.regionprops_table(labels_cpu, labels_cpu, properties=('label','intensity_max'))\n",
    "verify_df = pd.DataFrame.from_dict(verify)\n",
    "verify_df.to_csv(os.path.join('E:/ParadaKusz_Lab/Test_Outputs','test_verifylabels.csv'))"
   ]
  },
  {
   "cell_type": "code",
   "execution_count": null,
   "id": "1e62e42c-406b-49db-959a-3a7e6c57d9fc",
   "metadata": {},
   "outputs": [],
   "source": [
    "#testing function\n",
    "voroni_diagram, resampled_img = segment_on_GPU(test_img,7,1,voxels[0],voxels[1],voxels[2])\n",
    "voroni_diagram.shape"
   ]
  },
  {
   "cell_type": "code",
   "execution_count": null,
   "id": "8185da33-4a41-44d1-91fa-eeecf7cc950b",
   "metadata": {},
   "outputs": [],
   "source": [
    "np.max(voroni_diagram)"
   ]
  },
  {
   "cell_type": "code",
   "execution_count": null,
   "id": "57f3d82e-854f-47f3-9773-d0d6ee6ec698",
   "metadata": {},
   "outputs": [],
   "source": [
    "#Creating meshes and measuring volume surface area\n",
    "obj_cpu = cle.pull(obj_thresh)\n",
    "verts, faces, _ , _ = sk.measure.marching_cubes(obj_cpu, level=0.0,spacing=voxels)\n",
    "surf_area = sk.measure.mesh_surface_area(verts, faces)"
   ]
  },
  {
   "cell_type": "code",
   "execution_count": null,
   "id": "ec8f2f66-bddf-4273-9066-b265c16030c4",
   "metadata": {},
   "outputs": [],
   "source": [
    "print(surf_area)"
   ]
  },
  {
   "cell_type": "code",
   "execution_count": null,
   "id": "54eab7f1-2db6-43ee-a5bb-a90bbeb16e8b",
   "metadata": {},
   "outputs": [],
   "source": [
    "def saving():\n",
    "     #save everything\n",
    "    equalized_intensities_stack_cpu = cle.pull(equalized_intensities_stack)\n",
    "    imsave(os.path.join(cp_masks_path,'equalized_resampled_'+files[i]), equalized_intensities_stack_cpu)\n",
    "    "
   ]
  }
 ],
 "metadata": {
  "kernelspec": {
   "display_name": "cle",
   "language": "python",
   "name": "cle"
  },
  "language_info": {
   "codemirror_mode": {
    "name": "ipython",
    "version": 3
   },
   "file_extension": ".py",
   "mimetype": "text/x-python",
   "name": "python",
   "nbconvert_exporter": "python",
   "pygments_lexer": "ipython3",
   "version": "3.9.21"
  }
 },
 "nbformat": 4,
 "nbformat_minor": 5
}
