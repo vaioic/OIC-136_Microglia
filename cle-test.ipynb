{
 "cells": [
  {
   "cell_type": "code",
   "execution_count": 1,
   "id": "c09997cc-c11d-402a-8e90-6c72ab40158f",
   "metadata": {},
   "outputs": [],
   "source": [
    "import pyclesperanto as cle\n",
    "from skimage.io import imread, imsave"
   ]
  },
  {
   "cell_type": "code",
   "execution_count": 2,
   "id": "ceb9c801-8029-4efb-ac45-440d725b4f5f",
   "metadata": {},
   "outputs": [
    {
     "name": "stdout",
     "output_type": "stream",
     "text": [
      "Used GPU:  000001B25A7634F0\n"
     ]
    }
   ],
   "source": [
    "# initialize GPU\n",
    "device = cle.select_device()\n",
    "print(\"Used GPU: \", device)"
   ]
  },
  {
   "cell_type": "code",
   "execution_count": 3,
   "id": "bc07efcc-c01f-496a-80a4-ce1c2a39b4f5",
   "metadata": {},
   "outputs": [],
   "source": [
    "image = imread(\"https://samples.fiji.sc/blobs.png?raw=true\")"
   ]
  },
  {
   "cell_type": "code",
   "execution_count": 10,
   "id": "cebf14c8-f556-40ce-980e-4b22ecb6be9e",
   "metadata": {},
   "outputs": [],
   "source": [
    "# push image to device memory\n",
    "input_image = cle.push(image)"
   ]
  },
  {
   "cell_type": "code",
   "execution_count": 11,
   "id": "119133b0-bf71-4101-8ddb-4cb72a9d046f",
   "metadata": {},
   "outputs": [],
   "source": [
    "# process the image\n",
    "inverted = cle.subtract_image_from_scalar(input_image, scalar=255)\n",
    "blurred = cle.gaussian_blur(inverted, sigma_x=1, sigma_y=1)\n",
    "binary = cle.threshold_otsu(blurred)\n",
    "labeled = cle.connected_components_labeling(binary)"
   ]
  },
  {
   "cell_type": "code",
   "execution_count": 7,
   "id": "0ae68893-d2b6-4fdb-ab8e-5398ec378637",
   "metadata": {},
   "outputs": [],
   "source": [
    "# The maxmium intensity in a label image corresponds to the number of objects\n",
    "num_labels = cle.maximum_of_all_pixels(labeled)"
   ]
  },
  {
   "cell_type": "code",
   "execution_count": 8,
   "id": "3191e405-6014-419a-a900-49d4d2a3372b",
   "metadata": {},
   "outputs": [
    {
     "name": "stdout",
     "output_type": "stream",
     "text": [
      "Num objects in the image: 1.0\n"
     ]
    }
   ],
   "source": [
    "# print out result\n",
    "print(\"Num objects in the image: \" + str(num_labels))"
   ]
  },
  {
   "cell_type": "code",
   "execution_count": 9,
   "id": "a106a615-f91f-4420-b565-87e32f94e72e",
   "metadata": {},
   "outputs": [
    {
     "name": "stderr",
     "output_type": "stream",
     "text": [
      "E:\\Temp\\ipykernel_15212\\2678986947.py:3: UserWarning: result.tif is a low contrast image\n",
      "  imsave(\"result.tif\", output_image)\n"
     ]
    }
   ],
   "source": [
    "# read image from device memory\n",
    "output_image = cle.pull(labeled)\n",
    "imsave(\"result.tif\", output_image)"
   ]
  },
  {
   "cell_type": "code",
   "execution_count": null,
   "id": "af4cfcbe-c58f-420d-80a3-e599bafec0a8",
   "metadata": {},
   "outputs": [],
   "source": []
  }
 ],
 "metadata": {
  "kernelspec": {
   "display_name": "cle",
   "language": "python",
   "name": "cle"
  },
  "language_info": {
   "codemirror_mode": {
    "name": "ipython",
    "version": 3
   },
   "file_extension": ".py",
   "mimetype": "text/x-python",
   "name": "python",
   "nbconvert_exporter": "python",
   "pygments_lexer": "ipython3",
   "version": "3.9.21"
  }
 },
 "nbformat": 4,
 "nbformat_minor": 5
}
