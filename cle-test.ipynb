{
 "cells": [
  {
   "cell_type": "code",
   "execution_count": null,
   "id": "c09997cc-c11d-402a-8e90-6c72ab40158f",
   "metadata": {},
   "outputs": [],
   "source": [
    "import pyclesperanto as cle\n",
    "from skimage.io import imread, imsave\n",
    "import numpy as np\n",
    "import matplotlib"
   ]
  },
  {
   "cell_type": "markdown",
   "id": "32e1d18d-cdb4-44cb-b788-f8ed9005984d",
   "metadata": {},
   "source": [
    "### What devices are available and selecting devices"
   ]
  },
  {
   "cell_type": "code",
   "execution_count": null,
   "id": "2ea679c0-3903-4eb4-b0e3-798566db2071",
   "metadata": {},
   "outputs": [],
   "source": [
    "cle.list_available_devices()"
   ]
  },
  {
   "cell_type": "code",
   "execution_count": null,
   "id": "0b9298fc-3a0f-4fef-9bcc-3a0a9a5dce0e",
   "metadata": {},
   "outputs": [],
   "source": [
    "cle.info() #global information about the GPUs available"
   ]
  },
  {
   "cell_type": "code",
   "execution_count": null,
   "id": "ceb9c801-8029-4efb-ac45-440d725b4f5f",
   "metadata": {},
   "outputs": [],
   "source": [
    "# initialize GPU; use everytime\n",
    "device = cle.select_device(\"NVIDIA\") #If multiple types of GPUs were available, can select a specific one with a string (will match)\n",
    "#cle.select_device(1, device_type=\"gpu\") #Alt way of selecting the GPU\n",
    "#print(\"Used GPU: \", device)"
   ]
  },
  {
   "cell_type": "markdown",
   "id": "57497ae0-da54-4f1d-a060-92af37a10918",
   "metadata": {},
   "source": [
    "### Sending data to the GPU"
   ]
  },
  {
   "cell_type": "markdown",
   "id": "3d3d0b79-9459-42e5-8d52-ee76b97a2150",
   "metadata": {},
   "source": [
    "#### Can create space to use on the GPU"
   ]
  },
  {
   "cell_type": "code",
   "execution_count": null,
   "id": "c142a22c-532f-4cbc-b696-fdefb4bf1b84",
   "metadata": {},
   "outputs": [],
   "source": [
    "empty_array = cle.create((128,128), dtype=np.float32) #dtype can be specified if wanted (64-bit not supported)\n",
    "empty_array #array of the specified shape and dtype but filled with 0"
   ]
  },
  {
   "cell_type": "markdown",
   "id": "7072e3c5-adc0-48f4-9b74-7d7949dffb30",
   "metadata": {},
   "source": [
    "#### Sending existing data to the GPU (Push)"
   ]
  },
  {
   "cell_type": "code",
   "execution_count": null,
   "id": "7d1e4139-491c-40a0-84ee-bc70a12636c1",
   "metadata": {},
   "outputs": [],
   "source": [
    "#Array of random ints\n",
    "array = np.random.random((128,128)).astype(np.float32)\n",
    "print(type(array), array.shape, array.dtype)"
   ]
  },
  {
   "cell_type": "code",
   "execution_count": null,
   "id": "1c38dc07-5958-4f91-93e0-c6637738ea13",
   "metadata": {},
   "outputs": [],
   "source": [
    "random_array = cle.push(array)\n",
    "random_array #calling the array makes a super awesome visual automatically!"
   ]
  },
  {
   "cell_type": "markdown",
   "id": "66109c66-ad98-4af5-9d6f-5b80dce4fb6b",
   "metadata": {},
   "source": [
    "#### Pull data off GPU"
   ]
  },
  {
   "cell_type": "code",
   "execution_count": null,
   "id": "90128d71-e8eb-4e49-b367-d79016013ea9",
   "metadata": {},
   "outputs": [],
   "source": [
    "read_array = cle.pull(random_array)\n",
    "print(type(read_array), read_array.shape, read_array.dtype)"
   ]
  },
  {
   "cell_type": "markdown",
   "id": "1058c78f-cd66-4bbe-9096-e937c0ba51ac",
   "metadata": {},
   "source": [
    "# Processing Data on GPU"
   ]
  },
  {
   "cell_type": "markdown",
   "id": "a8a431eb-aa7a-48b6-99e1-9b1f6ac17285",
   "metadata": {},
   "source": [
    "#### Simple Processing (Crops, flips, pasting)"
   ]
  },
  {
   "cell_type": "code",
   "execution_count": null,
   "id": "38b07a9a-b234-47a8-b573-b3d304fbfef6",
   "metadata": {},
   "outputs": [],
   "source": [
    "image = cle.push(imread('https://samples.fiji.sc/blobs.png').squeeze())\n",
    "image"
   ]
  },
  {
   "cell_type": "code",
   "execution_count": null,
   "id": "b54a1bba-2255-46ff-8eed-0e856ba88baf",
   "metadata": {},
   "outputs": [],
   "source": [
    "help(cle.crop) #get help for a command"
   ]
  },
  {
   "cell_type": "markdown",
   "id": "4f4da7df-7ffa-4e87-8134-d3f8310c00f1",
   "metadata": {},
   "source": [
    "##### Cropping a 75x75 area at (10,10)"
   ]
  },
  {
   "cell_type": "code",
   "execution_count": null,
   "id": "771866d4-b62f-4b26-96a1-dec3dbc8c7b6",
   "metadata": {},
   "outputs": [],
   "source": [
    "width, height = 75, 75\n",
    "x, y = 10, 10\n",
    "tile = cle.crop(image, start_x=x, start_y=y, width=width, height=height)\n",
    "tile"
   ]
  },
  {
   "cell_type": "markdown",
   "id": "e3933e55-46c1-42b5-a8a6-f7d9e3cbbe1d",
   "metadata": {},
   "source": [
    "##### Pasting the cropped data into a new array"
   ]
  },
  {
   "cell_type": "code",
   "execution_count": null,
   "id": "0eaba193-4625-4546-a153-09a975a6d0e9",
   "metadata": {},
   "outputs": [],
   "source": [
    "collage = cle.create((width*2+6, height*2+6), dtype=tile.dtype)\n",
    "collage.fill(255) #fills array with a 'white' background\n",
    "collage"
   ]
  },
  {
   "cell_type": "code",
   "execution_count": null,
   "id": "6c4af37d-545f-40c3-8bc0-2cfe95987299",
   "metadata": {},
   "outputs": [],
   "source": [
    "help(cle.paste)"
   ]
  },
  {
   "cell_type": "code",
   "execution_count": null,
   "id": "af95aa1c-d5ee-4e5f-8faf-1b3a0de67e60",
   "metadata": {},
   "outputs": [],
   "source": [
    "cle.paste(tile, collage, 2, 2) \n",
    "#Repeating this function with different values pastes the data \n",
    "#into the previous result i.e., the empty collage is not remade"
   ]
  },
  {
   "cell_type": "code",
   "execution_count": null,
   "id": "7ce12af6-5dac-474b-80cb-a90ea5be54bc",
   "metadata": {},
   "outputs": [],
   "source": [
    "flipped_tile = cle.flip(tile, flip_x=True, flip_y=False)\n",
    "cle.paste(flipped_tile, collage, width+4, 2)\n",
    "collage"
   ]
  },
  {
   "cell_type": "code",
   "execution_count": null,
   "id": "843c5ede-abd2-426a-970b-0da8bb7fca8b",
   "metadata": {},
   "outputs": [],
   "source": [
    "flipped_tile = cle.flip(tile, flip_x=True, flip_y=True)\n",
    "cle.paste(flipped_tile, collage, width+4, height+4)\n",
    "collage"
   ]
  },
  {
   "cell_type": "code",
   "execution_count": null,
   "id": "7e034d72-e172-48b5-9acd-16a224f9b930",
   "metadata": {},
   "outputs": [],
   "source": [
    "flipped_tile = cle.flip(tile, flip_x=False, flip_y=True)\n",
    "cle.paste(flipped_tile, collage, 2, height+4)\n",
    "collage"
   ]
  },
  {
   "cell_type": "code",
   "execution_count": 51,
   "id": "c8ff6478-5a14-4a62-aeb3-1e2ff566c637",
   "metadata": {},
   "outputs": [],
   "source": [
    "read_array = cle.pull(collage)\n",
    "read_array = cle.pull(flipped_tile)\n",
    "read_array = cle.pull(image)\n",
    "read_array = cle.pull(tile)"
   ]
  },
  {
   "cell_type": "markdown",
   "id": "338e67ae-bc5e-422c-96ff-97bdc08fc794",
   "metadata": {},
   "source": [
    "### Math Operations"
   ]
  },
  {
   "cell_type": "code",
   "execution_count": 52,
   "id": "c1379e19-bc33-4e49-9afe-72f2668bd9d3",
   "metadata": {},
   "outputs": [
    {
     "data": {
      "text/plain": [
       "(OpenCL) NVIDIA RTX A4000 (OpenCL 3.0 CUDA)\n",
       "\tVendor:                      NVIDIA Corporation\n",
       "\tDriver Version:              572.83\n",
       "\tDevice Type:                 GPU\n",
       "\tCompute Units:               48\n",
       "\tGlobal Memory Size:          16375 MB\n",
       "\tLocal Memory Size:           0 MB\n",
       "\tMaximum Buffer Size:         4093 MB\n",
       "\tMax Clock Frequency:         1560 MHz\n",
       "\tImage Support:               Yes"
      ]
     },
     "execution_count": 52,
     "metadata": {},
     "output_type": "execute_result"
    }
   ],
   "source": [
    "import pyclesperanto as cle\n",
    "import numpy as np\n",
    "\n",
    "cle.get_device() # default device initialisation"
   ]
  },
  {
   "cell_type": "code",
   "execution_count": 53,
   "id": "8df3ddbd-7193-4de6-9a48-10417c33c7f6",
   "metadata": {},
   "outputs": [
    {
     "data": {
      "text/html": [
       "<table>\n",
       "<tr>\n",
       "<td>\n",
       "<img src=\"data:image/png;base64,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\"></img>\n",
       "</td>\n",
       "<td style=\"text-align: center; vertical-align: top;\">\n",
       "<b><a href=\"https://github.com/clEsperanto/pyclesperanto\" target=\"_blank\">cle._</a> image</b><br/>\n",
       "<table>\n",
       "<tr><td>shape</td><td>(100,&nbsp;100)</td></tr>\n",
       "<tr><td>dtype</td><td>float32</td></tr>\n",
       "<tr><td>size</td><td>39.1 kB</td></tr>\n",
       "<tr><td>min</td><td>0.0</td></tr><tr><td>max</td><td>1.0</td></tr>\n",
       "</table>\n",
       "<img src=\"data:image/png;base64,iVBORw0KGgoAAAANSUhEUgAAALQAAAB4CAYAAABb59j9AAAAOXRFWHRTb2Z0d2FyZQBNYXRwbG90bGliIHZlcnNpb24zLjkuNCwgaHR0cHM6Ly9tYXRwbG90bGliLm9yZy8ekN5oAAAACXBIWXMAAA9hAAAPYQGoP6dpAAACQ0lEQVR4nO3cwYnbQABA0bHJVS7AWJB+0lBK2Ia2n4AXFWBDIBcrh7BLQpYQ8ArD572TLMHMgD7D6OLduq7rgIj9oxcAH0nQpAiaFEGTImhSBE2KoEkRNCmCJkXQpAiaFEGT8mmrgW+321iWZUzTNHa73VbTELCu67her+N4PI79/r49drOgl2UZ8zxvNTxB5/N5nE6nu8bYLOhpmsYYvxZ5OBy2moaAy+Uy5nl+a+YemwX9esw4HA6C5r98xNHURyEpgiZlsyPHv3z++vx2/e3pyyOWQJQdmhRBkyJoUgRNiqBJETQpgiZF0KQImhRBkyJoUgRNiqBJETQpgiZF0KQImhRBkyJoUgRNiqBJETQpgiZF0KQImhRBkyJoUgRNiqBJETQpgiZF0KQImhRBkyJoUgRNiqBJETQpgiZF0KQImhRBkyJoUgRNiqBJETQpgiZF0KQImhRBkyJoUgRNiqBJETQpgiZF0KQImpRPj14AbZ+/Pv/x+9vTl03ns0OTImhSBE2KoEkRNCmCJkXQpAiaFEGTImhSBE2KoEkRNCmCJkXQpAiaFEGTImhSBE2KoEkRNCmCJkXQpAiaFEGTImhSBE2KoEnZ7M8a13UdY4xxuVz+enb78f3t+r3ndPz+rsd4/32/3ntt5h679SNGecfLy8uY53mLoYk6n8/jdDrdNcZmQd9ut7Esy5imaex2uy2mIGJd13G9XsfxeBz7/X2n4M2ChkfwUUiKoEkRNCmCJkXQpAiaFEGTImhSBE2KoEn5CeIxWMVIO2xUAAAAAElFTkSuQmCC\"></img>\n",
       "</td>\n",
       "</tr>\n",
       "</table>"
      ],
      "text/plain": [
       "array([[0., 0., 0., ..., 0., 0., 0.],\n",
       "       [0., 0., 0., ..., 0., 0., 0.],\n",
       "       [0., 0., 0., ..., 0., 0., 0.],\n",
       "       ...,\n",
       "       [0., 0., 0., ..., 0., 0., 0.],\n",
       "       [0., 0., 0., ..., 0., 0., 0.],\n",
       "       [0., 0., 0., ..., 0., 0., 0.]], dtype=float32, mtype=buffer)"
      ]
     },
     "execution_count": 53,
     "metadata": {},
     "output_type": "execute_result"
    }
   ],
   "source": [
    "arr = np.zeros((100,100))\n",
    "arr[25:75, 25:75] = 1\n",
    "gpu_arr = cle.push(arr)\n",
    "gpu_arr"
   ]
  },
  {
   "cell_type": "code",
   "execution_count": 54,
   "id": "44cad0fa-723d-4c3c-a8a5-ee1691627b23",
   "metadata": {},
   "outputs": [
    {
     "data": {
      "text/html": [
       "<table>\n",
       "<tr>\n",
       "<td>\n",
       "<img src=\"data:image/png;base64,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\"></img>\n",
       "</td>\n",
       "<td style=\"text-align: center; vertical-align: top;\">\n",
       "<b><a href=\"https://github.com/clEsperanto/pyclesperanto\" target=\"_blank\">cle._</a> image</b><br/>\n",
       "<table>\n",
       "<tr><td>shape</td><td>(100,&nbsp;100)</td></tr>\n",
       "<tr><td>dtype</td><td>uint8</td></tr>\n",
       "<tr><td>size</td><td>9.8 kB</td></tr>\n",
       "<tr><td>min</td><td>0.0</td></tr><tr><td>max</td><td>1.0</td></tr>\n",
       "</table>\n",
       "<img src=\"data:image/png;base64,iVBORw0KGgoAAAANSUhEUgAAALQAAAB4CAYAAABb59j9AAAAOXRFWHRTb2Z0d2FyZQBNYXRwbG90bGliIHZlcnNpb24zLjkuNCwgaHR0cHM6Ly9tYXRwbG90bGliLm9yZy8ekN5oAAAACXBIWXMAAA9hAAAPYQGoP6dpAAACQ0lEQVR4nO3cwYnbQABA0bHJVS7AWJB+0lBK2Ia2n4AXFWBDIBcrh7BLQpYQ8ArD572TLMHMgD7D6OLduq7rgIj9oxcAH0nQpAiaFEGTImhSBE2KoEkRNCmCJkXQpAiaFEGT8mmrgW+321iWZUzTNHa73VbTELCu67her+N4PI79/r49drOgl2UZ8zxvNTxB5/N5nE6nu8bYLOhpmsYYvxZ5OBy2moaAy+Uy5nl+a+YemwX9esw4HA6C5r98xNHURyEpgiZlsyPHv3z++vx2/e3pyyOWQJQdmhRBkyJoUgRNiqBJETQpgiZF0KQImhRBkyJoUgRNiqBJETQpgiZF0KQImhRBkyJoUgRNiqBJETQpgiZF0KQImhRBkyJoUgRNiqBJETQpgiZF0KQImhRBkyJoUgRNiqBJETQpgiZF0KQImhRBkyJoUgRNiqBJETQpgiZF0KQImhRBkyJoUgRNiqBJETQpgiZF0KQImpRPj14AbZ+/Pv/x+9vTl03ns0OTImhSBE2KoEkRNCmCJkXQpAiaFEGTImhSBE2KoEkRNCmCJkXQpAiaFEGTImhSBE2KoEkRNCmCJkXQpAiaFEGTImhSBE2KoEnZ7M8a13UdY4xxuVz+enb78f3t+r3ndPz+rsd4/32/3ntt5h679SNGecfLy8uY53mLoYk6n8/jdDrdNcZmQd9ut7Esy5imaex2uy2mIGJd13G9XsfxeBz7/X2n4M2ChkfwUUiKoEkRNCmCJkXQpAiaFEGTImhSBE2KoEn5CeIxWMVIO2xUAAAAAElFTkSuQmCC\"></img>\n",
       "</td>\n",
       "</tr>\n",
       "</table>"
      ],
      "text/plain": [
       "array([[0, 0, 0, ..., 0, 0, 0],\n",
       "       [0, 0, 0, ..., 0, 0, 0],\n",
       "       [0, 0, 0, ..., 0, 0, 0],\n",
       "       ...,\n",
       "       [0, 0, 0, ..., 0, 0, 0],\n",
       "       [0, 0, 0, ..., 0, 0, 0],\n",
       "       [0, 0, 0, ..., 0, 0, 0]], dtype=uint8, mtype=buffer)"
      ]
     },
     "execution_count": 54,
     "metadata": {},
     "output_type": "execute_result"
    }
   ],
   "source": [
    "binary_arr = (gpu_arr == 1)\n",
    "binary_arr"
   ]
  },
  {
   "cell_type": "code",
   "execution_count": 55,
   "id": "95f6965b-84fa-43b5-952d-7494a47eb249",
   "metadata": {},
   "outputs": [
    {
     "data": {
      "text/html": [
       "<table>\n",
       "<tr>\n",
       "<td>\n",
       "<img src=\"data:image/png;base64,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\"></img>\n",
       "</td>\n",
       "<td style=\"text-align: center; vertical-align: top;\">\n",
       "<b><a href=\"https://github.com/clEsperanto/pyclesperanto\" target=\"_blank\">cle._</a> image</b><br/>\n",
       "<table>\n",
       "<tr><td>shape</td><td>(100,&nbsp;100)</td></tr>\n",
       "<tr><td>dtype</td><td>uint8</td></tr>\n",
       "<tr><td>size</td><td>9.8 kB</td></tr>\n",
       "<tr><td>min</td><td>0.0</td></tr><tr><td>max</td><td>1.0</td></tr>\n",
       "</table>\n",
       "<img src=\"data:image/png;base64,iVBORw0KGgoAAAANSUhEUgAAALQAAAB4CAYAAABb59j9AAAAOXRFWHRTb2Z0d2FyZQBNYXRwbG90bGliIHZlcnNpb24zLjkuNCwgaHR0cHM6Ly9tYXRwbG90bGliLm9yZy8ekN5oAAAACXBIWXMAAA9hAAAPYQGoP6dpAAACQ0lEQVR4nO3cQWrbQABA0bHJVj6AsaD36YV6hF4o9wk46AA2FLqxuigJLc2i4AjD572VLMHMgD7DaOPduq7rgIj9oxcAn0nQpAiaFEGTImhSBE2KoEkRNCmCJkXQpAiaFEGT8rTVwLfbbSzLMqZpGrvdbqtpCFjXdVyv13E8Hsd+f98eu1nQy7KMeZ63Gp6g8/k8TqfTXWNsFvQ0TWOM34s8HA5bTUPA5XIZ8zy/N3OPzYJ+O2YcDgdB818+42jqo5AUQZOy2ZEDxhjjy7fnv36/fP+66Xx2aFIETYqgSRE0KYImRdCkCJoUQZMiaFIETYqgSRE0KYImRdCkCJoUQZMiaFIETYqgSRE0KYImRdCkCJoUQZMiaFIETYqgSRE0KYImRdCkCJoUQZMiaFIETYqgSRE0KYImRdCkCJoUQZMiaFIETYqgSRE0KYImRdCkCJoUQZMiaFIETYqgSRE0KYImRdCkCJoUQZMiaFKeHjHpl2/P79cv378+YglE2aFJETQpgiZF0KQImhRBkyJoUgRNiqBJETQpgiZF0KQImhRBkyJoUgRNiqBJETQpgiZF0KQImhRBkyJoUgRNiqBJETQpgiZF0KRs9meN67qOMca4XC7/PLv9/PF+/dFzOv5812N8/L7f7r01c4/d+hmjfOD19XXM87zF0ESdz+dxOp3uGmOzoG+321iWZUzTNHa73RZTELGu67her+N4PI79/r5T8GZBwyP4KCRF0KQImhRBkyJoUgRNiqBJETQpgiZF0KT8AuIxWMVd6vSRAAAAAElFTkSuQmCC\"></img>\n",
       "</td>\n",
       "</tr>\n",
       "</table>"
      ],
      "text/plain": [
       "array([[1, 1, 1, ..., 1, 1, 1],\n",
       "       [1, 1, 1, ..., 1, 1, 1],\n",
       "       [1, 1, 1, ..., 1, 1, 1],\n",
       "       ...,\n",
       "       [1, 1, 1, ..., 1, 1, 1],\n",
       "       [1, 1, 1, ..., 1, 1, 1],\n",
       "       [1, 1, 1, ..., 1, 1, 1]], dtype=uint8, mtype=buffer)"
      ]
     },
     "execution_count": 55,
     "metadata": {},
     "output_type": "execute_result"
    }
   ],
   "source": [
    "another_binary_image = (binary_arr == 0)\n",
    "another_binary_image"
   ]
  },
  {
   "cell_type": "markdown",
   "id": "bdd0a3d7-f871-42fc-a6c9-285b7a43058f",
   "metadata": {},
   "source": [
    "#### Other operators:\n",
    "array > x (cle.greater_constant)\n",
    "array >= x (cle.greater_or_equal_constant)\n",
    "array < x (cle.smaller_constant)\n",
    "array <= x (cle.smaller_or_equal_constant)"
   ]
  },
  {
   "cell_type": "code",
   "execution_count": null,
   "id": "95309a9d-b46e-436e-a5db-4d9c0a8aca4e",
   "metadata": {},
   "outputs": [],
   "source": []
  }
 ],
 "metadata": {
  "kernelspec": {
   "display_name": "cle",
   "language": "python",
   "name": "cle"
  },
  "language_info": {
   "codemirror_mode": {
    "name": "ipython",
    "version": 3
   },
   "file_extension": ".py",
   "mimetype": "text/x-python",
   "name": "python",
   "nbconvert_exporter": "python",
   "pygments_lexer": "ipython3",
   "version": "3.9.21"
  }
 },
 "nbformat": 4,
 "nbformat_minor": 5
}
