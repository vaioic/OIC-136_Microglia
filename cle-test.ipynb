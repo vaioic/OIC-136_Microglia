{
 "cells": [
  {
   "cell_type": "code",
   "execution_count": null,
   "id": "c09997cc-c11d-402a-8e90-6c72ab40158f",
   "metadata": {},
   "outputs": [],
   "source": [
    "import pyclesperanto as cle\n",
    "from skimage.io import imread, imsave\n",
    "import numpy as np\n",
    "import matplotlib"
   ]
  },
  {
   "cell_type": "markdown",
   "id": "32e1d18d-cdb4-44cb-b788-f8ed9005984d",
   "metadata": {},
   "source": [
    "### What devices are available and selecting devices"
   ]
  },
  {
   "cell_type": "code",
   "execution_count": null,
   "id": "2ea679c0-3903-4eb4-b0e3-798566db2071",
   "metadata": {},
   "outputs": [],
   "source": [
    "cle.list_available_devices()"
   ]
  },
  {
   "cell_type": "code",
   "execution_count": null,
   "id": "0b9298fc-3a0f-4fef-9bcc-3a0a9a5dce0e",
   "metadata": {},
   "outputs": [],
   "source": [
    "cle.info() #global information about the GPUs available"
   ]
  },
  {
   "cell_type": "code",
   "execution_count": null,
   "id": "ceb9c801-8029-4efb-ac45-440d725b4f5f",
   "metadata": {},
   "outputs": [],
   "source": [
    "# initialize GPU; use everytime\n",
    "device = cle.select_device(\"NVIDIA\") #If multiple types of GPUs were available, can select a specific one with a string (will match)\n",
    "#cle.select_device(1, device_type=\"gpu\") #Alt way of selecting the GPU\n",
    "#print(\"Used GPU: \", device)"
   ]
  },
  {
   "cell_type": "markdown",
   "id": "57497ae0-da54-4f1d-a060-92af37a10918",
   "metadata": {},
   "source": [
    "### Sending data to the GPU"
   ]
  },
  {
   "cell_type": "markdown",
   "id": "3d3d0b79-9459-42e5-8d52-ee76b97a2150",
   "metadata": {},
   "source": [
    "#### Can create space to use on the GPU"
   ]
  },
  {
   "cell_type": "code",
   "execution_count": null,
   "id": "c142a22c-532f-4cbc-b696-fdefb4bf1b84",
   "metadata": {},
   "outputs": [],
   "source": [
    "empty_array = cle.create((128,128), dtype=np.float32) #dtype can be specified if wanted (64-bit not supported)\n",
    "empty_array #array of the specified shape and dtype but filled with 0"
   ]
  },
  {
   "cell_type": "markdown",
   "id": "7072e3c5-adc0-48f4-9b74-7d7949dffb30",
   "metadata": {},
   "source": [
    "#### Sending existing data to the GPU (Push)"
   ]
  },
  {
   "cell_type": "code",
   "execution_count": null,
   "id": "7d1e4139-491c-40a0-84ee-bc70a12636c1",
   "metadata": {},
   "outputs": [],
   "source": [
    "#Array of random ints\n",
    "array = np.random.random((128,128)).astype(np.float32)\n",
    "print(type(array), array.shape, array.dtype)"
   ]
  },
  {
   "cell_type": "code",
   "execution_count": null,
   "id": "1c38dc07-5958-4f91-93e0-c6637738ea13",
   "metadata": {},
   "outputs": [],
   "source": [
    "random_array = cle.push(array)\n",
    "random_array #calling the array makes a super awesome visual automatically!"
   ]
  },
  {
   "cell_type": "markdown",
   "id": "66109c66-ad98-4af5-9d6f-5b80dce4fb6b",
   "metadata": {},
   "source": [
    "#### Pull data off GPU"
   ]
  },
  {
   "cell_type": "code",
   "execution_count": null,
   "id": "90128d71-e8eb-4e49-b367-d79016013ea9",
   "metadata": {},
   "outputs": [],
   "source": [
    "read_array = cle.pull(random_array)\n",
    "print(type(read_array), read_array.shape, read_array.dtype)"
   ]
  },
  {
   "cell_type": "markdown",
   "id": "1058c78f-cd66-4bbe-9096-e937c0ba51ac",
   "metadata": {},
   "source": [
    "# Processing Data on GPU"
   ]
  },
  {
   "cell_type": "markdown",
   "id": "a8a431eb-aa7a-48b6-99e1-9b1f6ac17285",
   "metadata": {},
   "source": [
    "#### Simple Processing (Crops, flips, pasting)"
   ]
  },
  {
   "cell_type": "code",
   "execution_count": null,
   "id": "38b07a9a-b234-47a8-b573-b3d304fbfef6",
   "metadata": {},
   "outputs": [],
   "source": [
    "image = cle.push(imread('https://samples.fiji.sc/blobs.png').squeeze())\n",
    "image"
   ]
  },
  {
   "cell_type": "code",
   "execution_count": null,
   "id": "b54a1bba-2255-46ff-8eed-0e856ba88baf",
   "metadata": {},
   "outputs": [],
   "source": [
    "help(cle.crop) #get help for a command"
   ]
  },
  {
   "cell_type": "markdown",
   "id": "4f4da7df-7ffa-4e87-8134-d3f8310c00f1",
   "metadata": {},
   "source": [
    "##### Cropping a 75x75 area at (10,10)"
   ]
  },
  {
   "cell_type": "code",
   "execution_count": null,
   "id": "771866d4-b62f-4b26-96a1-dec3dbc8c7b6",
   "metadata": {},
   "outputs": [],
   "source": [
    "width, height = 75, 75\n",
    "x, y = 10, 10\n",
    "tile = cle.crop(image, start_x=x, start_y=y, width=width, height=height)\n",
    "tile"
   ]
  },
  {
   "cell_type": "markdown",
   "id": "e3933e55-46c1-42b5-a8a6-f7d9e3cbbe1d",
   "metadata": {},
   "source": [
    "##### Pasting the cropped data into a new array"
   ]
  },
  {
   "cell_type": "code",
   "execution_count": null,
   "id": "0eaba193-4625-4546-a153-09a975a6d0e9",
   "metadata": {},
   "outputs": [],
   "source": [
    "collage = cle.create((width*2+6, height*2+6), dtype=tile.dtype)\n",
    "collage.fill(255) #fills array with a 'white' background\n",
    "collage"
   ]
  },
  {
   "cell_type": "code",
   "execution_count": null,
   "id": "6c4af37d-545f-40c3-8bc0-2cfe95987299",
   "metadata": {},
   "outputs": [],
   "source": [
    "help(cle.paste)"
   ]
  },
  {
   "cell_type": "code",
   "execution_count": null,
   "id": "af95aa1c-d5ee-4e5f-8faf-1b3a0de67e60",
   "metadata": {},
   "outputs": [],
   "source": [
    "cle.paste(tile, collage, 2, 2) \n",
    "#Repeating this function with different values pastes the data \n",
    "#into the previous result i.e., the empty collage is not remade"
   ]
  },
  {
   "cell_type": "code",
   "execution_count": null,
   "id": "7ce12af6-5dac-474b-80cb-a90ea5be54bc",
   "metadata": {},
   "outputs": [],
   "source": [
    "flipped_tile = cle.flip(tile, flip_x=True, flip_y=False)\n",
    "cle.paste(flipped_tile, collage, width+4, 2)\n",
    "collage"
   ]
  },
  {
   "cell_type": "code",
   "execution_count": null,
   "id": "843c5ede-abd2-426a-970b-0da8bb7fca8b",
   "metadata": {},
   "outputs": [],
   "source": [
    "flipped_tile = cle.flip(tile, flip_x=True, flip_y=True)\n",
    "cle.paste(flipped_tile, collage, width+4, height+4)\n",
    "collage"
   ]
  },
  {
   "cell_type": "code",
   "execution_count": null,
   "id": "7e034d72-e172-48b5-9acd-16a224f9b930",
   "metadata": {},
   "outputs": [],
   "source": [
    "flipped_tile = cle.flip(tile, flip_x=False, flip_y=True)\n",
    "cle.paste(flipped_tile, collage, 2, height+4)\n",
    "collage"
   ]
  },
  {
   "cell_type": "code",
   "execution_count": 51,
   "id": "c8ff6478-5a14-4a62-aeb3-1e2ff566c637",
   "metadata": {},
   "outputs": [],
   "source": [
    "read_array = cle.pull(collage)\n",
    "read_array = cle.pull(flipped_tile)\n",
    "read_array = cle.pull(image)\n",
    "read_array = cle.pull(tile)"
   ]
  },
  {
   "cell_type": "markdown",
   "id": "338e67ae-bc5e-422c-96ff-97bdc08fc794",
   "metadata": {},
   "source": [
    "### Math Operations"
   ]
  },
  {
   "cell_type": "code",
   "execution_count": 52,
   "id": "c1379e19-bc33-4e49-9afe-72f2668bd9d3",
   "metadata": {},
   "outputs": [
    {
     "data": {
      "text/plain": [
       "(OpenCL) NVIDIA RTX A4000 (OpenCL 3.0 CUDA)\n",
       "\tVendor:                      NVIDIA Corporation\n",
       "\tDriver Version:              572.83\n",
       "\tDevice Type:                 GPU\n",
       "\tCompute Units:               48\n",
       "\tGlobal Memory Size:          16375 MB\n",
       "\tLocal Memory Size:           0 MB\n",
       "\tMaximum Buffer Size:         4093 MB\n",
       "\tMax Clock Frequency:         1560 MHz\n",
       "\tImage Support:               Yes"
      ]
     },
     "execution_count": 52,
     "metadata": {},
     "output_type": "execute_result"
    }
   ],
   "source": [
    "import pyclesperanto as cle\n",
    "import numpy as np\n",
    "\n",
    "cle.get_device() # default device initialisation"
   ]
  },
  {
   "cell_type": "code",
   "execution_count": 53,
   "id": "8df3ddbd-7193-4de6-9a48-10417c33c7f6",
   "metadata": {},
   "outputs": [
    {
     "data": {
      "text/html": [
       "<table>\n",
       "<tr>\n",
       "<td>\n",
       "<img src=\"data:image/png;base64,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\"></img>\n",
       "</td>\n",
       "<td style=\"text-align: center; vertical-align: top;\">\n",
       "<b><a href=\"https://github.com/clEsperanto/pyclesperanto\" target=\"_blank\">cle._</a> image</b><br/>\n",
       "<table>\n",
       "<tr><td>shape</td><td>(100,&nbsp;100)</td></tr>\n",
       "<tr><td>dtype</td><td>float32</td></tr>\n",
       "<tr><td>size</td><td>39.1 kB</td></tr>\n",
       "<tr><td>min</td><td>0.0</td></tr><tr><td>max</td><td>1.0</td></tr>\n",
       "</table>\n",
       "<img src=\"data:image/png;base64,iVBORw0KGgoAAAANSUhEUgAAALQAAAB4CAYAAABb59j9AAAAOXRFWHRTb2Z0d2FyZQBNYXRwbG90bGliIHZlcnNpb24zLjkuNCwgaHR0cHM6Ly9tYXRwbG90bGliLm9yZy8ekN5oAAAACXBIWXMAAA9hAAAPYQGoP6dpAAACQ0lEQVR4nO3cwYnbQABA0bHJVS7AWJB+0lBK2Ia2n4AXFWBDIBcrh7BLQpYQ8ArD572TLMHMgD7D6OLduq7rgIj9oxcAH0nQpAiaFEGTImhSBE2KoEkRNCmCJkXQpAiaFEGT8mmrgW+321iWZUzTNHa73VbTELCu67her+N4PI79/r49drOgl2UZ8zxvNTxB5/N5nE6nu8bYLOhpmsYYvxZ5OBy2moaAy+Uy5nl+a+YemwX9esw4HA6C5r98xNHURyEpgiZlsyPHv3z++vx2/e3pyyOWQJQdmhRBkyJoUgRNiqBJETQpgiZF0KQImhRBkyJoUgRNiqBJETQpgiZF0KQImhRBkyJoUgRNiqBJETQpgiZF0KQImhRBkyJoUgRNiqBJETQpgiZF0KQImhRBkyJoUgRNiqBJETQpgiZF0KQImhRBkyJoUgRNiqBJETQpgiZF0KQImhRBkyJoUgRNiqBJETQpgiZF0KQImpRPj14AbZ+/Pv/x+9vTl03ns0OTImhSBE2KoEkRNCmCJkXQpAiaFEGTImhSBE2KoEkRNCmCJkXQpAiaFEGTImhSBE2KoEkRNCmCJkXQpAiaFEGTImhSBE2KoEnZ7M8a13UdY4xxuVz+enb78f3t+r3ndPz+rsd4/32/3ntt5h679SNGecfLy8uY53mLoYk6n8/jdDrdNcZmQd9ut7Esy5imaex2uy2mIGJd13G9XsfxeBz7/X2n4M2ChkfwUUiKoEkRNCmCJkXQpAiaFEGTImhSBE2KoEn5CeIxWMVIO2xUAAAAAElFTkSuQmCC\"></img>\n",
       "</td>\n",
       "</tr>\n",
       "</table>"
      ],
      "text/plain": [
       "array([[0., 0., 0., ..., 0., 0., 0.],\n",
       "       [0., 0., 0., ..., 0., 0., 0.],\n",
       "       [0., 0., 0., ..., 0., 0., 0.],\n",
       "       ...,\n",
       "       [0., 0., 0., ..., 0., 0., 0.],\n",
       "       [0., 0., 0., ..., 0., 0., 0.],\n",
       "       [0., 0., 0., ..., 0., 0., 0.]], dtype=float32, mtype=buffer)"
      ]
     },
     "execution_count": 53,
     "metadata": {},
     "output_type": "execute_result"
    }
   ],
   "source": [
    "arr = np.zeros((100,100))\n",
    "arr[25:75, 25:75] = 1\n",
    "gpu_arr = cle.push(arr)\n",
    "gpu_arr"
   ]
  },
  {
   "cell_type": "markdown",
   "id": "a1460b3b-ae4d-4cf5-9003-928da4cb11e6",
   "metadata": {},
   "source": [
    "#### Logical functions:\n",
    "- array > x (cle.greater_constant)\n",
    "- array >= x (cle.greater_or_equal_constant)\n",
    "- array < x (cle.smaller_constant)\n",
    "- array <= x (cle.smaller_or_equal_constant)"
   ]
  },
  {
   "cell_type": "code",
   "execution_count": 54,
   "id": "44cad0fa-723d-4c3c-a8a5-ee1691627b23",
   "metadata": {},
   "outputs": [
    {
     "data": {
      "text/html": [
       "<table>\n",
       "<tr>\n",
       "<td>\n",
       "<img src=\"data:image/png;base64,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\"></img>\n",
       "</td>\n",
       "<td style=\"text-align: center; vertical-align: top;\">\n",
       "<b><a href=\"https://github.com/clEsperanto/pyclesperanto\" target=\"_blank\">cle._</a> image</b><br/>\n",
       "<table>\n",
       "<tr><td>shape</td><td>(100,&nbsp;100)</td></tr>\n",
       "<tr><td>dtype</td><td>uint8</td></tr>\n",
       "<tr><td>size</td><td>9.8 kB</td></tr>\n",
       "<tr><td>min</td><td>0.0</td></tr><tr><td>max</td><td>1.0</td></tr>\n",
       "</table>\n",
       "<img src=\"data:image/png;base64,iVBORw0KGgoAAAANSUhEUgAAALQAAAB4CAYAAABb59j9AAAAOXRFWHRTb2Z0d2FyZQBNYXRwbG90bGliIHZlcnNpb24zLjkuNCwgaHR0cHM6Ly9tYXRwbG90bGliLm9yZy8ekN5oAAAACXBIWXMAAA9hAAAPYQGoP6dpAAACQ0lEQVR4nO3cwYnbQABA0bHJVS7AWJB+0lBK2Ia2n4AXFWBDIBcrh7BLQpYQ8ArD572TLMHMgD7D6OLduq7rgIj9oxcAH0nQpAiaFEGTImhSBE2KoEkRNCmCJkXQpAiaFEGT8mmrgW+321iWZUzTNHa73VbTELCu67her+N4PI79/r49drOgl2UZ8zxvNTxB5/N5nE6nu8bYLOhpmsYYvxZ5OBy2moaAy+Uy5nl+a+YemwX9esw4HA6C5r98xNHURyEpgiZlsyPHv3z++vx2/e3pyyOWQJQdmhRBkyJoUgRNiqBJETQpgiZF0KQImhRBkyJoUgRNiqBJETQpgiZF0KQImhRBkyJoUgRNiqBJETQpgiZF0KQImhRBkyJoUgRNiqBJETQpgiZF0KQImhRBkyJoUgRNiqBJETQpgiZF0KQImhRBkyJoUgRNiqBJETQpgiZF0KQImhRBkyJoUgRNiqBJETQpgiZF0KQImpRPj14AbZ+/Pv/x+9vTl03ns0OTImhSBE2KoEkRNCmCJkXQpAiaFEGTImhSBE2KoEkRNCmCJkXQpAiaFEGTImhSBE2KoEkRNCmCJkXQpAiaFEGTImhSBE2KoEnZ7M8a13UdY4xxuVz+enb78f3t+r3ndPz+rsd4/32/3ntt5h679SNGecfLy8uY53mLoYk6n8/jdDrdNcZmQd9ut7Esy5imaex2uy2mIGJd13G9XsfxeBz7/X2n4M2ChkfwUUiKoEkRNCmCJkXQpAiaFEGTImhSBE2KoEn5CeIxWMVIO2xUAAAAAElFTkSuQmCC\"></img>\n",
       "</td>\n",
       "</tr>\n",
       "</table>"
      ],
      "text/plain": [
       "array([[0, 0, 0, ..., 0, 0, 0],\n",
       "       [0, 0, 0, ..., 0, 0, 0],\n",
       "       [0, 0, 0, ..., 0, 0, 0],\n",
       "       ...,\n",
       "       [0, 0, 0, ..., 0, 0, 0],\n",
       "       [0, 0, 0, ..., 0, 0, 0],\n",
       "       [0, 0, 0, ..., 0, 0, 0]], dtype=uint8, mtype=buffer)"
      ]
     },
     "execution_count": 54,
     "metadata": {},
     "output_type": "execute_result"
    }
   ],
   "source": [
    "binary_arr = (gpu_arr == 1)\n",
    "binary_arr"
   ]
  },
  {
   "cell_type": "code",
   "execution_count": 55,
   "id": "95f6965b-84fa-43b5-952d-7494a47eb249",
   "metadata": {},
   "outputs": [
    {
     "data": {
      "text/html": [
       "<table>\n",
       "<tr>\n",
       "<td>\n",
       "<img src=\"data:image/png;base64,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\"></img>\n",
       "</td>\n",
       "<td style=\"text-align: center; vertical-align: top;\">\n",
       "<b><a href=\"https://github.com/clEsperanto/pyclesperanto\" target=\"_blank\">cle._</a> image</b><br/>\n",
       "<table>\n",
       "<tr><td>shape</td><td>(100,&nbsp;100)</td></tr>\n",
       "<tr><td>dtype</td><td>uint8</td></tr>\n",
       "<tr><td>size</td><td>9.8 kB</td></tr>\n",
       "<tr><td>min</td><td>0.0</td></tr><tr><td>max</td><td>1.0</td></tr>\n",
       "</table>\n",
       "<img src=\"data:image/png;base64,iVBORw0KGgoAAAANSUhEUgAAALQAAAB4CAYAAABb59j9AAAAOXRFWHRTb2Z0d2FyZQBNYXRwbG90bGliIHZlcnNpb24zLjkuNCwgaHR0cHM6Ly9tYXRwbG90bGliLm9yZy8ekN5oAAAACXBIWXMAAA9hAAAPYQGoP6dpAAACQ0lEQVR4nO3cQWrbQABA0bHJVj6AsaD36YV6hF4o9wk46AA2FLqxuigJLc2i4AjD572VLMHMgD7DaOPduq7rgIj9oxcAn0nQpAiaFEGTImhSBE2KoEkRNCmCJkXQpAiaFEGT8rTVwLfbbSzLMqZpGrvdbqtpCFjXdVyv13E8Hsd+f98eu1nQy7KMeZ63Gp6g8/k8TqfTXWNsFvQ0TWOM34s8HA5bTUPA5XIZ8zy/N3OPzYJ+O2YcDgdB818+42jqo5AUQZOy2ZEDxhjjy7fnv36/fP+66Xx2aFIETYqgSRE0KYImRdCkCJoUQZMiaFIETYqgSRE0KYImRdCkCJoUQZMiaFIETYqgSRE0KYImRdCkCJoUQZMiaFIETYqgSRE0KYImRdCkCJoUQZMiaFIETYqgSRE0KYImRdCkCJoUQZMiaFIETYqgSRE0KYImRdCkCJoUQZMiaFIETYqgSRE0KYImRdCkCJoUQZMiaFKeHjHpl2/P79cv378+YglE2aFJETQpgiZF0KQImhRBkyJoUgRNiqBJETQpgiZF0KQImhRBkyJoUgRNiqBJETQpgiZF0KQImhRBkyJoUgRNiqBJETQpgiZF0KRs9meN67qOMca4XC7/PLv9/PF+/dFzOv5812N8/L7f7r01c4/d+hmjfOD19XXM87zF0ESdz+dxOp3uGmOzoG+321iWZUzTNHa73RZTELGu67her+N4PI79/r5T8GZBwyP4KCRF0KQImhRBkyJoUgRNiqBJETQpgiZF0KT8AuIxWMVd6vSRAAAAAElFTkSuQmCC\"></img>\n",
       "</td>\n",
       "</tr>\n",
       "</table>"
      ],
      "text/plain": [
       "array([[1, 1, 1, ..., 1, 1, 1],\n",
       "       [1, 1, 1, ..., 1, 1, 1],\n",
       "       [1, 1, 1, ..., 1, 1, 1],\n",
       "       ...,\n",
       "       [1, 1, 1, ..., 1, 1, 1],\n",
       "       [1, 1, 1, ..., 1, 1, 1],\n",
       "       [1, 1, 1, ..., 1, 1, 1]], dtype=uint8, mtype=buffer)"
      ]
     },
     "execution_count": 55,
     "metadata": {},
     "output_type": "execute_result"
    }
   ],
   "source": [
    "another_binary_image = (binary_arr == 0)\n",
    "another_binary_image"
   ]
  },
  {
   "cell_type": "markdown",
   "id": "a77ab99a-513f-42ab-a2f4-8fb738f36ce6",
   "metadata": {},
   "source": [
    "#### Scalar functions:\n",
    "- array * x (cle.multiply_image_and_scalar)\n",
    "- array / x (cle.divide_scalar_by_image)\n",
    "- array + x (cle.add_image_and_scalar)\n",
    "- array - x (cle.subtract_image_from_scalar)"
   ]
  },
  {
   "cell_type": "code",
   "execution_count": 58,
   "id": "95309a9d-b46e-436e-a5db-4d9c0a8aca4e",
   "metadata": {},
   "outputs": [
    {
     "data": {
      "text/html": [
       "<table>\n",
       "<tr>\n",
       "<td>\n",
       "<img src=\"data:image/png;base64,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\"></img>\n",
       "</td>\n",
       "<td style=\"text-align: center; vertical-align: top;\">\n",
       "<b><a href=\"https://github.com/clEsperanto/pyclesperanto\" target=\"_blank\">cle._</a> image</b><br/>\n",
       "<table>\n",
       "<tr><td>shape</td><td>(100,&nbsp;100)</td></tr>\n",
       "<tr><td>dtype</td><td>uint8</td></tr>\n",
       "<tr><td>size</td><td>9.8 kB</td></tr>\n",
       "<tr><td>min</td><td>2.0</td></tr><tr><td>max</td><td>12.0</td></tr>\n",
       "</table>\n",
       "<img src=\"data:image/png;base64,iVBORw0KGgoAAAANSUhEUgAAALQAAAB4CAYAAABb59j9AAAAOXRFWHRTb2Z0d2FyZQBNYXRwbG90bGliIHZlcnNpb24zLjkuNCwgaHR0cHM6Ly9tYXRwbG90bGliLm9yZy8ekN5oAAAACXBIWXMAAA9hAAAPYQGoP6dpAAACQ0lEQVR4nO3cQWrbQABA0bHJVj6AsaD36YV6hF4o9wk46AA2FLqxuigJLc2i4AjD572VLMHMgD7DaOPduq7rgIj9oxcAn0nQpAiaFEGTImhSBE2KoEkRNCmCJkXQpAiaFEGT8rTVwLfbbSzLMqZpGrvdbqtpCFjXdVyv13E8Hsd+f98eu1nQy7KMeZ63Gp6g8/k8TqfTXWNsFvQ0TWOM34s8HA5bTUPA5XIZ8zy/N3OPzYJ+O2YcDgdB818+42jqo5AUQZOy2ZEDxhjjy7fnv36/fP+66Xx2aFIETYqgSRE0KYImRdCkCJoUQZMiaFIETYqgSRE0KYImRdCkCJoUQZMiaFIETYqgSRE0KYImRdCkCJoUQZMiaFIETYqgSRE0KYImRdCkCJoUQZMiaFIETYqgSRE0KYImRdCkCJoUQZMiaFIETYqgSRE0KYImRdCkCJoUQZMiaFIETYqgSRE0KYImRdCkCJoUQZMiaFKeHjHpl2/P79cv378+YglE2aFJETQpgiZF0KQImhRBkyJoUgRNiqBJETQpgiZF0KQImhRBkyJoUgRNiqBJETQpgiZF0KQImhRBkyJoUgRNiqBJETQpgiZF0KRs9meN67qOMca4XC7/PLv9/PF+/dFzOv5812N8/L7f7r01c4/d+hmjfOD19XXM87zF0ESdz+dxOp3uGmOzoG+321iWZUzTNHa73RZTELGu67her+N4PI79/r5T8GZBwyP4KCRF0KQImhRBkyJoUgRNiqBJETQpgiZF0KT8AuIxWMVd6vSRAAAAAElFTkSuQmCC\"></img>\n",
       "</td>\n",
       "</tr>\n",
       "</table>"
      ],
      "text/plain": [
       "array([[12, 12, 12, ..., 12, 12, 12],\n",
       "       [12, 12, 12, ..., 12, 12, 12],\n",
       "       [12, 12, 12, ..., 12, 12, 12],\n",
       "       ...,\n",
       "       [12, 12, 12, ..., 12, 12, 12],\n",
       "       [12, 12, 12, ..., 12, 12, 12],\n",
       "       [12, 12, 12, ..., 12, 12, 12]], dtype=uint8, mtype=buffer)"
      ]
     },
     "execution_count": 58,
     "metadata": {},
     "output_type": "execute_result"
    }
   ],
   "source": [
    "grayscal_image = (another_binary_image*50+10)/5\n",
    "grayscal_image"
   ]
  },
  {
   "cell_type": "markdown",
   "id": "5b567e4e-0b89-4efa-89cf-51940298ac71",
   "metadata": {},
   "source": [
    "#### Operations with Arrays\n",
    "- arr * array (cle.multiply_images)\n",
    "- arr - array (cle.subtract_images)\n",
    "- arr / array (cle.divide_images)\n",
    "- arr + array (cle.add_images)\n",
    "- arr > array (cle.greater)\n",
    "- arr >= array (cle.greater_or_equal)\n",
    "- arr < array (cle.smaller)\n",
    "- arr <= array (cle.smaller_or_equal)\n",
    "- arr == array (cle.equal)\n",
    "\n",
    "Note on optimization: For better memory management and speed optimization, it is recommended to rely on function (e.g. cle.multiply_images, etc.) instead of the operators if resources are limtied."
   ]
  },
  {
   "cell_type": "code",
   "execution_count": 59,
   "id": "26c3ed49-40d5-438e-befe-cb8617157456",
   "metadata": {},
   "outputs": [
    {
     "data": {
      "text/html": [
       "<table>\n",
       "<tr>\n",
       "<td>\n",
       "<img src=\"data:image/png;base64,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\"></img>\n",
       "</td>\n",
       "<td style=\"text-align: center; vertical-align: top;\">\n",
       "<b><a href=\"https://github.com/clEsperanto/pyclesperanto\" target=\"_blank\">cle._</a> image</b><br/>\n",
       "<table>\n",
       "<tr><td>shape</td><td>(100,&nbsp;100)</td></tr>\n",
       "<tr><td>dtype</td><td>uint8</td></tr>\n",
       "<tr><td>size</td><td>9.8 kB</td></tr>\n",
       "<tr><td>min</td><td>0.0</td></tr><tr><td>max</td><td>2.0</td></tr>\n",
       "</table>\n",
       "<img src=\"data:image/png;base64,iVBORw0KGgoAAAANSUhEUgAAALQAAAB4CAYAAABb59j9AAAAOXRFWHRTb2Z0d2FyZQBNYXRwbG90bGliIHZlcnNpb24zLjkuNCwgaHR0cHM6Ly9tYXRwbG90bGliLm9yZy8ekN5oAAAACXBIWXMAAA9hAAAPYQGoP6dpAAACQ0lEQVR4nO3cwYnbQABA0bHJVS7AWJB+0lBK2Ia2n4AXFWBDIBcrh7BLQpYQ8ArD572TLMHMgD7D6OLduq7rgIj9oxcAH0nQpAiaFEGTImhSBE2KoEkRNCmCJkXQpAiaFEGT8mmrgW+321iWZUzTNHa73VbTELCu67her+N4PI79/r49drOgl2UZ8zxvNTxB5/N5nE6nu8bYLOhpmsYYvxZ5OBy2moaAy+Uy5nl+a+YemwX9esw4HA6C5r98xNHURyEpgiZlsyPHv3z++vx2/e3pyyOWQJQdmhRBkyJoUgRNiqBJETQpgiZF0KQImhRBkyJoUgRNiqBJETQpgiZF0KQImhRBkyJoUgRNiqBJETQpgiZF0KQImhRBkyJoUgRNiqBJETQpgiZF0KQImhRBkyJoUgRNiqBJETQpgiZF0KQImhRBkyJoUgRNiqBJETQpgiZF0KQImhRBkyJoUgRNiqBJETQpgiZF0KQImpRPj14AbZ+/Pv/x+9vTl03ns0OTImhSBE2KoEkRNCmCJkXQpAiaFEGTImhSBE2KoEkRNCmCJkXQpAiaFEGTImhSBE2KoEkRNCmCJkXQpAiaFEGTImhSBE2KoEnZ7M8a13UdY4xxuVz+enb78f3t+r3ndPz+rsd4/32/3ntt5h679SNGecfLy8uY53mLoYk6n8/jdDrdNcZmQd9ut7Esy5imaex2uy2mIGJd13G9XsfxeBz7/X2n4M2ChkfwUUiKoEkRNCmCJkXQpAiaFEGTImhSBE2KoEn5CeIxWMVIO2xUAAAAAElFTkSuQmCC\"></img>\n",
       "</td>\n",
       "</tr>\n",
       "</table>"
      ],
      "text/plain": [
       "array([[0, 0, 0, ..., 0, 0, 0],\n",
       "       [0, 0, 0, ..., 0, 0, 0],\n",
       "       [0, 0, 0, ..., 0, 0, 0],\n",
       "       ...,\n",
       "       [0, 0, 0, ..., 0, 0, 0],\n",
       "       [0, 0, 0, ..., 0, 0, 0],\n",
       "       [0, 0, 0, ..., 0, 0, 0]], dtype=uint8, mtype=buffer)"
      ]
     },
     "execution_count": 59,
     "metadata": {},
     "output_type": "execute_result"
    }
   ],
   "source": [
    "multiplied_array = grayscal_image * binary_arr\n",
    "multiplied_array"
   ]
  },
  {
   "cell_type": "code",
   "execution_count": 60,
   "id": "4cb1dc39-6ae0-4468-ac98-460740022fc8",
   "metadata": {},
   "outputs": [
    {
     "data": {
      "text/html": [
       "<table>\n",
       "<tr>\n",
       "<td>\n",
       "<img src=\"data:image/png;base64,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\"></img>\n",
       "</td>\n",
       "<td style=\"text-align: center; vertical-align: top;\">\n",
       "<b><a href=\"https://github.com/clEsperanto/pyclesperanto\" target=\"_blank\">cle._</a> image</b><br/>\n",
       "<table>\n",
       "<tr><td>shape</td><td>(100,&nbsp;100)</td></tr>\n",
       "<tr><td>dtype</td><td>float32</td></tr>\n",
       "<tr><td>size</td><td>39.1 kB</td></tr>\n",
       "<tr><td>min</td><td>1.0</td></tr><tr><td>max</td><td>12.0</td></tr>\n",
       "</table>\n",
       "<img src=\"data:image/png;base64,iVBORw0KGgoAAAANSUhEUgAAALQAAAB4CAYAAABb59j9AAAAOXRFWHRTb2Z0d2FyZQBNYXRwbG90bGliIHZlcnNpb24zLjkuNCwgaHR0cHM6Ly9tYXRwbG90bGliLm9yZy8ekN5oAAAACXBIWXMAAA9hAAAPYQGoP6dpAAACQ0lEQVR4nO3cQWrbQABA0bHJVj6AsaD36YV6hF4o9wk46AA2FLqxuigJLc2i4AjD572VLMHMgD7DaOPduq7rgIj9oxcAn0nQpAiaFEGTImhSBE2KoEkRNCmCJkXQpAiaFEGT8rTVwLfbbSzLMqZpGrvdbqtpCFjXdVyv13E8Hsd+f98eu1nQy7KMeZ63Gp6g8/k8TqfTXWNsFvQ0TWOM34s8HA5bTUPA5XIZ8zy/N3OPzYJ+O2YcDgdB818+42jqo5AUQZOy2ZEDxhjjy7fnv36/fP+66Xx2aFIETYqgSRE0KYImRdCkCJoUQZMiaFIETYqgSRE0KYImRdCkCJoUQZMiaFIETYqgSRE0KYImRdCkCJoUQZMiaFIETYqgSRE0KYImRdCkCJoUQZMiaFIETYqgSRE0KYImRdCkCJoUQZMiaFIETYqgSRE0KYImRdCkCJoUQZMiaFIETYqgSRE0KYImRdCkCJoUQZMiaFKeHjHpl2/P79cv378+YglE2aFJETQpgiZF0KQImhRBkyJoUgRNiqBJETQpgiZF0KQImhRBkyJoUgRNiqBJETQpgiZF0KQImhRBkyJoUgRNiqBJETQpgiZF0KRs9meN67qOMca4XC7/PLv9/PF+/dFzOv5812N8/L7f7r01c4/d+hmjfOD19XXM87zF0ESdz+dxOp3uGmOzoG+321iWZUzTNHa73RZTELGu67her+N4PI79/r5T8GZBwyP4KCRF0KQImhRBkyJoUgRNiqBJETQpgiZF0KT8AuIxWMVd6vSRAAAAAElFTkSuQmCC\"></img>\n",
       "</td>\n",
       "</tr>\n",
       "</table>"
      ],
      "text/plain": [
       "array([[12., 12., 12., ..., 12., 12., 12.],\n",
       "       [12., 12., 12., ..., 12., 12., 12.],\n",
       "       [12., 12., 12., ..., 12., 12., 12.],\n",
       "       ...,\n",
       "       [12., 12., 12., ..., 12., 12., 12.],\n",
       "       [12., 12., 12., ..., 12., 12., 12.],\n",
       "       [12., 12., 12., ..., 12., 12., 12.]], dtype=float32, mtype=buffer)"
      ]
     },
     "execution_count": 60,
     "metadata": {},
     "output_type": "execute_result"
    }
   ],
   "source": [
    "subtracted_array = grayscal_image - binary_arr\n",
    "subtracted_array"
   ]
  },
  {
   "cell_type": "markdown",
   "id": "66f8d888-1ca9-4623-9c6c-fa3f2cd8e0cd",
   "metadata": {},
   "source": [
    "## Matrix Multiplication"
   ]
  },
  {
   "cell_type": "code",
   "execution_count": 62,
   "id": "19fd907a-3424-4905-9301-16b324edfeba",
   "metadata": {},
   "outputs": [
    {
     "data": {
      "text/plain": [
       "(OpenCL) NVIDIA RTX A4000 (OpenCL 3.0 CUDA)\n",
       "\tVendor:                      NVIDIA Corporation\n",
       "\tDriver Version:              572.83\n",
       "\tDevice Type:                 GPU\n",
       "\tCompute Units:               48\n",
       "\tGlobal Memory Size:          16375 MB\n",
       "\tLocal Memory Size:           0 MB\n",
       "\tMaximum Buffer Size:         4093 MB\n",
       "\tMax Clock Frequency:         1560 MHz\n",
       "\tImage Support:               Yes"
      ]
     },
     "execution_count": 62,
     "metadata": {},
     "output_type": "execute_result"
    }
   ],
   "source": [
    "import pyclesperanto as cle\n",
    "\n",
    "from skimage.io import imread, imsave, imshow\n",
    "import matplotlib\n",
    "import numpy as np\n",
    "\n",
    "cle.select_device('NVIDIA') # default initialization"
   ]
  },
  {
   "cell_type": "code",
   "execution_count": 63,
   "id": "b8c6a3a1-e530-47ed-9df6-937fc2a780f8",
   "metadata": {},
   "outputs": [],
   "source": [
    "array1 = np.asarray([1, 2, 3, 4, 5])\n",
    "array2 = np.asarray([6, 7, 8, 9, 10])\n",
    "\n",
    "vector1 = cle.push(array1)\n",
    "vector2 = cle.push(array2)"
   ]
  },
  {
   "cell_type": "markdown",
   "id": "ccfbe8c0-af4c-47e7-acaa-fabb519ec8dc",
   "metadata": {},
   "source": [
    "**In order to multiplicate matrices, the input matrices must be of size (n * m) and (m * n)**\n",
    "Therefore, we transpose one of our vectors:"
   ]
  },
  {
   "cell_type": "code",
   "execution_count": 64,
   "id": "27c87233-9e96-4ee3-88ae-8f84f408297c",
   "metadata": {},
   "outputs": [
    {
     "name": "stdout",
     "output_type": "stream",
     "text": [
      "Vector 1 (transposed): [[1]\n",
      " [2]\n",
      " [3]\n",
      " [4]\n",
      " [5]]\n",
      "Vector 2: [ 6  7  8  9 10]\n"
     ]
    }
   ],
   "source": [
    "vector1_t = cle.transpose_xy(vector1)\n",
    "\n",
    "print(\"Vector 1 (transposed): \" + str(vector1_t))\n",
    "print(\"Vector 2: \" + str(vector2))"
   ]
  },
  {
   "cell_type": "code",
   "execution_count": 65,
   "id": "f9453a73-1adb-4b00-ae95-735c29937a60",
   "metadata": {},
   "outputs": [
    {
     "name": "stdout",
     "output_type": "stream",
     "text": [
      "[[ 6.  7.  8.  9. 10.]\n",
      " [12. 14. 16. 18. 20.]\n",
      " [18. 21. 24. 27. 30.]\n",
      " [24. 28. 32. 36. 40.]\n",
      " [30. 35. 40. 45. 50.]]\n"
     ]
    }
   ],
   "source": [
    "matrix = cle.multiply_matrix(vector1_t, vector2)\n",
    "\n",
    "print(matrix)"
   ]
  },
  {
   "cell_type": "code",
   "execution_count": 66,
   "id": "709b8a07-3ba4-4614-8ea4-d6dde733c845",
   "metadata": {},
   "outputs": [
    {
     "name": "stderr",
     "output_type": "stream",
     "text": [
      "C:\\ProgramData\\anaconda3\\envs\\cle\\lib\\site-packages\\skimage\\io\\_plugins\\matplotlib_plugin.py:158: UserWarning: Float image out of standard range; displaying image with stretched contrast.\n",
      "  lo, hi, cmap = _get_display_range(image)\n"
     ]
    },
    {
     "data": {
      "text/plain": [
       "<matplotlib.image.AxesImage at 0x1b2166affd0>"
      ]
     },
     "execution_count": 66,
     "metadata": {},
     "output_type": "execute_result"
    },
    {
     "data": {
      "image/png": "[encoded data removed]",
      "text/plain": [
       "<Figure size 640x480 with 2 Axes>"
      ]
     },
     "metadata": {},
     "output_type": "display_data"
    }
   ],
   "source": [
    "imshow(matrix)"
   ]
  },
  {
   "cell_type": "code",
   "execution_count": 67,
   "id": "f8139f06-f22f-40da-ad48-948b2a1d9cd7",
   "metadata": {},
   "outputs": [
    {
     "name": "stdout",
     "output_type": "stream",
     "text": [
      "[[ 0.41473538  3.6062353   2.5677967   0.06447735  0.7195655 ]\n",
      " [ 8.924708   10.089663    5.4481134   8.124495   16.147964  ]\n",
      " [ 0.43985695  2.7657988   2.5112038   6.4456296  28.469168  ]\n",
      " [14.824368   27.542568    7.7397633  32.884617    6.761094  ]\n",
      " [11.323717   18.623734    6.127417   40.072937   20.90673   ]]\n"
     ]
    },
    {
     "data": {
      "text/plain": [
       "<matplotlib.image.AxesImage at 0x1b216a64d60>"
      ]
     },
     "execution_count": 67,
     "metadata": {},
     "output_type": "execute_result"
    },
    {
     "data": {
      "image/png": "[encoded data removed]",
      "text/plain": [
       "<Figure size 640x480 with 2 Axes>"
      ]
     },
     "metadata": {},
     "output_type": "display_data"
    }
   ],
   "source": [
    "# generate another matrix of the same size with random values\n",
    "another_matrix = cle.push(np.random.random(matrix.shape))\n",
    "\n",
    "# element by element multiplication\n",
    "matrix_element_wise_multiplied = cle.multiply_images(matrix, another_matrix)\n",
    "\n",
    "print(matrix_element_wise_multiplied)\n",
    "\n",
    "imshow(matrix_element_wise_multiplied)"
   ]
  },
  {
   "cell_type": "code",
   "execution_count": 68,
   "id": "168f78dd-0a33-4e78-b71e-1f90b077d6df",
   "metadata": {},
   "outputs": [
    {
     "name": "stdout",
     "output_type": "stream",
     "text": [
      "[[ 12.  14.  16.  18.  20.]\n",
      " [ 24.  28.  32.  36.  40.]\n",
      " [ 36.  42.  48.  54.  60.]\n",
      " [ 48.  56.  64.  72.  80.]\n",
      " [ 60.  70.  80.  90. 100.]]\n"
     ]
    }
   ],
   "source": [
    "elements_times_2 = cle.multiply_image_and_scalar(matrix, scalar=2)\n",
    "print(elements_times_2)"
   ]
  },
  {
   "cell_type": "markdown",
   "id": "52b7e6ec-a892-4498-85d9-e9ba9da0bf66",
   "metadata": {},
   "source": [
    "### 3D Vector and Matrices operations\n",
    "When dealing with three dimensional point coordinates, it is mandatory to take the voxel size into account, e.g. for measuring distances between points. This example shows how to multiply a ***list of coordinates*** by a given voxel size."
   ]
  },
  {
   "cell_type": "code",
   "execution_count": 69,
   "id": "aaa478a4-4bda-45bf-a46e-8c4654158ae4",
   "metadata": {},
   "outputs": [
    {
     "name": "stdout",
     "output_type": "stream",
     "text": [
      "Array shape: (3, 1)\n",
      "GPU array shape: (3, 1)\n"
     ]
    }
   ],
   "source": [
    "voxel_size = np.asarray([[0.2], [0.2], [0.5]])\n",
    "gpu_voxel_size = cle.push(voxel_size)\n",
    "\n",
    "print(f\"Array shape: {voxel_size.shape}\")\n",
    "print(f\"GPU array shape: {gpu_voxel_size.shape}\")"
   ]
  },
  {
   "cell_type": "code",
   "execution_count": 70,
   "id": "90691e2a-c799-4db9-b0d3-699bfd71eb64",
   "metadata": {},
   "outputs": [
    {
     "name": "stdout",
     "output_type": "stream",
     "text": [
      "Array shape: (3, 4)\n",
      "GPU array shape: (3, 4)\n"
     ]
    }
   ],
   "source": [
    "pointlist = np.asarray(\n",
    "    [\n",
    "        [1, 3,  5, 11], # X\n",
    "        [0, 6,  1, 2 ], # Y\n",
    "        [9, 11, 6, 2 ]  # Z\n",
    "    ]\n",
    ")\n",
    "gpu_pointlist = cle.push(pointlist)\n",
    "\n",
    "print(f\"Array shape: {pointlist.shape}\")\n",
    "print(f\"GPU array shape: {gpu_pointlist.shape}\")"
   ]
  },
  {
   "cell_type": "code",
   "execution_count": 71,
   "id": "1987ce31-7a0d-416b-9718-356eebfaf4a4",
   "metadata": {},
   "outputs": [
    {
     "name": "stdout",
     "output_type": "stream",
     "text": [
      "[[0.2]\n",
      " [0.2]\n",
      " [0.5]]\n"
     ]
    }
   ],
   "source": [
    "print(gpu_voxel_size)"
   ]
  },
  {
   "cell_type": "code",
   "execution_count": 72,
   "id": "56e1e9f2-7fc0-4b09-bfd2-5a3af37aa9e0",
   "metadata": {},
   "outputs": [
    {
     "name": "stdout",
     "output_type": "stream",
     "text": [
      "[[ 1  3  5 11]\n",
      " [ 0  6  1  2]\n",
      " [ 9 11  6  2]]\n"
     ]
    }
   ],
   "source": [
    "print(gpu_pointlist)"
   ]
  },
  {
   "cell_type": "code",
   "execution_count": 73,
   "id": "c8ba9ad5-af11-4948-8477-bfb1653060d7",
   "metadata": {},
   "outputs": [
    {
     "name": "stdout",
     "output_type": "stream",
     "text": [
      "[[0 0 1 2]\n",
      " [0 1 0 0]\n",
      " [4 5 3 1]]\n"
     ]
    }
   ],
   "source": [
    "gpu_updated_pointlist = cle.multiply_images(gpu_pointlist, gpu_voxel_size)\n",
    "#similar to scaling the image\n",
    "print(gpu_updated_pointlist)"
   ]
  },
  {
   "cell_type": "code",
   "execution_count": null,
   "id": "dea5c003-bf48-43b3-872b-a1e05164c16a",
   "metadata": {},
   "outputs": [],
   "source": []
  }
 ],
 "metadata": {
  "kernelspec": {
   "display_name": "cle",
   "language": "python",
   "name": "cle"
  },
  "language_info": {
   "codemirror_mode": {
    "name": "ipython",
    "version": 3
   },
   "file_extension": ".py",
   "mimetype": "text/x-python",
   "name": "python",
   "nbconvert_exporter": "python",
   "pygments_lexer": "ipython3",
   "version": "3.9.21"
  }
 },
 "nbformat": 4,
 "nbformat_minor": 5
}
