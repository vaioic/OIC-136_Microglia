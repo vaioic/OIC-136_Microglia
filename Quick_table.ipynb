{
 "cells": [
  {
   "cell_type": "code",
   "execution_count": 1,
   "id": "00e5e54a",
   "metadata": {},
   "outputs": [],
   "source": [
    "import pandas as pd"
   ]
  },
  {
   "cell_type": "code",
   "execution_count": 4,
   "id": "628a050e",
   "metadata": {},
   "outputs": [
    {
     "name": "stdout",
     "output_type": "stream",
     "text": [
      "|    |   Unnamed: 0 |   label |   area |   intensity_mean |   intensity_min |   intensity_max |   Volume (um^3) |   Surface_Area (um^2) |   Sphericity |\n",
      "|---:|-------------:|--------:|-------:|-----------------:|----------------:|----------------:|----------------:|----------------------:|-------------:|\n",
      "|  0 |            0 |       1 |   4692 |          119.693 |              89 |             173 |         1934.2  |               1825.42 |     0.411267 |\n",
      "|  1 |            1 |       2 |   5372 |          142.359 |              82 |             300 |         2214.52 |               1633.39 |     0.503015 |\n",
      "|  2 |            2 |       5 |   2761 |          116.97  |              83 |             164 |         1138.18 |               1208.15 |     0.436351 |\n",
      "|  3 |            3 |       6 |   3651 |          126.423 |              82 |             219 |         1505.07 |               1193.5  |     0.532147 |\n",
      "|  4 |            4 |       8 |  19592 |          117.292 |              69 |             166 |         8076.5  |               4817.6  |     0.404081 |\n"
     ]
    }
   ],
   "source": [
    "df = pd.read_csv(\"E:\\ParadaKusz_Lab\\Test_Outputs\\measurements\\measurements_gnas_MO_2ng_05.csv\")\n",
    "df = df[:5]\n",
    "markdown_table = df.to_markdown()\n",
    "print(markdown_table)"
   ]
  },
  {
   "cell_type": "code",
   "execution_count": null,
   "id": "ee0b78c1",
   "metadata": {},
   "outputs": [],
   "source": []
  }
 ],
 "metadata": {
  "kernelspec": {
   "display_name": "CellPose_CLE_Skan",
   "language": "python",
   "name": "cellpose_cle_skan"
  },
  "language_info": {
   "codemirror_mode": {
    "name": "ipython",
    "version": 3
   },
   "file_extension": ".py",
   "mimetype": "text/x-python",
   "name": "python",
   "nbconvert_exporter": "python",
   "pygments_lexer": "ipython3",
   "version": "3.10.16"
  }
 },
 "nbformat": 4,
 "nbformat_minor": 5
}
