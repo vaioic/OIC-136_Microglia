{
 "cells": [
  {
   "cell_type": "code",
   "execution_count": 20,
   "id": "e64799d4",
   "metadata": {},
   "outputs": [],
   "source": [
    "import numpy as np\n",
    "import skimage as sk\n",
    "from glob import glob\n",
    "import napari\n",
    "from cellpose import io, models, train\n",
    "import os\n"
   ]
  },
  {
   "cell_type": "code",
   "execution_count": 21,
   "id": "736b0b6a",
   "metadata": {},
   "outputs": [],
   "source": [
    "img_files = sorted(glob(\"../Microglia_CellPose_Model/Images/*.tif\"))\n",
    "mask_files = sorted(glob(\"../Microglia_CellPose_Model/Masks/*.tif\"))\n",
    "imgs = list(map(sk.io.imread, img_files))\n",
    "masks = list(map(sk.io.imread, mask_files))"
   ]
  },
  {
   "cell_type": "code",
   "execution_count": 23,
   "id": "2e07001b",
   "metadata": {},
   "outputs": [],
   "source": [
    "os.mkdir('../Microglia_CellPose_Model/Training')\n",
    "save = '../Microglia_CellPose_Model/Training'\n",
    "unstacked_imgs = []\n",
    "unstacked_masks = []\n",
    "for i in range(len(imgs)):\n",
    "    split_img = np.split(imgs[i], imgs[i].shape[0],axis=0)\n",
    "    split_mask = np.split(masks[i], masks[i].shape[0],axis=0)\n",
    "    for c in range(len(split_img)):\n",
    "        sk.io.imsave(os.path.join(save,\"Img_0\"+str(i)+\"_\"+str(c)+\".tif\"),split_img[c])\n",
    "        sk.io.imsave(os.path.join(save,\"Img_0\"+str(i)+\"_\"+str(c)+\"_mask.tif\"),split_img[c])"
   ]
  },
  {
   "cell_type": "code",
   "execution_count": null,
   "id": "a80aeb43",
   "metadata": {},
   "outputs": [
    {
     "data": {
      "text/plain": [
       "41"
      ]
     },
     "execution_count": 19,
     "metadata": {},
     "output_type": "execute_result"
    }
   ],
   "source": []
  }
 ],
 "metadata": {
  "kernelspec": {
   "display_name": "CellPose_CLE_Skan",
   "language": "python",
   "name": "cellpose_cle_skan"
  },
  "language_info": {
   "codemirror_mode": {
    "name": "ipython",
    "version": 3
   },
   "file_extension": ".py",
   "mimetype": "text/x-python",
   "name": "python",
   "nbconvert_exporter": "python",
   "pygments_lexer": "ipython3",
   "version": "3.10.16"
  }
 },
 "nbformat": 4,
 "nbformat_minor": 5
}
