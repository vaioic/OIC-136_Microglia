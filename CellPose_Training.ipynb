{
 "cells": [
  {
   "cell_type": "code",
   "execution_count": 20,
   "id": "e64799d4",
   "metadata": {},
   "outputs": [],
   "source": [
    "import numpy as np\n",
    "import skimage as sk\n",
    "from glob import glob\n",
    "import napari\n",
    "from cellpose import io, models, train\n",
    "import os\n"
   ]
  },
  {
   "cell_type": "code",
   "execution_count": 21,
   "id": "736b0b6a",
   "metadata": {},
   "outputs": [],
   "source": [
    "img_files = sorted(glob(\"../Microglia_CellPose_Model/Images/*.tif\"))\n",
    "mask_files = sorted(glob(\"../Microglia_CellPose_Model/Masks/*.tif\"))\n",
    "imgs = list(map(sk.io.imread, img_files))\n",
    "masks = list(map(sk.io.imread, mask_files))"
   ]
  },
  {
   "cell_type": "code",
   "execution_count": null,
   "id": "2e07001b",
   "metadata": {},
   "outputs": [],
   "source": [
    "os.mkdir('../Microglia_CellPose_Model/Training')\n",
    "save = '../Microglia_CellPose_Model/Training'\n",
    "for i in range(len(imgs)):\n",
    "    split_img = np.split(imgs[i], imgs[i].shape[0],axis=0)\n",
    "    split_mask = np.split(masks[i], masks[i].shape[0],axis=0)\n",
    "    for c in range(len(split_img)):\n",
    "        if np.max(split_mask[c]) == 0:\n",
    "            continue\n",
    "        else:\n",
    "        sk.io.imsave(os.path.join(save,\"Img_0\"+str(i)+\"_\"+str(c)+\".tif\"),split_img[c])\n",
    "        sk.io.imsave(os.path.join(save,\"Img_0\"+str(i)+\"_\"+str(c)+\"_mask.tif\"),split_mask[c])"
   ]
  },
  {
   "cell_type": "code",
   "execution_count": 24,
   "id": "a2212f97",
   "metadata": {},
   "outputs": [
    {
     "name": "stdout",
     "output_type": "stream",
     "text": [
      "Help on function load_train_test_data in module cellpose.io:\n",
      "\n",
      "load_train_test_data(train_dir, test_dir=None, image_filter=None, mask_filter='_masks', look_one_level_down=False)\n",
      "    Loads training and testing data for a Cellpose model.\n",
      "    \n",
      "    Args:\n",
      "        train_dir (str): The directory path containing the training data.\n",
      "        test_dir (str, optional): The directory path containing the testing data. Defaults to None.\n",
      "        image_filter (str, optional): The filter for selecting image files. Defaults to None.\n",
      "        mask_filter (str, optional): The filter for selecting mask files. Defaults to \"_masks\".\n",
      "        look_one_level_down (bool, optional): Whether to look for data in subdirectories of train_dir and test_dir. Defaults to False.\n",
      "    \n",
      "    Returns:\n",
      "        images, labels, image_names, test_images, test_labels, test_image_names\n",
      "\n"
     ]
    }
   ],
   "source": [
    "help(io.load_train_test_data)"
   ]
  },
  {
   "cell_type": "code",
   "execution_count": null,
   "id": "a80aeb43",
   "metadata": {},
   "outputs": [
    {
     "data": {
      "text/plain": [
       "41"
      ]
     },
     "execution_count": 19,
     "metadata": {},
     "output_type": "execute_result"
    }
   ],
   "source": [
    "train_dir = 'E:\\ParadaKusz_Lab\\Microglia_CellPose_Model\\Training\\'\n",
    "test_dir = 'E:\\ParadaKusz_Lab\\Microglia_CellPose_Model\\Test\\'\n",
    "io.logger_setup()\n",
    "\n",
    "output = io.load_train_test_data(train_dir, test_dir,\n",
    "                                mask_filter=\"_mask\", look_one_level_down=False)\n",
    "images, labels, image_names, test_images, test_labels, image_names_test = output\n",
    "\n",
    "model = models.CellposeModel(model_type=\"cyto3\",gpu=True)\n",
    "\n",
    "model_path, train_losses, test_losses = train.train_seg(model.net,\n",
    "                            train_data=images, train_labels=labels,\n",
    "                            test_data=test_images, test_labels=test_labels,\n",
    "                            weight_decay=0.1, learning_rate=1e-5,\n",
    "                            n_epochs=100, model_name=\"Test\")"
   ]
  }
 ],
 "metadata": {
  "kernelspec": {
   "display_name": "CellPose_CLE_Skan",
   "language": "python",
   "name": "cellpose_cle_skan"
  },
  "language_info": {
   "codemirror_mode": {
    "name": "ipython",
    "version": 3
   },
   "file_extension": ".py",
   "mimetype": "text/x-python",
   "name": "python",
   "nbconvert_exporter": "python",
   "pygments_lexer": "ipython3",
   "version": "3.10.16"
  }
 },
 "nbformat": 4,
 "nbformat_minor": 5
}
