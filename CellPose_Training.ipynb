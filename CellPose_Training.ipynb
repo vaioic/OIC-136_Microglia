{
 "cells": [
  {
   "cell_type": "code",
   "execution_count": 1,
   "id": "e64799d4",
   "metadata": {},
   "outputs": [],
   "source": [
    "import numpy as np\n",
    "import skimage as sk\n",
    "from glob import glob\n",
    "import napari\n",
    "from cellpose import io, models, train\n"
   ]
  },
  {
   "cell_type": "code",
   "execution_count": null,
   "id": "736b0b6a",
   "metadata": {},
   "outputs": [],
   "source": [
    "img_files = "
   ]
  }
 ],
 "metadata": {
  "kernelspec": {
   "display_name": "CellPose_CLE_Skan",
   "language": "python",
   "name": "cellpose_cle_skan"
  },
  "language_info": {
   "codemirror_mode": {
    "name": "ipython",
    "version": 3
   },
   "file_extension": ".py",
   "mimetype": "text/x-python",
   "name": "python",
   "nbconvert_exporter": "python",
   "pygments_lexer": "ipython3",
   "version": "3.10.16"
  }
 },
 "nbformat": 4,
 "nbformat_minor": 5
}
